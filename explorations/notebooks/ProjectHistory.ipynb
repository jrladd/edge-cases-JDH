{
 "cells": [
  {
   "cell_type": "code",
   "execution_count": 42,
   "metadata": {},
   "outputs": [],
   "source": [
    "import pandas as pd\n",
    "import altair as alt\n",
    "alt.renderers.enable(\"mimetype\")\n",
    "alt.data_transformers.disable_max_rows()\n",
    "import warnings\n",
    "warnings.filterwarnings('ignore')\n",
    "\n",
    "import sys\n",
    "sys.path.append('../../')\n",
    "from script.utils import save_chart"
   ]
  },
  {
   "cell_type": "code",
   "execution_count": 21,
   "metadata": {},
   "outputs": [],
   "source": [
    "nn_repo_df = pd.read_csv(\"../../explorations/datasets/network_navigator_repo.csv\")\n",
    "nn_commits_df = pd.read_csv(\"../../explorations/datasets/network_navigator_commits.csv\")"
   ]
  },
  {
   "cell_type": "code",
   "execution_count": 22,
   "metadata": {},
   "outputs": [],
   "source": [
    "nn_commits_df['commit.author.date'] = pd.to_datetime(nn_commits_df['commit.author.date'], errors='coerce')"
   ]
  },
  {
   "cell_type": "code",
   "execution_count": 25,
   "metadata": {},
   "outputs": [],
   "source": [
    "nn_commits_df.loc[nn_commits_df['commit.author.name'] == 'Zoe LeBlanc', 'commit.author.name'] = 'ZoeLeBlanc'"
   ]
  },
  {
   "cell_type": "code",
   "execution_count": 26,
   "metadata": {},
   "outputs": [
    {
     "data": {
      "text/plain": [
       "JR Ladd            171\n",
       "ZoeLeBlanc          45\n",
       "Matthew Lincoln      1\n",
       "Name: commit.author.name, dtype: int64"
      ]
     },
     "execution_count": 26,
     "metadata": {},
     "output_type": "execute_result"
    }
   ],
   "source": [
    "nn_commits_df['commit.author.name'].value_counts()"
   ]
  },
  {
   "cell_type": "code",
   "execution_count": 66,
   "metadata": {},
   "outputs": [],
   "source": [
    "subset_commits_df = nn_commits_df[['commit.author.name', 'commit.author.date', 'stats.total', 'stats.additions', 'stats.deletions']]\n",
    "\n",
    "cols = subset_commits_df.columns\n",
    "cols = [col.replace('.', '_') for col in cols]\n",
    "subset_commits_df.columns = cols\n",
    "\n",
    "# Prepare data for symmetric bar chart\n",
    "df_additions = subset_commits_df[[\"commit_author_name\", \"commit_author_date\", \"stats_additions\"]].copy()\n",
    "df_additions[\"type\"] = \"additions\"\n",
    "df_additions.rename(columns={\"stats_additions\": \"value\"}, inplace=True)\n",
    "\n",
    "df_deletions = subset_commits_df[[\"commit_author_name\", \"commit_author_date\", \"stats_deletions\"]].copy()\n",
    "df_deletions[\"type\"] = \"deletions\"\n",
    "df_deletions[\"stats_deletions\"] = -df_deletions[\"stats_deletions\"]\n",
    "df_deletions.rename(columns={\"stats_deletions\": \"value\"}, inplace=True)\n",
    "\n",
    "df_graph = pd.concat([df_additions, df_deletions])\n"
   ]
  },
  {
   "cell_type": "code",
   "execution_count": 96,
   "metadata": {},
   "outputs": [
    {
     "data": {
      "application/vnd.vegalite.v5+json": {
       "$schema": "https://vega.github.io/schema/vega-lite/v5.8.0.json",
       "config": {
        "view": {
         "continuousHeight": 300,
         "continuousWidth": 300
        }
       },
       "data": {
        "name": "data-43627ec4c851e9d01316f70aa503a807"
       },
       "datasets": {
        "data-43627ec4c851e9d01316f70aa503a807": [
         {
          "commit_author_date": "2021-07-23T14:12:01+00:00",
          "commit_author_name": "JR Ladd",
          "type": "additions",
          "value": 1
         },
         {
          "commit_author_date": "2021-07-02T18:19:38+00:00",
          "commit_author_name": "JR Ladd",
          "type": "additions",
          "value": 1
         },
         {
          "commit_author_date": "2021-06-30T19:43:16+00:00",
          "commit_author_name": "JR Ladd",
          "type": "additions",
          "value": 1
         },
         {
          "commit_author_date": "2021-06-30T19:15:00+00:00",
          "commit_author_name": "JR Ladd",
          "type": "additions",
          "value": 1
         },
         {
          "commit_author_date": "2021-06-30T19:07:56+00:00",
          "commit_author_name": "JR Ladd",
          "type": "additions",
          "value": 1
         },
         {
          "commit_author_date": "2021-06-30T19:05:38+00:00",
          "commit_author_name": "JR Ladd",
          "type": "additions",
          "value": 0
         },
         {
          "commit_author_date": "2021-06-30T18:54:13+00:00",
          "commit_author_name": "JR Ladd",
          "type": "additions",
          "value": 2653
         },
         {
          "commit_author_date": "2021-06-30T18:53:26+00:00",
          "commit_author_name": "JR Ladd",
          "type": "additions",
          "value": 824
         },
         {
          "commit_author_date": "2021-06-29T20:31:27+00:00",
          "commit_author_name": "JR Ladd",
          "type": "additions",
          "value": 2
         },
         {
          "commit_author_date": "2021-06-29T19:58:15+00:00",
          "commit_author_name": "JR Ladd",
          "type": "additions",
          "value": 3
         },
         {
          "commit_author_date": "2021-06-29T19:49:55+00:00",
          "commit_author_name": "JR Ladd",
          "type": "additions",
          "value": 2
         },
         {
          "commit_author_date": "2021-06-15T20:18:05+00:00",
          "commit_author_name": "JR Ladd",
          "type": "additions",
          "value": 1050
         },
         {
          "commit_author_date": "2021-06-08T14:44:04+00:00",
          "commit_author_name": "JR Ladd",
          "type": "additions",
          "value": 5
         },
         {
          "commit_author_date": "2021-06-08T14:39:41+00:00",
          "commit_author_name": "JR Ladd",
          "type": "additions",
          "value": 1
         },
         {
          "commit_author_date": "2021-06-08T14:35:47+00:00",
          "commit_author_name": "JR Ladd",
          "type": "additions",
          "value": 8
         },
         {
          "commit_author_date": "2021-06-08T14:24:28+00:00",
          "commit_author_name": "JR Ladd",
          "type": "additions",
          "value": 1
         },
         {
          "commit_author_date": "2021-06-02T14:38:03+00:00",
          "commit_author_name": "JR Ladd",
          "type": "additions",
          "value": 7
         },
         {
          "commit_author_date": "2021-06-02T14:16:03+00:00",
          "commit_author_name": "JR Ladd",
          "type": "additions",
          "value": 21
         },
         {
          "commit_author_date": "2021-06-01T17:14:41+00:00",
          "commit_author_name": "JR Ladd",
          "type": "additions",
          "value": 5
         },
         {
          "commit_author_date": "2021-06-01T16:40:31+00:00",
          "commit_author_name": "JR Ladd",
          "type": "additions",
          "value": 12
         },
         {
          "commit_author_date": "2021-05-27T21:41:00+00:00",
          "commit_author_name": "JR Ladd",
          "type": "additions",
          "value": 2
         },
         {
          "commit_author_date": "2021-05-27T21:35:59+00:00",
          "commit_author_name": "JR Ladd",
          "type": "additions",
          "value": 0
         },
         {
          "commit_author_date": "2021-05-27T21:35:27+00:00",
          "commit_author_name": "JR Ladd",
          "type": "additions",
          "value": 78
         },
         {
          "commit_author_date": "2021-05-27T21:35:12+00:00",
          "commit_author_name": "JR Ladd",
          "type": "additions",
          "value": 2
         },
         {
          "commit_author_date": "2021-05-27T20:35:41+00:00",
          "commit_author_name": "JR Ladd",
          "type": "additions",
          "value": 25
         },
         {
          "commit_author_date": "2021-05-27T20:09:38+00:00",
          "commit_author_name": "JR Ladd",
          "type": "additions",
          "value": 4
         },
         {
          "commit_author_date": "2021-05-25T18:07:10+00:00",
          "commit_author_name": "ZoeLeBlanc",
          "type": "additions",
          "value": 12
         },
         {
          "commit_author_date": "2021-05-23T21:45:28+00:00",
          "commit_author_name": "JR Ladd",
          "type": "additions",
          "value": 18
         },
         {
          "commit_author_date": "2021-05-23T21:17:10+00:00",
          "commit_author_name": "JR Ladd",
          "type": "additions",
          "value": 11
         },
         {
          "commit_author_date": "2021-05-23T21:03:23+00:00",
          "commit_author_name": "JR Ladd",
          "type": "additions",
          "value": 3
         },
         {
          "commit_author_date": "2021-05-23T20:47:39+00:00",
          "commit_author_name": "JR Ladd",
          "type": "additions",
          "value": 8
         },
         {
          "commit_author_date": "2021-05-23T20:36:40+00:00",
          "commit_author_name": "JR Ladd",
          "type": "additions",
          "value": 1
         },
         {
          "commit_author_date": "2021-05-23T20:29:30+00:00",
          "commit_author_name": "JR Ladd",
          "type": "additions",
          "value": 3
         },
         {
          "commit_author_date": "2021-05-23T20:11:03+00:00",
          "commit_author_name": "JR Ladd",
          "type": "additions",
          "value": 6
         },
         {
          "commit_author_date": "2021-05-18T23:33:45+00:00",
          "commit_author_name": "ZoeLeBlanc",
          "type": "additions",
          "value": 27
         },
         {
          "commit_author_date": "2021-05-05T22:52:20+00:00",
          "commit_author_name": "JR Ladd",
          "type": "additions",
          "value": 1
         },
         {
          "commit_author_date": "2021-05-05T22:43:43+00:00",
          "commit_author_name": "JR Ladd",
          "type": "additions",
          "value": 154
         },
         {
          "commit_author_date": "2021-05-05T21:21:48+00:00",
          "commit_author_name": "JR Ladd",
          "type": "additions",
          "value": 90
         },
         {
          "commit_author_date": "2021-05-05T15:10:49+00:00",
          "commit_author_name": "JR Ladd",
          "type": "additions",
          "value": 0
         },
         {
          "commit_author_date": "2021-05-04T14:59:30+00:00",
          "commit_author_name": "JR Ladd",
          "type": "additions",
          "value": 29
         },
         {
          "commit_author_date": "2021-05-02T15:13:22+00:00",
          "commit_author_name": "JR Ladd",
          "type": "additions",
          "value": 0
         },
         {
          "commit_author_date": "2021-05-02T15:12:47+00:00",
          "commit_author_name": "JR Ladd",
          "type": "additions",
          "value": 100
         },
         {
          "commit_author_date": "2021-04-30T21:27:41+00:00",
          "commit_author_name": "JR Ladd",
          "type": "additions",
          "value": 9
         },
         {
          "commit_author_date": "2021-04-30T21:15:52+00:00",
          "commit_author_name": "JR Ladd",
          "type": "additions",
          "value": 46
         },
         {
          "commit_author_date": "2021-04-30T19:50:38+00:00",
          "commit_author_name": "JR Ladd",
          "type": "additions",
          "value": 1
         },
         {
          "commit_author_date": "2021-04-30T17:16:06+00:00",
          "commit_author_name": "JR Ladd",
          "type": "additions",
          "value": 1
         },
         {
          "commit_author_date": "2021-04-30T17:11:43+00:00",
          "commit_author_name": "JR Ladd",
          "type": "additions",
          "value": 46
         },
         {
          "commit_author_date": "2021-04-29T21:52:36+00:00",
          "commit_author_name": "JR Ladd",
          "type": "additions",
          "value": 57
         },
         {
          "commit_author_date": "2021-04-29T20:33:32+00:00",
          "commit_author_name": "JR Ladd",
          "type": "additions",
          "value": 2
         },
         {
          "commit_author_date": "2021-04-29T20:09:46+00:00",
          "commit_author_name": "JR Ladd",
          "type": "additions",
          "value": 14
         },
         {
          "commit_author_date": "2021-04-29T18:49:00+00:00",
          "commit_author_name": "JR Ladd",
          "type": "additions",
          "value": 21
         },
         {
          "commit_author_date": "2021-04-29T18:19:12+00:00",
          "commit_author_name": "JR Ladd",
          "type": "additions",
          "value": 1
         },
         {
          "commit_author_date": "2021-04-29T17:19:17+00:00",
          "commit_author_name": "JR Ladd",
          "type": "additions",
          "value": 47
         },
         {
          "commit_author_date": "2021-04-28T22:53:53+00:00",
          "commit_author_name": "JR Ladd",
          "type": "additions",
          "value": 20
         },
         {
          "commit_author_date": "2021-04-28T21:27:52+00:00",
          "commit_author_name": "JR Ladd",
          "type": "additions",
          "value": 37
         },
         {
          "commit_author_date": "2021-04-26T21:19:42+00:00",
          "commit_author_name": "JR Ladd",
          "type": "additions",
          "value": 5
         },
         {
          "commit_author_date": "2021-04-23T22:58:07+00:00",
          "commit_author_name": "JR Ladd",
          "type": "additions",
          "value": 1
         },
         {
          "commit_author_date": "2021-04-23T22:25:04+00:00",
          "commit_author_name": "JR Ladd",
          "type": "additions",
          "value": 51
         },
         {
          "commit_author_date": "2021-04-10T22:58:49+00:00",
          "commit_author_name": "JR Ladd",
          "type": "additions",
          "value": 20
         },
         {
          "commit_author_date": "2021-04-10T22:15:01+00:00",
          "commit_author_name": "JR Ladd",
          "type": "additions",
          "value": 9
         },
         {
          "commit_author_date": "2021-04-10T22:09:05+00:00",
          "commit_author_name": "JR Ladd",
          "type": "additions",
          "value": 10
         },
         {
          "commit_author_date": "2021-04-10T19:40:29+00:00",
          "commit_author_name": "JR Ladd",
          "type": "additions",
          "value": 10
         },
         {
          "commit_author_date": "2021-04-10T18:21:17+00:00",
          "commit_author_name": "JR Ladd",
          "type": "additions",
          "value": 8
         },
         {
          "commit_author_date": "2021-04-10T18:08:14+00:00",
          "commit_author_name": "JR Ladd",
          "type": "additions",
          "value": 11
         },
         {
          "commit_author_date": "2021-04-10T17:01:51+00:00",
          "commit_author_name": "JR Ladd",
          "type": "additions",
          "value": 7
         },
         {
          "commit_author_date": "2021-04-10T16:44:37+00:00",
          "commit_author_name": "JR Ladd",
          "type": "additions",
          "value": 14
         },
         {
          "commit_author_date": "2021-04-10T16:32:30+00:00",
          "commit_author_name": "JR Ladd",
          "type": "additions",
          "value": 1
         },
         {
          "commit_author_date": "2021-04-08T20:51:24+00:00",
          "commit_author_name": "JR Ladd",
          "type": "additions",
          "value": 12
         },
         {
          "commit_author_date": "2021-04-08T20:49:01+00:00",
          "commit_author_name": "JR Ladd",
          "type": "additions",
          "value": 18
         },
         {
          "commit_author_date": "2021-04-07T19:46:34+00:00",
          "commit_author_name": "JR Ladd",
          "type": "additions",
          "value": 1
         },
         {
          "commit_author_date": "2021-04-07T19:29:24+00:00",
          "commit_author_name": "JR Ladd",
          "type": "additions",
          "value": 1
         },
         {
          "commit_author_date": "2021-04-07T19:26:03+00:00",
          "commit_author_name": "JR Ladd",
          "type": "additions",
          "value": 1
         },
         {
          "commit_author_date": "2021-04-07T17:39:03+00:00",
          "commit_author_name": "JR Ladd",
          "type": "additions",
          "value": 8
         },
         {
          "commit_author_date": "2021-04-07T17:27:23+00:00",
          "commit_author_name": "JR Ladd",
          "type": "additions",
          "value": 4
         },
         {
          "commit_author_date": "2021-04-02T20:16:17+00:00",
          "commit_author_name": "JR Ladd",
          "type": "additions",
          "value": 7
         },
         {
          "commit_author_date": "2021-04-02T18:08:39+00:00",
          "commit_author_name": "JR Ladd",
          "type": "additions",
          "value": 18
         },
         {
          "commit_author_date": "2021-04-02T17:28:48+00:00",
          "commit_author_name": "JR Ladd",
          "type": "additions",
          "value": 4
         },
         {
          "commit_author_date": "2021-04-02T17:15:08+00:00",
          "commit_author_name": "JR Ladd",
          "type": "additions",
          "value": 1
         },
         {
          "commit_author_date": "2021-04-02T17:12:32+00:00",
          "commit_author_name": "JR Ladd",
          "type": "additions",
          "value": 42
         },
         {
          "commit_author_date": "2021-03-11T23:13:44+00:00",
          "commit_author_name": "JR Ladd",
          "type": "additions",
          "value": 2
         },
         {
          "commit_author_date": "2021-03-11T23:11:48+00:00",
          "commit_author_name": "JR Ladd",
          "type": "additions",
          "value": 1
         },
         {
          "commit_author_date": "2021-03-11T22:59:18+00:00",
          "commit_author_name": "JR Ladd",
          "type": "additions",
          "value": 353
         },
         {
          "commit_author_date": "2021-03-11T17:51:27+00:00",
          "commit_author_name": "ZoeLeBlanc",
          "type": "additions",
          "value": 5
         },
         {
          "commit_author_date": "2021-03-11T17:25:31+00:00",
          "commit_author_name": "ZoeLeBlanc",
          "type": "additions",
          "value": 135
         },
         {
          "commit_author_date": "2021-03-11T17:25:26+00:00",
          "commit_author_name": "ZoeLeBlanc",
          "type": "additions",
          "value": 8
         },
         {
          "commit_author_date": "2021-03-10T23:57:42+00:00",
          "commit_author_name": "JR Ladd",
          "type": "additions",
          "value": 1
         },
         {
          "commit_author_date": "2021-03-10T23:52:46+00:00",
          "commit_author_name": "JR Ladd",
          "type": "additions",
          "value": 2
         },
         {
          "commit_author_date": "2021-03-10T23:47:41+00:00",
          "commit_author_name": "JR Ladd",
          "type": "additions",
          "value": 0
         },
         {
          "commit_author_date": "2021-03-10T23:46:48+00:00",
          "commit_author_name": "JR Ladd",
          "type": "additions",
          "value": 89
         },
         {
          "commit_author_date": "2021-03-10T23:13:41+00:00",
          "commit_author_name": "JR Ladd",
          "type": "additions",
          "value": 25
         },
         {
          "commit_author_date": "2021-03-10T23:03:33+00:00",
          "commit_author_name": "JR Ladd",
          "type": "additions",
          "value": 6
         },
         {
          "commit_author_date": "2021-03-10T22:48:37+00:00",
          "commit_author_name": "JR Ladd",
          "type": "additions",
          "value": 3
         },
         {
          "commit_author_date": "2021-03-10T22:35:31+00:00",
          "commit_author_name": "JR Ladd",
          "type": "additions",
          "value": 13
         },
         {
          "commit_author_date": "2021-03-10T22:06:28+00:00",
          "commit_author_name": "JR Ladd",
          "type": "additions",
          "value": 2
         },
         {
          "commit_author_date": "2021-03-10T21:08:54+00:00",
          "commit_author_name": "ZoeLeBlanc",
          "type": "additions",
          "value": 108
         },
         {
          "commit_author_date": "2021-03-10T21:04:55+00:00",
          "commit_author_name": "ZoeLeBlanc",
          "type": "additions",
          "value": 34
         },
         {
          "commit_author_date": "2021-03-02T20:03:16+00:00",
          "commit_author_name": "JR Ladd",
          "type": "additions",
          "value": 1
         },
         {
          "commit_author_date": "2021-03-02T20:00:58+00:00",
          "commit_author_name": "JR Ladd",
          "type": "additions",
          "value": 2
         },
         {
          "commit_author_date": "2021-03-02T19:38:31+00:00",
          "commit_author_name": "JR Ladd",
          "type": "additions",
          "value": 7
         },
         {
          "commit_author_date": "2021-03-02T19:26:00+00:00",
          "commit_author_name": "JR Ladd",
          "type": "additions",
          "value": 3
         },
         {
          "commit_author_date": "2021-03-02T16:20:13+00:00",
          "commit_author_name": "JR Ladd",
          "type": "additions",
          "value": 31
         },
         {
          "commit_author_date": "2021-03-01T21:18:18+00:00",
          "commit_author_name": "JR Ladd",
          "type": "additions",
          "value": 62
         },
         {
          "commit_author_date": "2021-03-01T19:19:57+00:00",
          "commit_author_name": "JR Ladd",
          "type": "additions",
          "value": 10
         },
         {
          "commit_author_date": "2021-03-01T16:47:31+00:00",
          "commit_author_name": "JR Ladd",
          "type": "additions",
          "value": 2
         },
         {
          "commit_author_date": "2021-02-23T21:28:35+00:00",
          "commit_author_name": "ZoeLeBlanc",
          "type": "additions",
          "value": 6
         },
         {
          "commit_author_date": "2021-02-23T14:45:00+00:00",
          "commit_author_name": "ZoeLeBlanc",
          "type": "additions",
          "value": 37
         },
         {
          "commit_author_date": "2021-02-23T03:30:47+00:00",
          "commit_author_name": "ZoeLeBlanc",
          "type": "additions",
          "value": 75
         },
         {
          "commit_author_date": "2021-02-18T21:38:36+00:00",
          "commit_author_name": "JR Ladd",
          "type": "additions",
          "value": 428
         },
         {
          "commit_author_date": "2021-02-18T21:35:59+00:00",
          "commit_author_name": "JR Ladd",
          "type": "additions",
          "value": 0
         },
         {
          "commit_author_date": "2021-02-18T21:34:31+00:00",
          "commit_author_name": "JR Ladd",
          "type": "additions",
          "value": 5
         },
         {
          "commit_author_date": "2021-02-18T21:26:12+00:00",
          "commit_author_name": "JR Ladd",
          "type": "additions",
          "value": 3
         },
         {
          "commit_author_date": "2021-02-18T16:58:48+00:00",
          "commit_author_name": "JR Ladd",
          "type": "additions",
          "value": 3
         },
         {
          "commit_author_date": "2021-02-17T22:36:29+00:00",
          "commit_author_name": "ZoeLeBlanc",
          "type": "additions",
          "value": 3
         },
         {
          "commit_author_date": "2021-02-17T22:09:03+00:00",
          "commit_author_name": "ZoeLeBlanc",
          "type": "additions",
          "value": 16
         },
         {
          "commit_author_date": "2021-02-16T23:14:04+00:00",
          "commit_author_name": "ZoeLeBlanc",
          "type": "additions",
          "value": 221
         },
         {
          "commit_author_date": "2021-02-09T16:04:49+00:00",
          "commit_author_name": "ZoeLeBlanc",
          "type": "additions",
          "value": 123
         },
         {
          "commit_author_date": "2021-02-08T21:54:25+00:00",
          "commit_author_name": "JR Ladd",
          "type": "additions",
          "value": 3
         },
         {
          "commit_author_date": "2021-02-08T21:49:49+00:00",
          "commit_author_name": "JR Ladd",
          "type": "additions",
          "value": 7
         },
         {
          "commit_author_date": "2021-02-08T20:42:53+00:00",
          "commit_author_name": "JR Ladd",
          "type": "additions",
          "value": 5
         },
         {
          "commit_author_date": "2021-02-05T22:22:51+00:00",
          "commit_author_name": "JR Ladd",
          "type": "additions",
          "value": 22
         },
         {
          "commit_author_date": "2021-02-05T22:08:02+00:00",
          "commit_author_name": "JR Ladd",
          "type": "additions",
          "value": 4
         },
         {
          "commit_author_date": "2021-02-05T22:00:44+00:00",
          "commit_author_name": "JR Ladd",
          "type": "additions",
          "value": 8
         },
         {
          "commit_author_date": "2021-02-05T21:40:29+00:00",
          "commit_author_name": "JR Ladd",
          "type": "additions",
          "value": 4
         },
         {
          "commit_author_date": "2021-02-05T21:25:05+00:00",
          "commit_author_name": "JR Ladd",
          "type": "additions",
          "value": 2
         },
         {
          "commit_author_date": "2021-02-05T21:15:52+00:00",
          "commit_author_name": "JR Ladd",
          "type": "additions",
          "value": 6
         },
         {
          "commit_author_date": "2021-02-04T21:05:48+00:00",
          "commit_author_name": "JR Ladd",
          "type": "additions",
          "value": 104
         },
         {
          "commit_author_date": "2021-02-02T22:40:14+00:00",
          "commit_author_name": "JR Ladd",
          "type": "additions",
          "value": 6
         },
         {
          "commit_author_date": "2021-02-02T19:53:15+00:00",
          "commit_author_name": "ZoeLeBlanc",
          "type": "additions",
          "value": 0
         },
         {
          "commit_author_date": "2021-02-02T19:53:10+00:00",
          "commit_author_name": "ZoeLeBlanc",
          "type": "additions",
          "value": 28
         },
         {
          "commit_author_date": "2021-02-02T19:52:18+00:00",
          "commit_author_name": "ZoeLeBlanc",
          "type": "additions",
          "value": 7
         },
         {
          "commit_author_date": "2021-02-01T23:58:06+00:00",
          "commit_author_name": "JR Ladd",
          "type": "additions",
          "value": 29
         },
         {
          "commit_author_date": "2021-01-27T16:57:29+00:00",
          "commit_author_name": "ZoeLeBlanc",
          "type": "additions",
          "value": 120
         },
         {
          "commit_author_date": "2021-01-26T21:13:37+00:00",
          "commit_author_name": "ZoeLeBlanc",
          "type": "additions",
          "value": 88
         },
         {
          "commit_author_date": "2021-01-26T16:46:42+00:00",
          "commit_author_name": "ZoeLeBlanc",
          "type": "additions",
          "value": 6
         },
         {
          "commit_author_date": "2021-01-26T16:45:52+00:00",
          "commit_author_name": "ZoeLeBlanc",
          "type": "additions",
          "value": 32
         },
         {
          "commit_author_date": "2021-01-14T22:37:47+00:00",
          "commit_author_name": "JR Ladd",
          "type": "additions",
          "value": 2
         },
         {
          "commit_author_date": "2021-01-14T22:29:16+00:00",
          "commit_author_name": "JR Ladd",
          "type": "additions",
          "value": 2
         },
         {
          "commit_author_date": "2021-01-14T22:26:25+00:00",
          "commit_author_name": "JR Ladd",
          "type": "additions",
          "value": 3
         },
         {
          "commit_author_date": "2021-01-04T23:17:29+00:00",
          "commit_author_name": "JR Ladd",
          "type": "additions",
          "value": 2
         },
         {
          "commit_author_date": "2021-01-04T22:43:22+00:00",
          "commit_author_name": "JR Ladd",
          "type": "additions",
          "value": 18
         },
         {
          "commit_author_date": "2020-12-31T17:54:51+00:00",
          "commit_author_name": "JR Ladd",
          "type": "additions",
          "value": 14
         },
         {
          "commit_author_date": "2020-12-31T17:15:05+00:00",
          "commit_author_name": "JR Ladd",
          "type": "additions",
          "value": 17
         },
         {
          "commit_author_date": "2020-12-30T17:34:23+00:00",
          "commit_author_name": "JR Ladd",
          "type": "additions",
          "value": 79
         },
         {
          "commit_author_date": "2020-12-30T17:31:31+00:00",
          "commit_author_name": "JR Ladd",
          "type": "additions",
          "value": 1
         },
         {
          "commit_author_date": "2020-12-23T17:13:47+00:00",
          "commit_author_name": "JR Ladd",
          "type": "additions",
          "value": 9
         },
         {
          "commit_author_date": "2020-12-23T16:53:53+00:00",
          "commit_author_name": "JR Ladd",
          "type": "additions",
          "value": 17
         },
         {
          "commit_author_date": "2020-12-22T23:01:18+00:00",
          "commit_author_name": "JR Ladd",
          "type": "additions",
          "value": 9
         },
         {
          "commit_author_date": "2020-12-22T22:55:34+00:00",
          "commit_author_name": "JR Ladd",
          "type": "additions",
          "value": 41
         },
         {
          "commit_author_date": "2020-12-22T22:09:53+00:00",
          "commit_author_name": "JR Ladd",
          "type": "additions",
          "value": 3
         },
         {
          "commit_author_date": "2020-12-22T21:45:22+00:00",
          "commit_author_name": "JR Ladd",
          "type": "additions",
          "value": 1
         },
         {
          "commit_author_date": "2020-12-21T19:54:13+00:00",
          "commit_author_name": "ZoeLeBlanc",
          "type": "additions",
          "value": 594
         },
         {
          "commit_author_date": "2020-12-21T19:53:34+00:00",
          "commit_author_name": "ZoeLeBlanc",
          "type": "additions",
          "value": 4
         },
         {
          "commit_author_date": "2020-12-21T19:52:11+00:00",
          "commit_author_name": "ZoeLeBlanc",
          "type": "additions",
          "value": 2
         },
         {
          "commit_author_date": "2020-12-21T19:50:09+00:00",
          "commit_author_name": "ZoeLeBlanc",
          "type": "additions",
          "value": 1
         },
         {
          "commit_author_date": "2020-12-17T17:41:09+00:00",
          "commit_author_name": "ZoeLeBlanc",
          "type": "additions",
          "value": 21
         },
         {
          "commit_author_date": "2020-12-16T23:00:15+00:00",
          "commit_author_name": "ZoeLeBlanc",
          "type": "additions",
          "value": 81
         },
         {
          "commit_author_date": "2020-12-16T20:29:13+00:00",
          "commit_author_name": "ZoeLeBlanc",
          "type": "additions",
          "value": 2
         },
         {
          "commit_author_date": "2020-12-16T20:08:59+00:00",
          "commit_author_name": "ZoeLeBlanc",
          "type": "additions",
          "value": 320
         },
         {
          "commit_author_date": "2020-12-11T17:14:00+00:00",
          "commit_author_name": "ZoeLeBlanc",
          "type": "additions",
          "value": 0
         },
         {
          "commit_author_date": "2020-12-11T17:13:56+00:00",
          "commit_author_name": "ZoeLeBlanc",
          "type": "additions",
          "value": 175
         },
         {
          "commit_author_date": "2020-12-08T21:34:27+00:00",
          "commit_author_name": "JR Ladd",
          "type": "additions",
          "value": 48
         },
         {
          "commit_author_date": "2020-12-08T16:14:41+00:00",
          "commit_author_name": "ZoeLeBlanc",
          "type": "additions",
          "value": 136
         },
         {
          "commit_author_date": "2020-12-04T18:27:45+00:00",
          "commit_author_name": "ZoeLeBlanc",
          "type": "additions",
          "value": 8
         },
         {
          "commit_author_date": "2020-12-03T21:37:53+00:00",
          "commit_author_name": "ZoeLeBlanc",
          "type": "additions",
          "value": 139
         },
         {
          "commit_author_date": "2020-12-02T00:10:23+00:00",
          "commit_author_name": "JR Ladd",
          "type": "additions",
          "value": 17
         },
         {
          "commit_author_date": "2020-12-01T23:09:28+00:00",
          "commit_author_name": "JR Ladd",
          "type": "additions",
          "value": 32
         },
         {
          "commit_author_date": "2020-12-01T21:48:14+00:00",
          "commit_author_name": "JR Ladd",
          "type": "additions",
          "value": 541
         },
         {
          "commit_author_date": "2020-12-01T21:45:29+00:00",
          "commit_author_name": "JR Ladd",
          "type": "additions",
          "value": 820
         },
         {
          "commit_author_date": "2020-12-01T21:44:44+00:00",
          "commit_author_name": "JR Ladd",
          "type": "additions",
          "value": 820
         },
         {
          "commit_author_date": "2020-12-01T21:43:32+00:00",
          "commit_author_name": "JR Ladd",
          "type": "additions",
          "value": 1093
         },
         {
          "commit_author_date": "2020-12-01T21:39:58+00:00",
          "commit_author_name": "JR Ladd",
          "type": "additions",
          "value": 30
         },
         {
          "commit_author_date": "2020-12-01T21:19:13+00:00",
          "commit_author_name": "ZoeLeBlanc",
          "type": "additions",
          "value": 1
         },
         {
          "commit_author_date": "2020-11-30T16:22:01+00:00",
          "commit_author_name": "ZoeLeBlanc",
          "type": "additions",
          "value": 322
         },
         {
          "commit_author_date": "2020-11-24T23:43:05+00:00",
          "commit_author_name": "ZoeLeBlanc",
          "type": "additions",
          "value": 78
         },
         {
          "commit_author_date": "2020-11-24T23:32:34+00:00",
          "commit_author_name": "ZoeLeBlanc",
          "type": "additions",
          "value": 222
         },
         {
          "commit_author_date": "2020-11-24T23:04:42+00:00",
          "commit_author_name": "JR Ladd",
          "type": "additions",
          "value": 78
         },
         {
          "commit_author_date": "2020-11-17T21:20:19+00:00",
          "commit_author_name": "ZoeLeBlanc",
          "type": "additions",
          "value": 0
         },
         {
          "commit_author_date": "2020-11-17T21:20:15+00:00",
          "commit_author_name": "ZoeLeBlanc",
          "type": "additions",
          "value": 166
         },
         {
          "commit_author_date": "2020-11-17T21:19:08+00:00",
          "commit_author_name": "JR Ladd",
          "type": "additions",
          "value": 115
         },
         {
          "commit_author_date": "2020-11-13T17:25:34+00:00",
          "commit_author_name": "JR Ladd",
          "type": "additions",
          "value": 4
         },
         {
          "commit_author_date": "2020-11-13T16:52:27+00:00",
          "commit_author_name": "JR Ladd",
          "type": "additions",
          "value": 4
         },
         {
          "commit_author_date": "2020-11-12T23:25:58+00:00",
          "commit_author_name": "JR Ladd",
          "type": "additions",
          "value": 41
         },
         {
          "commit_author_date": "2020-11-03T16:01:41+00:00",
          "commit_author_name": "JR Ladd",
          "type": "additions",
          "value": 69
         },
         {
          "commit_author_date": "2020-10-25T20:58:33+00:00",
          "commit_author_name": "JR Ladd",
          "type": "additions",
          "value": 7
         },
         {
          "commit_author_date": "2020-10-25T20:36:45+00:00",
          "commit_author_name": "JR Ladd",
          "type": "additions",
          "value": 1
         },
         {
          "commit_author_date": "2020-10-24T22:33:27+00:00",
          "commit_author_name": "JR Ladd",
          "type": "additions",
          "value": 11
         },
         {
          "commit_author_date": "2020-10-24T21:50:07+00:00",
          "commit_author_name": "JR Ladd",
          "type": "additions",
          "value": 68
         },
         {
          "commit_author_date": "2020-10-20T23:23:09+00:00",
          "commit_author_name": "ZoeLeBlanc",
          "type": "additions",
          "value": 516
         },
         {
          "commit_author_date": "2020-10-20T22:57:45+00:00",
          "commit_author_name": "ZoeLeBlanc",
          "type": "additions",
          "value": 2
         },
         {
          "commit_author_date": "2020-10-20T20:35:11+00:00",
          "commit_author_name": "ZoeLeBlanc",
          "type": "additions",
          "value": 35
         },
         {
          "commit_author_date": "2020-10-20T16:50:52+00:00",
          "commit_author_name": "ZoeLeBlanc",
          "type": "additions",
          "value": 58
         },
         {
          "commit_author_date": "2020-10-20T15:25:53+00:00",
          "commit_author_name": "JR Ladd",
          "type": "additions",
          "value": 6
         },
         {
          "commit_author_date": "2020-10-20T15:09:26+00:00",
          "commit_author_name": "JR Ladd",
          "type": "additions",
          "value": 22
         },
         {
          "commit_author_date": "2020-10-20T01:24:33+00:00",
          "commit_author_name": "ZoeLeBlanc",
          "type": "additions",
          "value": 542
         },
         {
          "commit_author_date": "2020-10-16T22:39:00+00:00",
          "commit_author_name": "JR Ladd",
          "type": "additions",
          "value": 4
         },
         {
          "commit_author_date": "2020-10-16T22:10:55+00:00",
          "commit_author_name": "JR Ladd",
          "type": "additions",
          "value": 14
         },
         {
          "commit_author_date": "2020-10-15T23:10:20+00:00",
          "commit_author_name": "JR Ladd",
          "type": "additions",
          "value": 30
         },
         {
          "commit_author_date": "2020-10-15T01:21:12+00:00",
          "commit_author_name": "JR Ladd",
          "type": "additions",
          "value": 68
         },
         {
          "commit_author_date": "2019-08-30T14:15:53+00:00",
          "commit_author_name": "JR Ladd",
          "type": "additions",
          "value": 1
         },
         {
          "commit_author_date": "2019-08-30T14:13:05+00:00",
          "commit_author_name": "JR Ladd",
          "type": "additions",
          "value": 1
         },
         {
          "commit_author_date": "2019-08-29T21:56:05+00:00",
          "commit_author_name": "Matthew Lincoln",
          "type": "additions",
          "value": 1
         },
         {
          "commit_author_date": "2018-03-31T21:40:01+00:00",
          "commit_author_name": "JR Ladd",
          "type": "additions",
          "value": 1
         },
         {
          "commit_author_date": "2018-03-31T21:38:40+00:00",
          "commit_author_name": "JR Ladd",
          "type": "additions",
          "value": 4
         },
         {
          "commit_author_date": "2018-01-23T19:51:02+00:00",
          "commit_author_name": "JR Ladd",
          "type": "additions",
          "value": 4
         },
         {
          "commit_author_date": "2018-01-16T16:12:13+00:00",
          "commit_author_name": "JR Ladd",
          "type": "additions",
          "value": 0
         },
         {
          "commit_author_date": "2018-01-15T19:25:47+00:00",
          "commit_author_name": "JR Ladd",
          "type": "additions",
          "value": 114
         },
         {
          "commit_author_date": "2018-01-12T20:00:15+00:00",
          "commit_author_name": "JR Ladd",
          "type": "additions",
          "value": 1
         },
         {
          "commit_author_date": "2018-01-12T19:16:03+00:00",
          "commit_author_name": "JR Ladd",
          "type": "additions",
          "value": 52
         },
         {
          "commit_author_date": "2018-01-11T22:47:52+00:00",
          "commit_author_name": "JR Ladd",
          "type": "additions",
          "value": 29
         },
         {
          "commit_author_date": "2018-01-11T20:29:04+00:00",
          "commit_author_name": "JR Ladd",
          "type": "additions",
          "value": 16
         },
         {
          "commit_author_date": "2018-01-11T20:15:57+00:00",
          "commit_author_name": "JR Ladd",
          "type": "additions",
          "value": 49
         },
         {
          "commit_author_date": "2018-01-11T18:49:25+00:00",
          "commit_author_name": "JR Ladd",
          "type": "additions",
          "value": 26
         },
         {
          "commit_author_date": "2017-08-29T03:20:17+00:00",
          "commit_author_name": "JR Ladd",
          "type": "additions",
          "value": 1
         },
         {
          "commit_author_date": "2017-08-29T03:17:01+00:00",
          "commit_author_name": "JR Ladd",
          "type": "additions",
          "value": 3
         },
         {
          "commit_author_date": "2017-08-29T03:14:15+00:00",
          "commit_author_name": "JR Ladd",
          "type": "additions",
          "value": 32
         },
         {
          "commit_author_date": "2017-08-10T03:12:41+00:00",
          "commit_author_name": "JR Ladd",
          "type": "additions",
          "value": 42
         },
         {
          "commit_author_date": "2017-08-09T03:19:18+00:00",
          "commit_author_name": "JR Ladd",
          "type": "additions",
          "value": 1728
         },
         {
          "commit_author_date": "2021-07-23T14:12:01+00:00",
          "commit_author_name": "JR Ladd",
          "type": "deletions",
          "value": -1
         },
         {
          "commit_author_date": "2021-07-02T18:19:38+00:00",
          "commit_author_name": "JR Ladd",
          "type": "deletions",
          "value": -1
         },
         {
          "commit_author_date": "2021-06-30T19:43:16+00:00",
          "commit_author_name": "JR Ladd",
          "type": "deletions",
          "value": -1
         },
         {
          "commit_author_date": "2021-06-30T19:15:00+00:00",
          "commit_author_name": "JR Ladd",
          "type": "deletions",
          "value": 0
         },
         {
          "commit_author_date": "2021-06-30T19:07:56+00:00",
          "commit_author_name": "JR Ladd",
          "type": "deletions",
          "value": -1
         },
         {
          "commit_author_date": "2021-06-30T19:05:38+00:00",
          "commit_author_name": "JR Ladd",
          "type": "deletions",
          "value": -828
         },
         {
          "commit_author_date": "2021-06-30T18:54:13+00:00",
          "commit_author_name": "JR Ladd",
          "type": "deletions",
          "value": 0
         },
         {
          "commit_author_date": "2021-06-30T18:53:26+00:00",
          "commit_author_name": "JR Ladd",
          "type": "deletions",
          "value": -18
         },
         {
          "commit_author_date": "2021-06-29T20:31:27+00:00",
          "commit_author_name": "JR Ladd",
          "type": "deletions",
          "value": -2
         },
         {
          "commit_author_date": "2021-06-29T19:58:15+00:00",
          "commit_author_name": "JR Ladd",
          "type": "deletions",
          "value": -2
         },
         {
          "commit_author_date": "2021-06-29T19:49:55+00:00",
          "commit_author_name": "JR Ladd",
          "type": "deletions",
          "value": -2
         },
         {
          "commit_author_date": "2021-06-15T20:18:05+00:00",
          "commit_author_name": "JR Ladd",
          "type": "deletions",
          "value": -215
         },
         {
          "commit_author_date": "2021-06-08T14:44:04+00:00",
          "commit_author_name": "JR Ladd",
          "type": "deletions",
          "value": 0
         },
         {
          "commit_author_date": "2021-06-08T14:39:41+00:00",
          "commit_author_name": "JR Ladd",
          "type": "deletions",
          "value": -1
         },
         {
          "commit_author_date": "2021-06-08T14:35:47+00:00",
          "commit_author_name": "JR Ladd",
          "type": "deletions",
          "value": -2
         },
         {
          "commit_author_date": "2021-06-08T14:24:28+00:00",
          "commit_author_name": "JR Ladd",
          "type": "deletions",
          "value": -1
         },
         {
          "commit_author_date": "2021-06-02T14:38:03+00:00",
          "commit_author_name": "JR Ladd",
          "type": "deletions",
          "value": 0
         },
         {
          "commit_author_date": "2021-06-02T14:16:03+00:00",
          "commit_author_name": "JR Ladd",
          "type": "deletions",
          "value": 0
         },
         {
          "commit_author_date": "2021-06-01T17:14:41+00:00",
          "commit_author_name": "JR Ladd",
          "type": "deletions",
          "value": 0
         },
         {
          "commit_author_date": "2021-06-01T16:40:31+00:00",
          "commit_author_name": "JR Ladd",
          "type": "deletions",
          "value": -2
         },
         {
          "commit_author_date": "2021-05-27T21:41:00+00:00",
          "commit_author_name": "JR Ladd",
          "type": "deletions",
          "value": 0
         },
         {
          "commit_author_date": "2021-05-27T21:35:59+00:00",
          "commit_author_name": "JR Ladd",
          "type": "deletions",
          "value": 0
         },
         {
          "commit_author_date": "2021-05-27T21:35:27+00:00",
          "commit_author_name": "JR Ladd",
          "type": "deletions",
          "value": 0
         },
         {
          "commit_author_date": "2021-05-27T21:35:12+00:00",
          "commit_author_name": "JR Ladd",
          "type": "deletions",
          "value": -1
         },
         {
          "commit_author_date": "2021-05-27T20:35:41+00:00",
          "commit_author_name": "JR Ladd",
          "type": "deletions",
          "value": -10
         },
         {
          "commit_author_date": "2021-05-27T20:09:38+00:00",
          "commit_author_name": "JR Ladd",
          "type": "deletions",
          "value": -8
         },
         {
          "commit_author_date": "2021-05-25T18:07:10+00:00",
          "commit_author_name": "ZoeLeBlanc",
          "type": "deletions",
          "value": -12
         },
         {
          "commit_author_date": "2021-05-23T21:45:28+00:00",
          "commit_author_name": "JR Ladd",
          "type": "deletions",
          "value": -21
         },
         {
          "commit_author_date": "2021-05-23T21:17:10+00:00",
          "commit_author_name": "JR Ladd",
          "type": "deletions",
          "value": -11
         },
         {
          "commit_author_date": "2021-05-23T21:03:23+00:00",
          "commit_author_name": "JR Ladd",
          "type": "deletions",
          "value": -5
         },
         {
          "commit_author_date": "2021-05-23T20:47:39+00:00",
          "commit_author_name": "JR Ladd",
          "type": "deletions",
          "value": -16
         },
         {
          "commit_author_date": "2021-05-23T20:36:40+00:00",
          "commit_author_name": "JR Ladd",
          "type": "deletions",
          "value": 0
         },
         {
          "commit_author_date": "2021-05-23T20:29:30+00:00",
          "commit_author_name": "JR Ladd",
          "type": "deletions",
          "value": -2
         },
         {
          "commit_author_date": "2021-05-23T20:11:03+00:00",
          "commit_author_name": "JR Ladd",
          "type": "deletions",
          "value": -8
         },
         {
          "commit_author_date": "2021-05-18T23:33:45+00:00",
          "commit_author_name": "ZoeLeBlanc",
          "type": "deletions",
          "value": -26
         },
         {
          "commit_author_date": "2021-05-05T22:52:20+00:00",
          "commit_author_name": "JR Ladd",
          "type": "deletions",
          "value": -1
         },
         {
          "commit_author_date": "2021-05-05T22:43:43+00:00",
          "commit_author_name": "JR Ladd",
          "type": "deletions",
          "value": -1
         },
         {
          "commit_author_date": "2021-05-05T21:21:48+00:00",
          "commit_author_name": "JR Ladd",
          "type": "deletions",
          "value": -3
         },
         {
          "commit_author_date": "2021-05-05T15:10:49+00:00",
          "commit_author_name": "JR Ladd",
          "type": "deletions",
          "value": -2
         },
         {
          "commit_author_date": "2021-05-04T14:59:30+00:00",
          "commit_author_name": "JR Ladd",
          "type": "deletions",
          "value": -22
         },
         {
          "commit_author_date": "2021-05-02T15:13:22+00:00",
          "commit_author_name": "JR Ladd",
          "type": "deletions",
          "value": -1
         },
         {
          "commit_author_date": "2021-05-02T15:12:47+00:00",
          "commit_author_name": "JR Ladd",
          "type": "deletions",
          "value": -6
         },
         {
          "commit_author_date": "2021-04-30T21:27:41+00:00",
          "commit_author_name": "JR Ladd",
          "type": "deletions",
          "value": 0
         },
         {
          "commit_author_date": "2021-04-30T21:15:52+00:00",
          "commit_author_name": "JR Ladd",
          "type": "deletions",
          "value": -12
         },
         {
          "commit_author_date": "2021-04-30T19:50:38+00:00",
          "commit_author_name": "JR Ladd",
          "type": "deletions",
          "value": -1
         },
         {
          "commit_author_date": "2021-04-30T17:16:06+00:00",
          "commit_author_name": "JR Ladd",
          "type": "deletions",
          "value": -1
         },
         {
          "commit_author_date": "2021-04-30T17:11:43+00:00",
          "commit_author_name": "JR Ladd",
          "type": "deletions",
          "value": -32
         },
         {
          "commit_author_date": "2021-04-29T21:52:36+00:00",
          "commit_author_name": "JR Ladd",
          "type": "deletions",
          "value": -24
         },
         {
          "commit_author_date": "2021-04-29T20:33:32+00:00",
          "commit_author_name": "JR Ladd",
          "type": "deletions",
          "value": 0
         },
         {
          "commit_author_date": "2021-04-29T20:09:46+00:00",
          "commit_author_name": "JR Ladd",
          "type": "deletions",
          "value": -4
         },
         {
          "commit_author_date": "2021-04-29T18:49:00+00:00",
          "commit_author_name": "JR Ladd",
          "type": "deletions",
          "value": -4
         },
         {
          "commit_author_date": "2021-04-29T18:19:12+00:00",
          "commit_author_name": "JR Ladd",
          "type": "deletions",
          "value": 0
         },
         {
          "commit_author_date": "2021-04-29T17:19:17+00:00",
          "commit_author_name": "JR Ladd",
          "type": "deletions",
          "value": -27
         },
         {
          "commit_author_date": "2021-04-28T22:53:53+00:00",
          "commit_author_name": "JR Ladd",
          "type": "deletions",
          "value": -10
         },
         {
          "commit_author_date": "2021-04-28T21:27:52+00:00",
          "commit_author_name": "JR Ladd",
          "type": "deletions",
          "value": -1
         },
         {
          "commit_author_date": "2021-04-26T21:19:42+00:00",
          "commit_author_name": "JR Ladd",
          "type": "deletions",
          "value": -11
         },
         {
          "commit_author_date": "2021-04-23T22:58:07+00:00",
          "commit_author_name": "JR Ladd",
          "type": "deletions",
          "value": 0
         },
         {
          "commit_author_date": "2021-04-23T22:25:04+00:00",
          "commit_author_name": "JR Ladd",
          "type": "deletions",
          "value": -16
         },
         {
          "commit_author_date": "2021-04-10T22:58:49+00:00",
          "commit_author_name": "JR Ladd",
          "type": "deletions",
          "value": -30
         },
         {
          "commit_author_date": "2021-04-10T22:15:01+00:00",
          "commit_author_name": "JR Ladd",
          "type": "deletions",
          "value": 0
         },
         {
          "commit_author_date": "2021-04-10T22:09:05+00:00",
          "commit_author_name": "JR Ladd",
          "type": "deletions",
          "value": 0
         },
         {
          "commit_author_date": "2021-04-10T19:40:29+00:00",
          "commit_author_name": "JR Ladd",
          "type": "deletions",
          "value": 0
         },
         {
          "commit_author_date": "2021-04-10T18:21:17+00:00",
          "commit_author_name": "JR Ladd",
          "type": "deletions",
          "value": -5
         },
         {
          "commit_author_date": "2021-04-10T18:08:14+00:00",
          "commit_author_name": "JR Ladd",
          "type": "deletions",
          "value": -6
         },
         {
          "commit_author_date": "2021-04-10T17:01:51+00:00",
          "commit_author_name": "JR Ladd",
          "type": "deletions",
          "value": -4
         },
         {
          "commit_author_date": "2021-04-10T16:44:37+00:00",
          "commit_author_name": "JR Ladd",
          "type": "deletions",
          "value": -1
         },
         {
          "commit_author_date": "2021-04-10T16:32:30+00:00",
          "commit_author_name": "JR Ladd",
          "type": "deletions",
          "value": -1
         },
         {
          "commit_author_date": "2021-04-08T20:51:24+00:00",
          "commit_author_name": "JR Ladd",
          "type": "deletions",
          "value": 0
         },
         {
          "commit_author_date": "2021-04-08T20:49:01+00:00",
          "commit_author_name": "JR Ladd",
          "type": "deletions",
          "value": -1
         },
         {
          "commit_author_date": "2021-04-07T19:46:34+00:00",
          "commit_author_name": "JR Ladd",
          "type": "deletions",
          "value": 0
         },
         {
          "commit_author_date": "2021-04-07T19:29:24+00:00",
          "commit_author_name": "JR Ladd",
          "type": "deletions",
          "value": -1
         },
         {
          "commit_author_date": "2021-04-07T19:26:03+00:00",
          "commit_author_name": "JR Ladd",
          "type": "deletions",
          "value": 0
         },
         {
          "commit_author_date": "2021-04-07T17:39:03+00:00",
          "commit_author_name": "JR Ladd",
          "type": "deletions",
          "value": -1
         },
         {
          "commit_author_date": "2021-04-07T17:27:23+00:00",
          "commit_author_name": "JR Ladd",
          "type": "deletions",
          "value": -1
         },
         {
          "commit_author_date": "2021-04-02T20:16:17+00:00",
          "commit_author_name": "JR Ladd",
          "type": "deletions",
          "value": -5
         },
         {
          "commit_author_date": "2021-04-02T18:08:39+00:00",
          "commit_author_name": "JR Ladd",
          "type": "deletions",
          "value": -1
         },
         {
          "commit_author_date": "2021-04-02T17:28:48+00:00",
          "commit_author_name": "JR Ladd",
          "type": "deletions",
          "value": 0
         },
         {
          "commit_author_date": "2021-04-02T17:15:08+00:00",
          "commit_author_name": "JR Ladd",
          "type": "deletions",
          "value": -1
         },
         {
          "commit_author_date": "2021-04-02T17:12:32+00:00",
          "commit_author_name": "JR Ladd",
          "type": "deletions",
          "value": -2
         },
         {
          "commit_author_date": "2021-03-11T23:13:44+00:00",
          "commit_author_name": "JR Ladd",
          "type": "deletions",
          "value": -2
         },
         {
          "commit_author_date": "2021-03-11T23:11:48+00:00",
          "commit_author_name": "JR Ladd",
          "type": "deletions",
          "value": -1
         },
         {
          "commit_author_date": "2021-03-11T22:59:18+00:00",
          "commit_author_name": "JR Ladd",
          "type": "deletions",
          "value": -263
         },
         {
          "commit_author_date": "2021-03-11T17:51:27+00:00",
          "commit_author_name": "ZoeLeBlanc",
          "type": "deletions",
          "value": -13
         },
         {
          "commit_author_date": "2021-03-11T17:25:31+00:00",
          "commit_author_name": "ZoeLeBlanc",
          "type": "deletions",
          "value": -108
         },
         {
          "commit_author_date": "2021-03-11T17:25:26+00:00",
          "commit_author_name": "ZoeLeBlanc",
          "type": "deletions",
          "value": -7
         },
         {
          "commit_author_date": "2021-03-10T23:57:42+00:00",
          "commit_author_name": "JR Ladd",
          "type": "deletions",
          "value": 0
         },
         {
          "commit_author_date": "2021-03-10T23:52:46+00:00",
          "commit_author_name": "JR Ladd",
          "type": "deletions",
          "value": 0
         },
         {
          "commit_author_date": "2021-03-10T23:47:41+00:00",
          "commit_author_name": "JR Ladd",
          "type": "deletions",
          "value": -2
         },
         {
          "commit_author_date": "2021-03-10T23:46:48+00:00",
          "commit_author_name": "JR Ladd",
          "type": "deletions",
          "value": -67
         },
         {
          "commit_author_date": "2021-03-10T23:13:41+00:00",
          "commit_author_name": "JR Ladd",
          "type": "deletions",
          "value": -12
         },
         {
          "commit_author_date": "2021-03-10T23:03:33+00:00",
          "commit_author_name": "JR Ladd",
          "type": "deletions",
          "value": -20
         },
         {
          "commit_author_date": "2021-03-10T22:48:37+00:00",
          "commit_author_name": "JR Ladd",
          "type": "deletions",
          "value": -3
         },
         {
          "commit_author_date": "2021-03-10T22:35:31+00:00",
          "commit_author_name": "JR Ladd",
          "type": "deletions",
          "value": -8
         },
         {
          "commit_author_date": "2021-03-10T22:06:28+00:00",
          "commit_author_name": "JR Ladd",
          "type": "deletions",
          "value": -2
         },
         {
          "commit_author_date": "2021-03-10T21:08:54+00:00",
          "commit_author_name": "ZoeLeBlanc",
          "type": "deletions",
          "value": -63
         },
         {
          "commit_author_date": "2021-03-10T21:04:55+00:00",
          "commit_author_name": "ZoeLeBlanc",
          "type": "deletions",
          "value": -31
         },
         {
          "commit_author_date": "2021-03-02T20:03:16+00:00",
          "commit_author_name": "JR Ladd",
          "type": "deletions",
          "value": -1
         },
         {
          "commit_author_date": "2021-03-02T20:00:58+00:00",
          "commit_author_name": "JR Ladd",
          "type": "deletions",
          "value": -2
         },
         {
          "commit_author_date": "2021-03-02T19:38:31+00:00",
          "commit_author_name": "JR Ladd",
          "type": "deletions",
          "value": -2
         },
         {
          "commit_author_date": "2021-03-02T19:26:00+00:00",
          "commit_author_name": "JR Ladd",
          "type": "deletions",
          "value": -2
         },
         {
          "commit_author_date": "2021-03-02T16:20:13+00:00",
          "commit_author_name": "JR Ladd",
          "type": "deletions",
          "value": -38
         },
         {
          "commit_author_date": "2021-03-01T21:18:18+00:00",
          "commit_author_name": "JR Ladd",
          "type": "deletions",
          "value": -11
         },
         {
          "commit_author_date": "2021-03-01T19:19:57+00:00",
          "commit_author_name": "JR Ladd",
          "type": "deletions",
          "value": -10
         },
         {
          "commit_author_date": "2021-03-01T16:47:31+00:00",
          "commit_author_name": "JR Ladd",
          "type": "deletions",
          "value": -8
         },
         {
          "commit_author_date": "2021-02-23T21:28:35+00:00",
          "commit_author_name": "ZoeLeBlanc",
          "type": "deletions",
          "value": -2
         },
         {
          "commit_author_date": "2021-02-23T14:45:00+00:00",
          "commit_author_name": "ZoeLeBlanc",
          "type": "deletions",
          "value": -35
         },
         {
          "commit_author_date": "2021-02-23T03:30:47+00:00",
          "commit_author_name": "ZoeLeBlanc",
          "type": "deletions",
          "value": -59
         },
         {
          "commit_author_date": "2021-02-18T21:38:36+00:00",
          "commit_author_name": "JR Ladd",
          "type": "deletions",
          "value": -202
         },
         {
          "commit_author_date": "2021-02-18T21:35:59+00:00",
          "commit_author_name": "JR Ladd",
          "type": "deletions",
          "value": -4
         },
         {
          "commit_author_date": "2021-02-18T21:34:31+00:00",
          "commit_author_name": "JR Ladd",
          "type": "deletions",
          "value": -2
         },
         {
          "commit_author_date": "2021-02-18T21:26:12+00:00",
          "commit_author_name": "JR Ladd",
          "type": "deletions",
          "value": -1
         },
         {
          "commit_author_date": "2021-02-18T16:58:48+00:00",
          "commit_author_name": "JR Ladd",
          "type": "deletions",
          "value": -3
         },
         {
          "commit_author_date": "2021-02-17T22:36:29+00:00",
          "commit_author_name": "ZoeLeBlanc",
          "type": "deletions",
          "value": 0
         },
         {
          "commit_author_date": "2021-02-17T22:09:03+00:00",
          "commit_author_name": "ZoeLeBlanc",
          "type": "deletions",
          "value": -14
         },
         {
          "commit_author_date": "2021-02-16T23:14:04+00:00",
          "commit_author_name": "ZoeLeBlanc",
          "type": "deletions",
          "value": -109
         },
         {
          "commit_author_date": "2021-02-09T16:04:49+00:00",
          "commit_author_name": "ZoeLeBlanc",
          "type": "deletions",
          "value": -108
         },
         {
          "commit_author_date": "2021-02-08T21:54:25+00:00",
          "commit_author_name": "JR Ladd",
          "type": "deletions",
          "value": -3
         },
         {
          "commit_author_date": "2021-02-08T21:49:49+00:00",
          "commit_author_name": "JR Ladd",
          "type": "deletions",
          "value": -2
         },
         {
          "commit_author_date": "2021-02-08T20:42:53+00:00",
          "commit_author_name": "JR Ladd",
          "type": "deletions",
          "value": -2
         },
         {
          "commit_author_date": "2021-02-05T22:22:51+00:00",
          "commit_author_name": "JR Ladd",
          "type": "deletions",
          "value": -21
         },
         {
          "commit_author_date": "2021-02-05T22:08:02+00:00",
          "commit_author_name": "JR Ladd",
          "type": "deletions",
          "value": 0
         },
         {
          "commit_author_date": "2021-02-05T22:00:44+00:00",
          "commit_author_name": "JR Ladd",
          "type": "deletions",
          "value": 0
         },
         {
          "commit_author_date": "2021-02-05T21:40:29+00:00",
          "commit_author_name": "JR Ladd",
          "type": "deletions",
          "value": -2
         },
         {
          "commit_author_date": "2021-02-05T21:25:05+00:00",
          "commit_author_name": "JR Ladd",
          "type": "deletions",
          "value": -2
         },
         {
          "commit_author_date": "2021-02-05T21:15:52+00:00",
          "commit_author_name": "JR Ladd",
          "type": "deletions",
          "value": -2
         },
         {
          "commit_author_date": "2021-02-04T21:05:48+00:00",
          "commit_author_name": "JR Ladd",
          "type": "deletions",
          "value": -40
         },
         {
          "commit_author_date": "2021-02-02T22:40:14+00:00",
          "commit_author_name": "JR Ladd",
          "type": "deletions",
          "value": -6
         },
         {
          "commit_author_date": "2021-02-02T19:53:15+00:00",
          "commit_author_name": "ZoeLeBlanc",
          "type": "deletions",
          "value": 0
         },
         {
          "commit_author_date": "2021-02-02T19:53:10+00:00",
          "commit_author_name": "ZoeLeBlanc",
          "type": "deletions",
          "value": -4
         },
         {
          "commit_author_date": "2021-02-02T19:52:18+00:00",
          "commit_author_name": "ZoeLeBlanc",
          "type": "deletions",
          "value": -11
         },
         {
          "commit_author_date": "2021-02-01T23:58:06+00:00",
          "commit_author_name": "JR Ladd",
          "type": "deletions",
          "value": -5
         },
         {
          "commit_author_date": "2021-01-27T16:57:29+00:00",
          "commit_author_name": "ZoeLeBlanc",
          "type": "deletions",
          "value": -47
         },
         {
          "commit_author_date": "2021-01-26T21:13:37+00:00",
          "commit_author_name": "ZoeLeBlanc",
          "type": "deletions",
          "value": -51
         },
         {
          "commit_author_date": "2021-01-26T16:46:42+00:00",
          "commit_author_name": "ZoeLeBlanc",
          "type": "deletions",
          "value": -8
         },
         {
          "commit_author_date": "2021-01-26T16:45:52+00:00",
          "commit_author_name": "ZoeLeBlanc",
          "type": "deletions",
          "value": -33
         },
         {
          "commit_author_date": "2021-01-14T22:37:47+00:00",
          "commit_author_name": "JR Ladd",
          "type": "deletions",
          "value": -2
         },
         {
          "commit_author_date": "2021-01-14T22:29:16+00:00",
          "commit_author_name": "JR Ladd",
          "type": "deletions",
          "value": 0
         },
         {
          "commit_author_date": "2021-01-14T22:26:25+00:00",
          "commit_author_name": "JR Ladd",
          "type": "deletions",
          "value": -7
         },
         {
          "commit_author_date": "2021-01-04T23:17:29+00:00",
          "commit_author_name": "JR Ladd",
          "type": "deletions",
          "value": -2
         },
         {
          "commit_author_date": "2021-01-04T22:43:22+00:00",
          "commit_author_name": "JR Ladd",
          "type": "deletions",
          "value": -5
         },
         {
          "commit_author_date": "2020-12-31T17:54:51+00:00",
          "commit_author_name": "JR Ladd",
          "type": "deletions",
          "value": -4
         },
         {
          "commit_author_date": "2020-12-31T17:15:05+00:00",
          "commit_author_name": "JR Ladd",
          "type": "deletions",
          "value": 0
         },
         {
          "commit_author_date": "2020-12-30T17:34:23+00:00",
          "commit_author_name": "JR Ladd",
          "type": "deletions",
          "value": -15
         },
         {
          "commit_author_date": "2020-12-30T17:31:31+00:00",
          "commit_author_name": "JR Ladd",
          "type": "deletions",
          "value": -1
         },
         {
          "commit_author_date": "2020-12-23T17:13:47+00:00",
          "commit_author_name": "JR Ladd",
          "type": "deletions",
          "value": 0
         },
         {
          "commit_author_date": "2020-12-23T16:53:53+00:00",
          "commit_author_name": "JR Ladd",
          "type": "deletions",
          "value": -4
         },
         {
          "commit_author_date": "2020-12-22T23:01:18+00:00",
          "commit_author_name": "JR Ladd",
          "type": "deletions",
          "value": 0
         },
         {
          "commit_author_date": "2020-12-22T22:55:34+00:00",
          "commit_author_name": "JR Ladd",
          "type": "deletions",
          "value": -8
         },
         {
          "commit_author_date": "2020-12-22T22:09:53+00:00",
          "commit_author_name": "JR Ladd",
          "type": "deletions",
          "value": -3
         },
         {
          "commit_author_date": "2020-12-22T21:45:22+00:00",
          "commit_author_name": "JR Ladd",
          "type": "deletions",
          "value": -1
         },
         {
          "commit_author_date": "2020-12-21T19:54:13+00:00",
          "commit_author_name": "ZoeLeBlanc",
          "type": "deletions",
          "value": -313
         },
         {
          "commit_author_date": "2020-12-21T19:53:34+00:00",
          "commit_author_name": "ZoeLeBlanc",
          "type": "deletions",
          "value": 0
         },
         {
          "commit_author_date": "2020-12-21T19:52:11+00:00",
          "commit_author_name": "ZoeLeBlanc",
          "type": "deletions",
          "value": 0
         },
         {
          "commit_author_date": "2020-12-21T19:50:09+00:00",
          "commit_author_name": "ZoeLeBlanc",
          "type": "deletions",
          "value": -1
         },
         {
          "commit_author_date": "2020-12-17T17:41:09+00:00",
          "commit_author_name": "ZoeLeBlanc",
          "type": "deletions",
          "value": -19
         },
         {
          "commit_author_date": "2020-12-16T23:00:15+00:00",
          "commit_author_name": "ZoeLeBlanc",
          "type": "deletions",
          "value": -44
         },
         {
          "commit_author_date": "2020-12-16T20:29:13+00:00",
          "commit_author_name": "ZoeLeBlanc",
          "type": "deletions",
          "value": -93
         },
         {
          "commit_author_date": "2020-12-16T20:08:59+00:00",
          "commit_author_name": "ZoeLeBlanc",
          "type": "deletions",
          "value": -167
         },
         {
          "commit_author_date": "2020-12-11T17:14:00+00:00",
          "commit_author_name": "ZoeLeBlanc",
          "type": "deletions",
          "value": 0
         },
         {
          "commit_author_date": "2020-12-11T17:13:56+00:00",
          "commit_author_name": "ZoeLeBlanc",
          "type": "deletions",
          "value": -96
         },
         {
          "commit_author_date": "2020-12-08T21:34:27+00:00",
          "commit_author_name": "JR Ladd",
          "type": "deletions",
          "value": -8
         },
         {
          "commit_author_date": "2020-12-08T16:14:41+00:00",
          "commit_author_name": "ZoeLeBlanc",
          "type": "deletions",
          "value": -135
         },
         {
          "commit_author_date": "2020-12-04T18:27:45+00:00",
          "commit_author_name": "ZoeLeBlanc",
          "type": "deletions",
          "value": -12
         },
         {
          "commit_author_date": "2020-12-03T21:37:53+00:00",
          "commit_author_name": "ZoeLeBlanc",
          "type": "deletions",
          "value": -1
         },
         {
          "commit_author_date": "2020-12-02T00:10:23+00:00",
          "commit_author_name": "JR Ladd",
          "type": "deletions",
          "value": -2
         },
         {
          "commit_author_date": "2020-12-01T23:09:28+00:00",
          "commit_author_name": "JR Ladd",
          "type": "deletions",
          "value": -7
         },
         {
          "commit_author_date": "2020-12-01T21:48:14+00:00",
          "commit_author_name": "JR Ladd",
          "type": "deletions",
          "value": -397
         },
         {
          "commit_author_date": "2020-12-01T21:45:29+00:00",
          "commit_author_name": "JR Ladd",
          "type": "deletions",
          "value": -1093
         },
         {
          "commit_author_date": "2020-12-01T21:44:44+00:00",
          "commit_author_name": "JR Ladd",
          "type": "deletions",
          "value": -1093
         },
         {
          "commit_author_date": "2020-12-01T21:43:32+00:00",
          "commit_author_name": "JR Ladd",
          "type": "deletions",
          "value": -820
         },
         {
          "commit_author_date": "2020-12-01T21:39:58+00:00",
          "commit_author_name": "JR Ladd",
          "type": "deletions",
          "value": -5
         },
         {
          "commit_author_date": "2020-12-01T21:19:13+00:00",
          "commit_author_name": "ZoeLeBlanc",
          "type": "deletions",
          "value": -2
         },
         {
          "commit_author_date": "2020-11-30T16:22:01+00:00",
          "commit_author_name": "ZoeLeBlanc",
          "type": "deletions",
          "value": -459
         },
         {
          "commit_author_date": "2020-11-24T23:43:05+00:00",
          "commit_author_name": "ZoeLeBlanc",
          "type": "deletions",
          "value": -9
         },
         {
          "commit_author_date": "2020-11-24T23:32:34+00:00",
          "commit_author_name": "ZoeLeBlanc",
          "type": "deletions",
          "value": -110
         },
         {
          "commit_author_date": "2020-11-24T23:04:42+00:00",
          "commit_author_name": "JR Ladd",
          "type": "deletions",
          "value": -4
         },
         {
          "commit_author_date": "2020-11-17T21:20:19+00:00",
          "commit_author_name": "ZoeLeBlanc",
          "type": "deletions",
          "value": 0
         },
         {
          "commit_author_date": "2020-11-17T21:20:15+00:00",
          "commit_author_name": "ZoeLeBlanc",
          "type": "deletions",
          "value": -16
         },
         {
          "commit_author_date": "2020-11-17T21:19:08+00:00",
          "commit_author_name": "JR Ladd",
          "type": "deletions",
          "value": -8
         },
         {
          "commit_author_date": "2020-11-13T17:25:34+00:00",
          "commit_author_name": "JR Ladd",
          "type": "deletions",
          "value": -4
         },
         {
          "commit_author_date": "2020-11-13T16:52:27+00:00",
          "commit_author_name": "JR Ladd",
          "type": "deletions",
          "value": -4
         },
         {
          "commit_author_date": "2020-11-12T23:25:58+00:00",
          "commit_author_name": "JR Ladd",
          "type": "deletions",
          "value": -6
         },
         {
          "commit_author_date": "2020-11-03T16:01:41+00:00",
          "commit_author_name": "JR Ladd",
          "type": "deletions",
          "value": -4
         },
         {
          "commit_author_date": "2020-10-25T20:58:33+00:00",
          "commit_author_name": "JR Ladd",
          "type": "deletions",
          "value": 0
         },
         {
          "commit_author_date": "2020-10-25T20:36:45+00:00",
          "commit_author_name": "JR Ladd",
          "type": "deletions",
          "value": -1
         },
         {
          "commit_author_date": "2020-10-24T22:33:27+00:00",
          "commit_author_name": "JR Ladd",
          "type": "deletions",
          "value": -5
         },
         {
          "commit_author_date": "2020-10-24T21:50:07+00:00",
          "commit_author_name": "JR Ladd",
          "type": "deletions",
          "value": -72
         },
         {
          "commit_author_date": "2020-10-20T23:23:09+00:00",
          "commit_author_name": "ZoeLeBlanc",
          "type": "deletions",
          "value": -473
         },
         {
          "commit_author_date": "2020-10-20T22:57:45+00:00",
          "commit_author_name": "ZoeLeBlanc",
          "type": "deletions",
          "value": -1
         },
         {
          "commit_author_date": "2020-10-20T20:35:11+00:00",
          "commit_author_name": "ZoeLeBlanc",
          "type": "deletions",
          "value": -33
         },
         {
          "commit_author_date": "2020-10-20T16:50:52+00:00",
          "commit_author_name": "ZoeLeBlanc",
          "type": "deletions",
          "value": -27
         },
         {
          "commit_author_date": "2020-10-20T15:25:53+00:00",
          "commit_author_name": "JR Ladd",
          "type": "deletions",
          "value": -3
         },
         {
          "commit_author_date": "2020-10-20T15:09:26+00:00",
          "commit_author_name": "JR Ladd",
          "type": "deletions",
          "value": -20
         },
         {
          "commit_author_date": "2020-10-20T01:24:33+00:00",
          "commit_author_name": "ZoeLeBlanc",
          "type": "deletions",
          "value": -158
         },
         {
          "commit_author_date": "2020-10-16T22:39:00+00:00",
          "commit_author_name": "JR Ladd",
          "type": "deletions",
          "value": -14
         },
         {
          "commit_author_date": "2020-10-16T22:10:55+00:00",
          "commit_author_name": "JR Ladd",
          "type": "deletions",
          "value": -22
         },
         {
          "commit_author_date": "2020-10-15T23:10:20+00:00",
          "commit_author_name": "JR Ladd",
          "type": "deletions",
          "value": -35
         },
         {
          "commit_author_date": "2020-10-15T01:21:12+00:00",
          "commit_author_name": "JR Ladd",
          "type": "deletions",
          "value": -560
         },
         {
          "commit_author_date": "2019-08-30T14:15:53+00:00",
          "commit_author_name": "JR Ladd",
          "type": "deletions",
          "value": -1
         },
         {
          "commit_author_date": "2019-08-30T14:13:05+00:00",
          "commit_author_name": "JR Ladd",
          "type": "deletions",
          "value": -1
         },
         {
          "commit_author_date": "2019-08-29T21:56:05+00:00",
          "commit_author_name": "Matthew Lincoln",
          "type": "deletions",
          "value": -1
         },
         {
          "commit_author_date": "2018-03-31T21:40:01+00:00",
          "commit_author_name": "JR Ladd",
          "type": "deletions",
          "value": 0
         },
         {
          "commit_author_date": "2018-03-31T21:38:40+00:00",
          "commit_author_name": "JR Ladd",
          "type": "deletions",
          "value": -9
         },
         {
          "commit_author_date": "2018-01-23T19:51:02+00:00",
          "commit_author_name": "JR Ladd",
          "type": "deletions",
          "value": -1
         },
         {
          "commit_author_date": "2018-01-16T16:12:13+00:00",
          "commit_author_name": "JR Ladd",
          "type": "deletions",
          "value": -1143
         },
         {
          "commit_author_date": "2018-01-15T19:25:47+00:00",
          "commit_author_name": "JR Ladd",
          "type": "deletions",
          "value": -61
         },
         {
          "commit_author_date": "2018-01-12T20:00:15+00:00",
          "commit_author_name": "JR Ladd",
          "type": "deletions",
          "value": -1
         },
         {
          "commit_author_date": "2018-01-12T19:16:03+00:00",
          "commit_author_name": "JR Ladd",
          "type": "deletions",
          "value": -11
         },
         {
          "commit_author_date": "2018-01-11T22:47:52+00:00",
          "commit_author_name": "JR Ladd",
          "type": "deletions",
          "value": -1
         },
         {
          "commit_author_date": "2018-01-11T20:29:04+00:00",
          "commit_author_name": "JR Ladd",
          "type": "deletions",
          "value": -7
         },
         {
          "commit_author_date": "2018-01-11T20:15:57+00:00",
          "commit_author_name": "JR Ladd",
          "type": "deletions",
          "value": -11
         },
         {
          "commit_author_date": "2018-01-11T18:49:25+00:00",
          "commit_author_name": "JR Ladd",
          "type": "deletions",
          "value": -2
         },
         {
          "commit_author_date": "2017-08-29T03:20:17+00:00",
          "commit_author_name": "JR Ladd",
          "type": "deletions",
          "value": 0
         },
         {
          "commit_author_date": "2017-08-29T03:17:01+00:00",
          "commit_author_name": "JR Ladd",
          "type": "deletions",
          "value": -1
         },
         {
          "commit_author_date": "2017-08-29T03:14:15+00:00",
          "commit_author_name": "JR Ladd",
          "type": "deletions",
          "value": -7
         },
         {
          "commit_author_date": "2017-08-10T03:12:41+00:00",
          "commit_author_name": "JR Ladd",
          "type": "deletions",
          "value": -15
         },
         {
          "commit_author_date": "2017-08-09T03:19:18+00:00",
          "commit_author_name": "JR Ladd",
          "type": "deletions",
          "value": 0
         }
        ]
       },
       "encoding": {
        "color": {
         "field": "type",
         "title": "Type of Change",
         "type": "nominal"
        },
        "tooltip": [
         {
          "field": "commit_author_name",
          "type": "nominal"
         },
         {
          "field": "commit_author_date",
          "type": "temporal"
         },
         {
          "field": "value",
          "type": "quantitative"
         },
         {
          "field": "type",
          "type": "nominal"
         }
        ],
        "x": {
         "field": "commit_author_date",
         "title": "Date",
         "type": "temporal"
        },
        "y": {
         "field": "value",
         "title": "Additions/Deletions",
         "type": "quantitative"
        }
       },
       "mark": {
        "type": "bar"
       },
       "title": "Additions and Deletions to Network Navigator"
      },
      "text/plain": [
       "<VegaLite 5 object>\n",
       "\n",
       "If you see this message, it means the renderer has not been properly enabled\n",
       "for the frontend that you are using. For more information, see\n",
       "https://altair-viz.github.io/user_guide/display_frontends.html#troubleshooting\n"
      ]
     },
     "execution_count": 96,
     "metadata": {},
     "output_type": "execute_result"
    }
   ],
   "source": [
    "# Create the symmetric bar chart\n",
    "project_history = alt.Chart(df_graph).mark_bar().encode(\n",
    "    x=alt.X('commit_author_date:T', title=\"Date\"),\n",
    "    y=alt.Y('value:Q', title=\"Additions/Deletions\"),\n",
    "    color=alt.Color('type:N', title=\"Type of Change\"),\n",
    "    tooltip=['commit_author_name:N', 'commit_author_date:T', 'value:Q', 'type:N'],\n",
    ").properties(\n",
    "    title=\"Additions and Deletions to Network Navigator\",\n",
    ")\n",
    "\n",
    "project_history"
   ]
  },
  {
   "cell_type": "code",
   "execution_count": 97,
   "metadata": {},
   "outputs": [
    {
     "data": {
      "application/vnd.vegalite.v5+json": {
       "$schema": "https://vega.github.io/schema/vega-lite/v5.8.0.json",
       "config": {
        "view": {
         "continuousHeight": 300,
         "continuousWidth": 300
        }
       },
       "data": {
        "name": "data-16b0b689968ffb10e245c9397d3b7430"
       },
       "datasets": {
        "data-16b0b689968ffb10e245c9397d3b7430": [
         {
          "commit_author_date": "2021-07-23T14:12:01+00:00",
          "commit_author_name": "JR Ladd",
          "stats_additions": 1,
          "stats_deletions": 1,
          "stats_total": 2
         },
         {
          "commit_author_date": "2021-07-02T18:19:38+00:00",
          "commit_author_name": "JR Ladd",
          "stats_additions": 1,
          "stats_deletions": 1,
          "stats_total": 2
         },
         {
          "commit_author_date": "2021-06-30T19:43:16+00:00",
          "commit_author_name": "JR Ladd",
          "stats_additions": 1,
          "stats_deletions": 1,
          "stats_total": 2
         },
         {
          "commit_author_date": "2021-06-30T19:15:00+00:00",
          "commit_author_name": "JR Ladd",
          "stats_additions": 1,
          "stats_deletions": 0,
          "stats_total": 1
         },
         {
          "commit_author_date": "2021-06-30T19:07:56+00:00",
          "commit_author_name": "JR Ladd",
          "stats_additions": 1,
          "stats_deletions": 1,
          "stats_total": 2
         },
         {
          "commit_author_date": "2021-06-30T19:05:38+00:00",
          "commit_author_name": "JR Ladd",
          "stats_additions": 0,
          "stats_deletions": 828,
          "stats_total": 828
         },
         {
          "commit_author_date": "2021-06-30T18:54:13+00:00",
          "commit_author_name": "JR Ladd",
          "stats_additions": 2653,
          "stats_deletions": 0,
          "stats_total": 2653
         },
         {
          "commit_author_date": "2021-06-30T18:53:26+00:00",
          "commit_author_name": "JR Ladd",
          "stats_additions": 824,
          "stats_deletions": 18,
          "stats_total": 842
         },
         {
          "commit_author_date": "2021-06-29T20:31:27+00:00",
          "commit_author_name": "JR Ladd",
          "stats_additions": 2,
          "stats_deletions": 2,
          "stats_total": 4
         },
         {
          "commit_author_date": "2021-06-29T19:58:15+00:00",
          "commit_author_name": "JR Ladd",
          "stats_additions": 3,
          "stats_deletions": 2,
          "stats_total": 5
         },
         {
          "commit_author_date": "2021-06-29T19:49:55+00:00",
          "commit_author_name": "JR Ladd",
          "stats_additions": 2,
          "stats_deletions": 2,
          "stats_total": 4
         },
         {
          "commit_author_date": "2021-06-15T20:18:05+00:00",
          "commit_author_name": "JR Ladd",
          "stats_additions": 1050,
          "stats_deletions": 215,
          "stats_total": 1265
         },
         {
          "commit_author_date": "2021-06-08T14:44:04+00:00",
          "commit_author_name": "JR Ladd",
          "stats_additions": 5,
          "stats_deletions": 0,
          "stats_total": 5
         },
         {
          "commit_author_date": "2021-06-08T14:39:41+00:00",
          "commit_author_name": "JR Ladd",
          "stats_additions": 1,
          "stats_deletions": 1,
          "stats_total": 2
         },
         {
          "commit_author_date": "2021-06-08T14:35:47+00:00",
          "commit_author_name": "JR Ladd",
          "stats_additions": 8,
          "stats_deletions": 2,
          "stats_total": 10
         },
         {
          "commit_author_date": "2021-06-08T14:24:28+00:00",
          "commit_author_name": "JR Ladd",
          "stats_additions": 1,
          "stats_deletions": 1,
          "stats_total": 2
         },
         {
          "commit_author_date": "2021-06-02T14:38:03+00:00",
          "commit_author_name": "JR Ladd",
          "stats_additions": 7,
          "stats_deletions": 0,
          "stats_total": 7
         },
         {
          "commit_author_date": "2021-06-02T14:16:03+00:00",
          "commit_author_name": "JR Ladd",
          "stats_additions": 21,
          "stats_deletions": 0,
          "stats_total": 21
         },
         {
          "commit_author_date": "2021-06-01T17:14:41+00:00",
          "commit_author_name": "JR Ladd",
          "stats_additions": 5,
          "stats_deletions": 0,
          "stats_total": 5
         },
         {
          "commit_author_date": "2021-06-01T16:40:31+00:00",
          "commit_author_name": "JR Ladd",
          "stats_additions": 12,
          "stats_deletions": 2,
          "stats_total": 14
         },
         {
          "commit_author_date": "2021-05-27T21:41:00+00:00",
          "commit_author_name": "JR Ladd",
          "stats_additions": 2,
          "stats_deletions": 0,
          "stats_total": 2
         },
         {
          "commit_author_date": "2021-05-27T21:35:59+00:00",
          "commit_author_name": "JR Ladd",
          "stats_additions": 0,
          "stats_deletions": 0,
          "stats_total": 0
         },
         {
          "commit_author_date": "2021-05-27T21:35:27+00:00",
          "commit_author_name": "JR Ladd",
          "stats_additions": 78,
          "stats_deletions": 0,
          "stats_total": 78
         },
         {
          "commit_author_date": "2021-05-27T21:35:12+00:00",
          "commit_author_name": "JR Ladd",
          "stats_additions": 2,
          "stats_deletions": 1,
          "stats_total": 3
         },
         {
          "commit_author_date": "2021-05-27T20:35:41+00:00",
          "commit_author_name": "JR Ladd",
          "stats_additions": 25,
          "stats_deletions": 10,
          "stats_total": 35
         },
         {
          "commit_author_date": "2021-05-27T20:09:38+00:00",
          "commit_author_name": "JR Ladd",
          "stats_additions": 4,
          "stats_deletions": 8,
          "stats_total": 12
         },
         {
          "commit_author_date": "2021-05-25T18:07:10+00:00",
          "commit_author_name": "ZoeLeBlanc",
          "stats_additions": 12,
          "stats_deletions": 12,
          "stats_total": 24
         },
         {
          "commit_author_date": "2021-05-23T21:45:28+00:00",
          "commit_author_name": "JR Ladd",
          "stats_additions": 18,
          "stats_deletions": 21,
          "stats_total": 39
         },
         {
          "commit_author_date": "2021-05-23T21:17:10+00:00",
          "commit_author_name": "JR Ladd",
          "stats_additions": 11,
          "stats_deletions": 11,
          "stats_total": 22
         },
         {
          "commit_author_date": "2021-05-23T21:03:23+00:00",
          "commit_author_name": "JR Ladd",
          "stats_additions": 3,
          "stats_deletions": 5,
          "stats_total": 8
         },
         {
          "commit_author_date": "2021-05-23T20:47:39+00:00",
          "commit_author_name": "JR Ladd",
          "stats_additions": 8,
          "stats_deletions": 16,
          "stats_total": 24
         },
         {
          "commit_author_date": "2021-05-23T20:36:40+00:00",
          "commit_author_name": "JR Ladd",
          "stats_additions": 1,
          "stats_deletions": 0,
          "stats_total": 1
         },
         {
          "commit_author_date": "2021-05-23T20:29:30+00:00",
          "commit_author_name": "JR Ladd",
          "stats_additions": 3,
          "stats_deletions": 2,
          "stats_total": 5
         },
         {
          "commit_author_date": "2021-05-23T20:11:03+00:00",
          "commit_author_name": "JR Ladd",
          "stats_additions": 6,
          "stats_deletions": 8,
          "stats_total": 14
         },
         {
          "commit_author_date": "2021-05-18T23:33:45+00:00",
          "commit_author_name": "ZoeLeBlanc",
          "stats_additions": 27,
          "stats_deletions": 26,
          "stats_total": 53
         },
         {
          "commit_author_date": "2021-05-05T22:52:20+00:00",
          "commit_author_name": "JR Ladd",
          "stats_additions": 1,
          "stats_deletions": 1,
          "stats_total": 2
         },
         {
          "commit_author_date": "2021-05-05T22:43:43+00:00",
          "commit_author_name": "JR Ladd",
          "stats_additions": 154,
          "stats_deletions": 1,
          "stats_total": 155
         },
         {
          "commit_author_date": "2021-05-05T21:21:48+00:00",
          "commit_author_name": "JR Ladd",
          "stats_additions": 90,
          "stats_deletions": 3,
          "stats_total": 93
         },
         {
          "commit_author_date": "2021-05-05T15:10:49+00:00",
          "commit_author_name": "JR Ladd",
          "stats_additions": 0,
          "stats_deletions": 2,
          "stats_total": 2
         },
         {
          "commit_author_date": "2021-05-04T14:59:30+00:00",
          "commit_author_name": "JR Ladd",
          "stats_additions": 29,
          "stats_deletions": 22,
          "stats_total": 51
         },
         {
          "commit_author_date": "2021-05-02T15:13:22+00:00",
          "commit_author_name": "JR Ladd",
          "stats_additions": 0,
          "stats_deletions": 1,
          "stats_total": 1
         },
         {
          "commit_author_date": "2021-05-02T15:12:47+00:00",
          "commit_author_name": "JR Ladd",
          "stats_additions": 100,
          "stats_deletions": 6,
          "stats_total": 106
         },
         {
          "commit_author_date": "2021-04-30T21:27:41+00:00",
          "commit_author_name": "JR Ladd",
          "stats_additions": 9,
          "stats_deletions": 0,
          "stats_total": 9
         },
         {
          "commit_author_date": "2021-04-30T21:15:52+00:00",
          "commit_author_name": "JR Ladd",
          "stats_additions": 46,
          "stats_deletions": 12,
          "stats_total": 58
         },
         {
          "commit_author_date": "2021-04-30T19:50:38+00:00",
          "commit_author_name": "JR Ladd",
          "stats_additions": 1,
          "stats_deletions": 1,
          "stats_total": 2
         },
         {
          "commit_author_date": "2021-04-30T17:16:06+00:00",
          "commit_author_name": "JR Ladd",
          "stats_additions": 1,
          "stats_deletions": 1,
          "stats_total": 2
         },
         {
          "commit_author_date": "2021-04-30T17:11:43+00:00",
          "commit_author_name": "JR Ladd",
          "stats_additions": 46,
          "stats_deletions": 32,
          "stats_total": 78
         },
         {
          "commit_author_date": "2021-04-29T21:52:36+00:00",
          "commit_author_name": "JR Ladd",
          "stats_additions": 57,
          "stats_deletions": 24,
          "stats_total": 81
         },
         {
          "commit_author_date": "2021-04-29T20:33:32+00:00",
          "commit_author_name": "JR Ladd",
          "stats_additions": 2,
          "stats_deletions": 0,
          "stats_total": 2
         },
         {
          "commit_author_date": "2021-04-29T20:09:46+00:00",
          "commit_author_name": "JR Ladd",
          "stats_additions": 14,
          "stats_deletions": 4,
          "stats_total": 18
         },
         {
          "commit_author_date": "2021-04-29T18:49:00+00:00",
          "commit_author_name": "JR Ladd",
          "stats_additions": 21,
          "stats_deletions": 4,
          "stats_total": 25
         },
         {
          "commit_author_date": "2021-04-29T18:19:12+00:00",
          "commit_author_name": "JR Ladd",
          "stats_additions": 1,
          "stats_deletions": 0,
          "stats_total": 1
         },
         {
          "commit_author_date": "2021-04-29T17:19:17+00:00",
          "commit_author_name": "JR Ladd",
          "stats_additions": 47,
          "stats_deletions": 27,
          "stats_total": 74
         },
         {
          "commit_author_date": "2021-04-28T22:53:53+00:00",
          "commit_author_name": "JR Ladd",
          "stats_additions": 20,
          "stats_deletions": 10,
          "stats_total": 30
         },
         {
          "commit_author_date": "2021-04-28T21:27:52+00:00",
          "commit_author_name": "JR Ladd",
          "stats_additions": 37,
          "stats_deletions": 1,
          "stats_total": 38
         },
         {
          "commit_author_date": "2021-04-26T21:19:42+00:00",
          "commit_author_name": "JR Ladd",
          "stats_additions": 5,
          "stats_deletions": 11,
          "stats_total": 16
         },
         {
          "commit_author_date": "2021-04-23T22:58:07+00:00",
          "commit_author_name": "JR Ladd",
          "stats_additions": 1,
          "stats_deletions": 0,
          "stats_total": 1
         },
         {
          "commit_author_date": "2021-04-23T22:25:04+00:00",
          "commit_author_name": "JR Ladd",
          "stats_additions": 51,
          "stats_deletions": 16,
          "stats_total": 67
         },
         {
          "commit_author_date": "2021-04-10T22:58:49+00:00",
          "commit_author_name": "JR Ladd",
          "stats_additions": 20,
          "stats_deletions": 30,
          "stats_total": 50
         },
         {
          "commit_author_date": "2021-04-10T22:15:01+00:00",
          "commit_author_name": "JR Ladd",
          "stats_additions": 9,
          "stats_deletions": 0,
          "stats_total": 9
         },
         {
          "commit_author_date": "2021-04-10T22:09:05+00:00",
          "commit_author_name": "JR Ladd",
          "stats_additions": 10,
          "stats_deletions": 0,
          "stats_total": 10
         },
         {
          "commit_author_date": "2021-04-10T19:40:29+00:00",
          "commit_author_name": "JR Ladd",
          "stats_additions": 10,
          "stats_deletions": 0,
          "stats_total": 10
         },
         {
          "commit_author_date": "2021-04-10T18:21:17+00:00",
          "commit_author_name": "JR Ladd",
          "stats_additions": 8,
          "stats_deletions": 5,
          "stats_total": 13
         },
         {
          "commit_author_date": "2021-04-10T18:08:14+00:00",
          "commit_author_name": "JR Ladd",
          "stats_additions": 11,
          "stats_deletions": 6,
          "stats_total": 17
         },
         {
          "commit_author_date": "2021-04-10T17:01:51+00:00",
          "commit_author_name": "JR Ladd",
          "stats_additions": 7,
          "stats_deletions": 4,
          "stats_total": 11
         },
         {
          "commit_author_date": "2021-04-10T16:44:37+00:00",
          "commit_author_name": "JR Ladd",
          "stats_additions": 14,
          "stats_deletions": 1,
          "stats_total": 15
         },
         {
          "commit_author_date": "2021-04-10T16:32:30+00:00",
          "commit_author_name": "JR Ladd",
          "stats_additions": 1,
          "stats_deletions": 1,
          "stats_total": 2
         },
         {
          "commit_author_date": "2021-04-08T20:51:24+00:00",
          "commit_author_name": "JR Ladd",
          "stats_additions": 12,
          "stats_deletions": 0,
          "stats_total": 12
         },
         {
          "commit_author_date": "2021-04-08T20:49:01+00:00",
          "commit_author_name": "JR Ladd",
          "stats_additions": 18,
          "stats_deletions": 1,
          "stats_total": 19
         },
         {
          "commit_author_date": "2021-04-07T19:46:34+00:00",
          "commit_author_name": "JR Ladd",
          "stats_additions": 1,
          "stats_deletions": 0,
          "stats_total": 1
         },
         {
          "commit_author_date": "2021-04-07T19:29:24+00:00",
          "commit_author_name": "JR Ladd",
          "stats_additions": 1,
          "stats_deletions": 1,
          "stats_total": 2
         },
         {
          "commit_author_date": "2021-04-07T19:26:03+00:00",
          "commit_author_name": "JR Ladd",
          "stats_additions": 1,
          "stats_deletions": 0,
          "stats_total": 1
         },
         {
          "commit_author_date": "2021-04-07T17:39:03+00:00",
          "commit_author_name": "JR Ladd",
          "stats_additions": 8,
          "stats_deletions": 1,
          "stats_total": 9
         },
         {
          "commit_author_date": "2021-04-07T17:27:23+00:00",
          "commit_author_name": "JR Ladd",
          "stats_additions": 4,
          "stats_deletions": 1,
          "stats_total": 5
         },
         {
          "commit_author_date": "2021-04-02T20:16:17+00:00",
          "commit_author_name": "JR Ladd",
          "stats_additions": 7,
          "stats_deletions": 5,
          "stats_total": 12
         },
         {
          "commit_author_date": "2021-04-02T18:08:39+00:00",
          "commit_author_name": "JR Ladd",
          "stats_additions": 18,
          "stats_deletions": 1,
          "stats_total": 19
         },
         {
          "commit_author_date": "2021-04-02T17:28:48+00:00",
          "commit_author_name": "JR Ladd",
          "stats_additions": 4,
          "stats_deletions": 0,
          "stats_total": 4
         },
         {
          "commit_author_date": "2021-04-02T17:15:08+00:00",
          "commit_author_name": "JR Ladd",
          "stats_additions": 1,
          "stats_deletions": 1,
          "stats_total": 2
         },
         {
          "commit_author_date": "2021-04-02T17:12:32+00:00",
          "commit_author_name": "JR Ladd",
          "stats_additions": 42,
          "stats_deletions": 2,
          "stats_total": 44
         },
         {
          "commit_author_date": "2021-03-11T23:13:44+00:00",
          "commit_author_name": "JR Ladd",
          "stats_additions": 2,
          "stats_deletions": 2,
          "stats_total": 4
         },
         {
          "commit_author_date": "2021-03-11T23:11:48+00:00",
          "commit_author_name": "JR Ladd",
          "stats_additions": 1,
          "stats_deletions": 1,
          "stats_total": 2
         },
         {
          "commit_author_date": "2021-03-11T22:59:18+00:00",
          "commit_author_name": "JR Ladd",
          "stats_additions": 353,
          "stats_deletions": 263,
          "stats_total": 616
         },
         {
          "commit_author_date": "2021-03-11T17:51:27+00:00",
          "commit_author_name": "ZoeLeBlanc",
          "stats_additions": 5,
          "stats_deletions": 13,
          "stats_total": 18
         },
         {
          "commit_author_date": "2021-03-11T17:25:31+00:00",
          "commit_author_name": "ZoeLeBlanc",
          "stats_additions": 135,
          "stats_deletions": 108,
          "stats_total": 243
         },
         {
          "commit_author_date": "2021-03-11T17:25:26+00:00",
          "commit_author_name": "ZoeLeBlanc",
          "stats_additions": 8,
          "stats_deletions": 7,
          "stats_total": 15
         },
         {
          "commit_author_date": "2021-03-10T23:57:42+00:00",
          "commit_author_name": "JR Ladd",
          "stats_additions": 1,
          "stats_deletions": 0,
          "stats_total": 1
         },
         {
          "commit_author_date": "2021-03-10T23:52:46+00:00",
          "commit_author_name": "JR Ladd",
          "stats_additions": 2,
          "stats_deletions": 0,
          "stats_total": 2
         },
         {
          "commit_author_date": "2021-03-10T23:47:41+00:00",
          "commit_author_name": "JR Ladd",
          "stats_additions": 0,
          "stats_deletions": 2,
          "stats_total": 2
         },
         {
          "commit_author_date": "2021-03-10T23:46:48+00:00",
          "commit_author_name": "JR Ladd",
          "stats_additions": 89,
          "stats_deletions": 67,
          "stats_total": 156
         },
         {
          "commit_author_date": "2021-03-10T23:13:41+00:00",
          "commit_author_name": "JR Ladd",
          "stats_additions": 25,
          "stats_deletions": 12,
          "stats_total": 37
         },
         {
          "commit_author_date": "2021-03-10T23:03:33+00:00",
          "commit_author_name": "JR Ladd",
          "stats_additions": 6,
          "stats_deletions": 20,
          "stats_total": 26
         },
         {
          "commit_author_date": "2021-03-10T22:48:37+00:00",
          "commit_author_name": "JR Ladd",
          "stats_additions": 3,
          "stats_deletions": 3,
          "stats_total": 6
         },
         {
          "commit_author_date": "2021-03-10T22:35:31+00:00",
          "commit_author_name": "JR Ladd",
          "stats_additions": 13,
          "stats_deletions": 8,
          "stats_total": 21
         },
         {
          "commit_author_date": "2021-03-10T22:06:28+00:00",
          "commit_author_name": "JR Ladd",
          "stats_additions": 2,
          "stats_deletions": 2,
          "stats_total": 4
         },
         {
          "commit_author_date": "2021-03-10T21:08:54+00:00",
          "commit_author_name": "ZoeLeBlanc",
          "stats_additions": 108,
          "stats_deletions": 63,
          "stats_total": 171
         },
         {
          "commit_author_date": "2021-03-10T21:04:55+00:00",
          "commit_author_name": "ZoeLeBlanc",
          "stats_additions": 34,
          "stats_deletions": 31,
          "stats_total": 65
         },
         {
          "commit_author_date": "2021-03-02T20:03:16+00:00",
          "commit_author_name": "JR Ladd",
          "stats_additions": 1,
          "stats_deletions": 1,
          "stats_total": 2
         },
         {
          "commit_author_date": "2021-03-02T20:00:58+00:00",
          "commit_author_name": "JR Ladd",
          "stats_additions": 2,
          "stats_deletions": 2,
          "stats_total": 4
         },
         {
          "commit_author_date": "2021-03-02T19:38:31+00:00",
          "commit_author_name": "JR Ladd",
          "stats_additions": 7,
          "stats_deletions": 2,
          "stats_total": 9
         },
         {
          "commit_author_date": "2021-03-02T19:26:00+00:00",
          "commit_author_name": "JR Ladd",
          "stats_additions": 3,
          "stats_deletions": 2,
          "stats_total": 5
         },
         {
          "commit_author_date": "2021-03-02T16:20:13+00:00",
          "commit_author_name": "JR Ladd",
          "stats_additions": 31,
          "stats_deletions": 38,
          "stats_total": 69
         },
         {
          "commit_author_date": "2021-03-01T21:18:18+00:00",
          "commit_author_name": "JR Ladd",
          "stats_additions": 62,
          "stats_deletions": 11,
          "stats_total": 73
         },
         {
          "commit_author_date": "2021-03-01T19:19:57+00:00",
          "commit_author_name": "JR Ladd",
          "stats_additions": 10,
          "stats_deletions": 10,
          "stats_total": 20
         },
         {
          "commit_author_date": "2021-03-01T16:47:31+00:00",
          "commit_author_name": "JR Ladd",
          "stats_additions": 2,
          "stats_deletions": 8,
          "stats_total": 10
         },
         {
          "commit_author_date": "2021-02-23T21:28:35+00:00",
          "commit_author_name": "ZoeLeBlanc",
          "stats_additions": 6,
          "stats_deletions": 2,
          "stats_total": 8
         },
         {
          "commit_author_date": "2021-02-23T14:45:00+00:00",
          "commit_author_name": "ZoeLeBlanc",
          "stats_additions": 37,
          "stats_deletions": 35,
          "stats_total": 72
         },
         {
          "commit_author_date": "2021-02-23T03:30:47+00:00",
          "commit_author_name": "ZoeLeBlanc",
          "stats_additions": 75,
          "stats_deletions": 59,
          "stats_total": 134
         },
         {
          "commit_author_date": "2021-02-18T21:38:36+00:00",
          "commit_author_name": "JR Ladd",
          "stats_additions": 428,
          "stats_deletions": 202,
          "stats_total": 630
         },
         {
          "commit_author_date": "2021-02-18T21:35:59+00:00",
          "commit_author_name": "JR Ladd",
          "stats_additions": 0,
          "stats_deletions": 4,
          "stats_total": 4
         },
         {
          "commit_author_date": "2021-02-18T21:34:31+00:00",
          "commit_author_name": "JR Ladd",
          "stats_additions": 5,
          "stats_deletions": 2,
          "stats_total": 7
         },
         {
          "commit_author_date": "2021-02-18T21:26:12+00:00",
          "commit_author_name": "JR Ladd",
          "stats_additions": 3,
          "stats_deletions": 1,
          "stats_total": 4
         },
         {
          "commit_author_date": "2021-02-18T16:58:48+00:00",
          "commit_author_name": "JR Ladd",
          "stats_additions": 3,
          "stats_deletions": 3,
          "stats_total": 6
         },
         {
          "commit_author_date": "2021-02-17T22:36:29+00:00",
          "commit_author_name": "ZoeLeBlanc",
          "stats_additions": 3,
          "stats_deletions": 0,
          "stats_total": 3
         },
         {
          "commit_author_date": "2021-02-17T22:09:03+00:00",
          "commit_author_name": "ZoeLeBlanc",
          "stats_additions": 16,
          "stats_deletions": 14,
          "stats_total": 30
         },
         {
          "commit_author_date": "2021-02-16T23:14:04+00:00",
          "commit_author_name": "ZoeLeBlanc",
          "stats_additions": 221,
          "stats_deletions": 109,
          "stats_total": 330
         },
         {
          "commit_author_date": "2021-02-09T16:04:49+00:00",
          "commit_author_name": "ZoeLeBlanc",
          "stats_additions": 123,
          "stats_deletions": 108,
          "stats_total": 231
         },
         {
          "commit_author_date": "2021-02-08T21:54:25+00:00",
          "commit_author_name": "JR Ladd",
          "stats_additions": 3,
          "stats_deletions": 3,
          "stats_total": 6
         },
         {
          "commit_author_date": "2021-02-08T21:49:49+00:00",
          "commit_author_name": "JR Ladd",
          "stats_additions": 7,
          "stats_deletions": 2,
          "stats_total": 9
         },
         {
          "commit_author_date": "2021-02-08T20:42:53+00:00",
          "commit_author_name": "JR Ladd",
          "stats_additions": 5,
          "stats_deletions": 2,
          "stats_total": 7
         },
         {
          "commit_author_date": "2021-02-05T22:22:51+00:00",
          "commit_author_name": "JR Ladd",
          "stats_additions": 22,
          "stats_deletions": 21,
          "stats_total": 43
         },
         {
          "commit_author_date": "2021-02-05T22:08:02+00:00",
          "commit_author_name": "JR Ladd",
          "stats_additions": 4,
          "stats_deletions": 0,
          "stats_total": 4
         },
         {
          "commit_author_date": "2021-02-05T22:00:44+00:00",
          "commit_author_name": "JR Ladd",
          "stats_additions": 8,
          "stats_deletions": 0,
          "stats_total": 8
         },
         {
          "commit_author_date": "2021-02-05T21:40:29+00:00",
          "commit_author_name": "JR Ladd",
          "stats_additions": 4,
          "stats_deletions": 2,
          "stats_total": 6
         },
         {
          "commit_author_date": "2021-02-05T21:25:05+00:00",
          "commit_author_name": "JR Ladd",
          "stats_additions": 2,
          "stats_deletions": 2,
          "stats_total": 4
         },
         {
          "commit_author_date": "2021-02-05T21:15:52+00:00",
          "commit_author_name": "JR Ladd",
          "stats_additions": 6,
          "stats_deletions": 2,
          "stats_total": 8
         },
         {
          "commit_author_date": "2021-02-04T21:05:48+00:00",
          "commit_author_name": "JR Ladd",
          "stats_additions": 104,
          "stats_deletions": 40,
          "stats_total": 144
         },
         {
          "commit_author_date": "2021-02-02T22:40:14+00:00",
          "commit_author_name": "JR Ladd",
          "stats_additions": 6,
          "stats_deletions": 6,
          "stats_total": 12
         },
         {
          "commit_author_date": "2021-02-02T19:53:15+00:00",
          "commit_author_name": "ZoeLeBlanc",
          "stats_additions": 0,
          "stats_deletions": 0,
          "stats_total": 0
         },
         {
          "commit_author_date": "2021-02-02T19:53:10+00:00",
          "commit_author_name": "ZoeLeBlanc",
          "stats_additions": 28,
          "stats_deletions": 4,
          "stats_total": 32
         },
         {
          "commit_author_date": "2021-02-02T19:52:18+00:00",
          "commit_author_name": "ZoeLeBlanc",
          "stats_additions": 7,
          "stats_deletions": 11,
          "stats_total": 18
         },
         {
          "commit_author_date": "2021-02-01T23:58:06+00:00",
          "commit_author_name": "JR Ladd",
          "stats_additions": 29,
          "stats_deletions": 5,
          "stats_total": 34
         },
         {
          "commit_author_date": "2021-01-27T16:57:29+00:00",
          "commit_author_name": "ZoeLeBlanc",
          "stats_additions": 120,
          "stats_deletions": 47,
          "stats_total": 167
         },
         {
          "commit_author_date": "2021-01-26T21:13:37+00:00",
          "commit_author_name": "ZoeLeBlanc",
          "stats_additions": 88,
          "stats_deletions": 51,
          "stats_total": 139
         },
         {
          "commit_author_date": "2021-01-26T16:46:42+00:00",
          "commit_author_name": "ZoeLeBlanc",
          "stats_additions": 6,
          "stats_deletions": 8,
          "stats_total": 14
         },
         {
          "commit_author_date": "2021-01-26T16:45:52+00:00",
          "commit_author_name": "ZoeLeBlanc",
          "stats_additions": 32,
          "stats_deletions": 33,
          "stats_total": 65
         },
         {
          "commit_author_date": "2021-01-14T22:37:47+00:00",
          "commit_author_name": "JR Ladd",
          "stats_additions": 2,
          "stats_deletions": 2,
          "stats_total": 4
         },
         {
          "commit_author_date": "2021-01-14T22:29:16+00:00",
          "commit_author_name": "JR Ladd",
          "stats_additions": 2,
          "stats_deletions": 0,
          "stats_total": 2
         },
         {
          "commit_author_date": "2021-01-14T22:26:25+00:00",
          "commit_author_name": "JR Ladd",
          "stats_additions": 3,
          "stats_deletions": 7,
          "stats_total": 10
         },
         {
          "commit_author_date": "2021-01-04T23:17:29+00:00",
          "commit_author_name": "JR Ladd",
          "stats_additions": 2,
          "stats_deletions": 2,
          "stats_total": 4
         },
         {
          "commit_author_date": "2021-01-04T22:43:22+00:00",
          "commit_author_name": "JR Ladd",
          "stats_additions": 18,
          "stats_deletions": 5,
          "stats_total": 23
         },
         {
          "commit_author_date": "2020-12-31T17:54:51+00:00",
          "commit_author_name": "JR Ladd",
          "stats_additions": 14,
          "stats_deletions": 4,
          "stats_total": 18
         },
         {
          "commit_author_date": "2020-12-31T17:15:05+00:00",
          "commit_author_name": "JR Ladd",
          "stats_additions": 17,
          "stats_deletions": 0,
          "stats_total": 17
         },
         {
          "commit_author_date": "2020-12-30T17:34:23+00:00",
          "commit_author_name": "JR Ladd",
          "stats_additions": 79,
          "stats_deletions": 15,
          "stats_total": 94
         },
         {
          "commit_author_date": "2020-12-30T17:31:31+00:00",
          "commit_author_name": "JR Ladd",
          "stats_additions": 1,
          "stats_deletions": 1,
          "stats_total": 2
         },
         {
          "commit_author_date": "2020-12-23T17:13:47+00:00",
          "commit_author_name": "JR Ladd",
          "stats_additions": 9,
          "stats_deletions": 0,
          "stats_total": 9
         },
         {
          "commit_author_date": "2020-12-23T16:53:53+00:00",
          "commit_author_name": "JR Ladd",
          "stats_additions": 17,
          "stats_deletions": 4,
          "stats_total": 21
         },
         {
          "commit_author_date": "2020-12-22T23:01:18+00:00",
          "commit_author_name": "JR Ladd",
          "stats_additions": 9,
          "stats_deletions": 0,
          "stats_total": 9
         },
         {
          "commit_author_date": "2020-12-22T22:55:34+00:00",
          "commit_author_name": "JR Ladd",
          "stats_additions": 41,
          "stats_deletions": 8,
          "stats_total": 49
         },
         {
          "commit_author_date": "2020-12-22T22:09:53+00:00",
          "commit_author_name": "JR Ladd",
          "stats_additions": 3,
          "stats_deletions": 3,
          "stats_total": 6
         },
         {
          "commit_author_date": "2020-12-22T21:45:22+00:00",
          "commit_author_name": "JR Ladd",
          "stats_additions": 1,
          "stats_deletions": 1,
          "stats_total": 2
         },
         {
          "commit_author_date": "2020-12-21T19:54:13+00:00",
          "commit_author_name": "ZoeLeBlanc",
          "stats_additions": 594,
          "stats_deletions": 313,
          "stats_total": 907
         },
         {
          "commit_author_date": "2020-12-21T19:53:34+00:00",
          "commit_author_name": "ZoeLeBlanc",
          "stats_additions": 4,
          "stats_deletions": 0,
          "stats_total": 4
         },
         {
          "commit_author_date": "2020-12-21T19:52:11+00:00",
          "commit_author_name": "ZoeLeBlanc",
          "stats_additions": 2,
          "stats_deletions": 0,
          "stats_total": 2
         },
         {
          "commit_author_date": "2020-12-21T19:50:09+00:00",
          "commit_author_name": "ZoeLeBlanc",
          "stats_additions": 1,
          "stats_deletions": 1,
          "stats_total": 2
         },
         {
          "commit_author_date": "2020-12-17T17:41:09+00:00",
          "commit_author_name": "ZoeLeBlanc",
          "stats_additions": 21,
          "stats_deletions": 19,
          "stats_total": 40
         },
         {
          "commit_author_date": "2020-12-16T23:00:15+00:00",
          "commit_author_name": "ZoeLeBlanc",
          "stats_additions": 81,
          "stats_deletions": 44,
          "stats_total": 125
         },
         {
          "commit_author_date": "2020-12-16T20:29:13+00:00",
          "commit_author_name": "ZoeLeBlanc",
          "stats_additions": 2,
          "stats_deletions": 93,
          "stats_total": 95
         },
         {
          "commit_author_date": "2020-12-16T20:08:59+00:00",
          "commit_author_name": "ZoeLeBlanc",
          "stats_additions": 320,
          "stats_deletions": 167,
          "stats_total": 487
         },
         {
          "commit_author_date": "2020-12-11T17:14:00+00:00",
          "commit_author_name": "ZoeLeBlanc",
          "stats_additions": 0,
          "stats_deletions": 0,
          "stats_total": 0
         },
         {
          "commit_author_date": "2020-12-11T17:13:56+00:00",
          "commit_author_name": "ZoeLeBlanc",
          "stats_additions": 175,
          "stats_deletions": 96,
          "stats_total": 271
         },
         {
          "commit_author_date": "2020-12-08T21:34:27+00:00",
          "commit_author_name": "JR Ladd",
          "stats_additions": 48,
          "stats_deletions": 8,
          "stats_total": 56
         },
         {
          "commit_author_date": "2020-12-08T16:14:41+00:00",
          "commit_author_name": "ZoeLeBlanc",
          "stats_additions": 136,
          "stats_deletions": 135,
          "stats_total": 271
         },
         {
          "commit_author_date": "2020-12-04T18:27:45+00:00",
          "commit_author_name": "ZoeLeBlanc",
          "stats_additions": 8,
          "stats_deletions": 12,
          "stats_total": 20
         },
         {
          "commit_author_date": "2020-12-03T21:37:53+00:00",
          "commit_author_name": "ZoeLeBlanc",
          "stats_additions": 139,
          "stats_deletions": 1,
          "stats_total": 140
         },
         {
          "commit_author_date": "2020-12-02T00:10:23+00:00",
          "commit_author_name": "JR Ladd",
          "stats_additions": 17,
          "stats_deletions": 2,
          "stats_total": 19
         },
         {
          "commit_author_date": "2020-12-01T23:09:28+00:00",
          "commit_author_name": "JR Ladd",
          "stats_additions": 32,
          "stats_deletions": 7,
          "stats_total": 39
         },
         {
          "commit_author_date": "2020-12-01T21:48:14+00:00",
          "commit_author_name": "JR Ladd",
          "stats_additions": 541,
          "stats_deletions": 397,
          "stats_total": 938
         },
         {
          "commit_author_date": "2020-12-01T21:45:29+00:00",
          "commit_author_name": "JR Ladd",
          "stats_additions": 820,
          "stats_deletions": 1093,
          "stats_total": 1913
         },
         {
          "commit_author_date": "2020-12-01T21:44:44+00:00",
          "commit_author_name": "JR Ladd",
          "stats_additions": 820,
          "stats_deletions": 1093,
          "stats_total": 1913
         },
         {
          "commit_author_date": "2020-12-01T21:43:32+00:00",
          "commit_author_name": "JR Ladd",
          "stats_additions": 1093,
          "stats_deletions": 820,
          "stats_total": 1913
         },
         {
          "commit_author_date": "2020-12-01T21:39:58+00:00",
          "commit_author_name": "JR Ladd",
          "stats_additions": 30,
          "stats_deletions": 5,
          "stats_total": 35
         },
         {
          "commit_author_date": "2020-12-01T21:19:13+00:00",
          "commit_author_name": "ZoeLeBlanc",
          "stats_additions": 1,
          "stats_deletions": 2,
          "stats_total": 3
         },
         {
          "commit_author_date": "2020-11-30T16:22:01+00:00",
          "commit_author_name": "ZoeLeBlanc",
          "stats_additions": 322,
          "stats_deletions": 459,
          "stats_total": 781
         },
         {
          "commit_author_date": "2020-11-24T23:43:05+00:00",
          "commit_author_name": "ZoeLeBlanc",
          "stats_additions": 78,
          "stats_deletions": 9,
          "stats_total": 87
         },
         {
          "commit_author_date": "2020-11-24T23:32:34+00:00",
          "commit_author_name": "ZoeLeBlanc",
          "stats_additions": 222,
          "stats_deletions": 110,
          "stats_total": 332
         },
         {
          "commit_author_date": "2020-11-24T23:04:42+00:00",
          "commit_author_name": "JR Ladd",
          "stats_additions": 78,
          "stats_deletions": 4,
          "stats_total": 82
         },
         {
          "commit_author_date": "2020-11-17T21:20:19+00:00",
          "commit_author_name": "ZoeLeBlanc",
          "stats_additions": 0,
          "stats_deletions": 0,
          "stats_total": 0
         },
         {
          "commit_author_date": "2020-11-17T21:20:15+00:00",
          "commit_author_name": "ZoeLeBlanc",
          "stats_additions": 166,
          "stats_deletions": 16,
          "stats_total": 182
         },
         {
          "commit_author_date": "2020-11-17T21:19:08+00:00",
          "commit_author_name": "JR Ladd",
          "stats_additions": 115,
          "stats_deletions": 8,
          "stats_total": 123
         },
         {
          "commit_author_date": "2020-11-13T17:25:34+00:00",
          "commit_author_name": "JR Ladd",
          "stats_additions": 4,
          "stats_deletions": 4,
          "stats_total": 8
         },
         {
          "commit_author_date": "2020-11-13T16:52:27+00:00",
          "commit_author_name": "JR Ladd",
          "stats_additions": 4,
          "stats_deletions": 4,
          "stats_total": 8
         },
         {
          "commit_author_date": "2020-11-12T23:25:58+00:00",
          "commit_author_name": "JR Ladd",
          "stats_additions": 41,
          "stats_deletions": 6,
          "stats_total": 47
         },
         {
          "commit_author_date": "2020-11-03T16:01:41+00:00",
          "commit_author_name": "JR Ladd",
          "stats_additions": 69,
          "stats_deletions": 4,
          "stats_total": 73
         },
         {
          "commit_author_date": "2020-10-25T20:58:33+00:00",
          "commit_author_name": "JR Ladd",
          "stats_additions": 7,
          "stats_deletions": 0,
          "stats_total": 7
         },
         {
          "commit_author_date": "2020-10-25T20:36:45+00:00",
          "commit_author_name": "JR Ladd",
          "stats_additions": 1,
          "stats_deletions": 1,
          "stats_total": 2
         },
         {
          "commit_author_date": "2020-10-24T22:33:27+00:00",
          "commit_author_name": "JR Ladd",
          "stats_additions": 11,
          "stats_deletions": 5,
          "stats_total": 16
         },
         {
          "commit_author_date": "2020-10-24T21:50:07+00:00",
          "commit_author_name": "JR Ladd",
          "stats_additions": 68,
          "stats_deletions": 72,
          "stats_total": 140
         },
         {
          "commit_author_date": "2020-10-20T23:23:09+00:00",
          "commit_author_name": "ZoeLeBlanc",
          "stats_additions": 516,
          "stats_deletions": 473,
          "stats_total": 989
         },
         {
          "commit_author_date": "2020-10-20T22:57:45+00:00",
          "commit_author_name": "ZoeLeBlanc",
          "stats_additions": 2,
          "stats_deletions": 1,
          "stats_total": 3
         },
         {
          "commit_author_date": "2020-10-20T20:35:11+00:00",
          "commit_author_name": "ZoeLeBlanc",
          "stats_additions": 35,
          "stats_deletions": 33,
          "stats_total": 68
         },
         {
          "commit_author_date": "2020-10-20T16:50:52+00:00",
          "commit_author_name": "ZoeLeBlanc",
          "stats_additions": 58,
          "stats_deletions": 27,
          "stats_total": 85
         },
         {
          "commit_author_date": "2020-10-20T15:25:53+00:00",
          "commit_author_name": "JR Ladd",
          "stats_additions": 6,
          "stats_deletions": 3,
          "stats_total": 9
         },
         {
          "commit_author_date": "2020-10-20T15:09:26+00:00",
          "commit_author_name": "JR Ladd",
          "stats_additions": 22,
          "stats_deletions": 20,
          "stats_total": 42
         },
         {
          "commit_author_date": "2020-10-20T01:24:33+00:00",
          "commit_author_name": "ZoeLeBlanc",
          "stats_additions": 542,
          "stats_deletions": 158,
          "stats_total": 700
         },
         {
          "commit_author_date": "2020-10-16T22:39:00+00:00",
          "commit_author_name": "JR Ladd",
          "stats_additions": 4,
          "stats_deletions": 14,
          "stats_total": 18
         },
         {
          "commit_author_date": "2020-10-16T22:10:55+00:00",
          "commit_author_name": "JR Ladd",
          "stats_additions": 14,
          "stats_deletions": 22,
          "stats_total": 36
         },
         {
          "commit_author_date": "2020-10-15T23:10:20+00:00",
          "commit_author_name": "JR Ladd",
          "stats_additions": 30,
          "stats_deletions": 35,
          "stats_total": 65
         },
         {
          "commit_author_date": "2020-10-15T01:21:12+00:00",
          "commit_author_name": "JR Ladd",
          "stats_additions": 68,
          "stats_deletions": 560,
          "stats_total": 628
         },
         {
          "commit_author_date": "2019-08-30T14:15:53+00:00",
          "commit_author_name": "JR Ladd",
          "stats_additions": 1,
          "stats_deletions": 1,
          "stats_total": 2
         },
         {
          "commit_author_date": "2019-08-30T14:13:05+00:00",
          "commit_author_name": "JR Ladd",
          "stats_additions": 1,
          "stats_deletions": 1,
          "stats_total": 2
         },
         {
          "commit_author_date": "2019-08-29T21:56:05+00:00",
          "commit_author_name": "Matthew Lincoln",
          "stats_additions": 1,
          "stats_deletions": 1,
          "stats_total": 2
         },
         {
          "commit_author_date": "2018-03-31T21:40:01+00:00",
          "commit_author_name": "JR Ladd",
          "stats_additions": 1,
          "stats_deletions": 0,
          "stats_total": 1
         },
         {
          "commit_author_date": "2018-03-31T21:38:40+00:00",
          "commit_author_name": "JR Ladd",
          "stats_additions": 4,
          "stats_deletions": 9,
          "stats_total": 13
         },
         {
          "commit_author_date": "2018-01-23T19:51:02+00:00",
          "commit_author_name": "JR Ladd",
          "stats_additions": 4,
          "stats_deletions": 1,
          "stats_total": 5
         },
         {
          "commit_author_date": "2018-01-16T16:12:13+00:00",
          "commit_author_name": "JR Ladd",
          "stats_additions": 0,
          "stats_deletions": 1143,
          "stats_total": 1143
         },
         {
          "commit_author_date": "2018-01-15T19:25:47+00:00",
          "commit_author_name": "JR Ladd",
          "stats_additions": 114,
          "stats_deletions": 61,
          "stats_total": 175
         },
         {
          "commit_author_date": "2018-01-12T20:00:15+00:00",
          "commit_author_name": "JR Ladd",
          "stats_additions": 1,
          "stats_deletions": 1,
          "stats_total": 2
         },
         {
          "commit_author_date": "2018-01-12T19:16:03+00:00",
          "commit_author_name": "JR Ladd",
          "stats_additions": 52,
          "stats_deletions": 11,
          "stats_total": 63
         },
         {
          "commit_author_date": "2018-01-11T22:47:52+00:00",
          "commit_author_name": "JR Ladd",
          "stats_additions": 29,
          "stats_deletions": 1,
          "stats_total": 30
         },
         {
          "commit_author_date": "2018-01-11T20:29:04+00:00",
          "commit_author_name": "JR Ladd",
          "stats_additions": 16,
          "stats_deletions": 7,
          "stats_total": 23
         },
         {
          "commit_author_date": "2018-01-11T20:15:57+00:00",
          "commit_author_name": "JR Ladd",
          "stats_additions": 49,
          "stats_deletions": 11,
          "stats_total": 60
         },
         {
          "commit_author_date": "2018-01-11T18:49:25+00:00",
          "commit_author_name": "JR Ladd",
          "stats_additions": 26,
          "stats_deletions": 2,
          "stats_total": 28
         },
         {
          "commit_author_date": "2017-08-29T03:20:17+00:00",
          "commit_author_name": "JR Ladd",
          "stats_additions": 1,
          "stats_deletions": 0,
          "stats_total": 1
         },
         {
          "commit_author_date": "2017-08-29T03:17:01+00:00",
          "commit_author_name": "JR Ladd",
          "stats_additions": 3,
          "stats_deletions": 1,
          "stats_total": 4
         },
         {
          "commit_author_date": "2017-08-29T03:14:15+00:00",
          "commit_author_name": "JR Ladd",
          "stats_additions": 32,
          "stats_deletions": 7,
          "stats_total": 39
         },
         {
          "commit_author_date": "2017-08-10T03:12:41+00:00",
          "commit_author_name": "JR Ladd",
          "stats_additions": 42,
          "stats_deletions": 15,
          "stats_total": 57
         },
         {
          "commit_author_date": "2017-08-09T03:19:18+00:00",
          "commit_author_name": "JR Ladd",
          "stats_additions": 1728,
          "stats_deletions": 0,
          "stats_total": 1728
         }
        ]
       },
       "encoding": {
        "color": {
         "field": "commit_author_name",
         "legend": {
          "title": "Author"
         },
         "scale": {
          "scheme": "tableau20"
         },
         "sort": {
          "field": "stats_total",
          "op": "sum",
          "order": "descending"
         },
         "type": "nominal"
        },
        "opacity": {
         "condition": {
          "param": "param_16",
          "value": 1
         },
         "value": 0.2
        },
        "tooltip": [
         {
          "field": "commit_author_name",
          "type": "nominal"
         },
         {
          "field": "commit_author_date",
          "type": "temporal"
         },
         {
          "field": "stats_total",
          "type": "quantitative"
         }
        ],
        "x": {
         "field": "commit_author_date",
         "title": "Date",
         "type": "temporal"
        },
        "y": {
         "field": "stats_total",
         "stack": null,
         "title": "Total Contributions",
         "type": "quantitative"
        }
       },
       "mark": {
        "opacity": 0.7,
        "type": "bar"
       },
       "params": [
        {
         "bind": "legend",
         "name": "param_16",
         "select": {
          "fields": [
           "commit_author_name"
          ],
          "type": "point"
         }
        },
        {
         "bind": "scales",
         "name": "param_17",
         "select": {
          "encodings": [
           "x"
          ],
          "type": "interval"
         }
        }
       ],
       "title": "Contributors to Network Navigator"
      },
      "text/plain": [
       "<VegaLite 5 object>\n",
       "\n",
       "If you see this message, it means the renderer has not been properly enabled\n",
       "for the frontend that you are using. For more information, see\n",
       "https://altair-viz.github.io/user_guide/display_frontends.html#troubleshooting\n"
      ]
     },
     "execution_count": 97,
     "metadata": {},
     "output_type": "execute_result"
    }
   ],
   "source": [
    "selection = alt.selection_point(fields=['commit_author_name'], bind='legend')\n",
    "\n",
    "author_chart = alt.Chart(subset_commits_df).mark_bar(opacity=0.7).encode(\n",
    "    x=alt.X('commit_author_date:T', title='Date'),\n",
    "    y=alt.Y('stats_total:Q', title='Total Contributions').stack(None),\n",
    "    color=alt.Color('commit_author_name:N',\n",
    "        scale=alt.Scale(scheme='tableau20'), \n",
    "        legend=alt.Legend(title=\"Author\"),\n",
    "        sort=alt.EncodingSortField(\n",
    "            field=\"stats_total\",  # The field to use for the sort\n",
    "            op=\"sum\",            # The operation to run on the field prior to sorting\n",
    "            order=\"descending\"   # The sort order\n",
    "        )\n",
    "    ),\n",
    "    tooltip=['commit_author_name:N', 'commit_author_date:T', 'stats_total:Q'],\n",
    "    opacity=alt.condition(selection, alt.value(1), alt.value(0.2)),\n",
    ").add_params(selection).interactive(bind_y=False).properties(\n",
    "    title=\"Contributors to Network Navigator\",\n",
    ")\n",
    "\n",
    "author_chart\n"
   ]
  },
  {
   "cell_type": "code",
   "execution_count": 99,
   "metadata": {},
   "outputs": [
    {
     "data": {
      "application/vnd.vegalite.v5+json": {
       "$schema": "https://vega.github.io/schema/vega-lite/v5.8.0.json",
       "config": {
        "axis": {
         "labelFont": "Garamond",
         "titleFont": "Garamond"
        },
        "legend": {
         "labelFont": "Garamond",
         "titleFont": "Garamond"
        },
        "title": {
         "anchor": "middle",
         "font": "Garamond",
         "fontSize": 20
        },
        "view": {
         "continuousHeight": 300,
         "continuousWidth": 300
        }
       },
       "datasets": {
        "data-16b0b689968ffb10e245c9397d3b7430": [
         {
          "commit_author_date": "2021-07-23T14:12:01+00:00",
          "commit_author_name": "JR Ladd",
          "stats_additions": 1,
          "stats_deletions": 1,
          "stats_total": 2
         },
         {
          "commit_author_date": "2021-07-02T18:19:38+00:00",
          "commit_author_name": "JR Ladd",
          "stats_additions": 1,
          "stats_deletions": 1,
          "stats_total": 2
         },
         {
          "commit_author_date": "2021-06-30T19:43:16+00:00",
          "commit_author_name": "JR Ladd",
          "stats_additions": 1,
          "stats_deletions": 1,
          "stats_total": 2
         },
         {
          "commit_author_date": "2021-06-30T19:15:00+00:00",
          "commit_author_name": "JR Ladd",
          "stats_additions": 1,
          "stats_deletions": 0,
          "stats_total": 1
         },
         {
          "commit_author_date": "2021-06-30T19:07:56+00:00",
          "commit_author_name": "JR Ladd",
          "stats_additions": 1,
          "stats_deletions": 1,
          "stats_total": 2
         },
         {
          "commit_author_date": "2021-06-30T19:05:38+00:00",
          "commit_author_name": "JR Ladd",
          "stats_additions": 0,
          "stats_deletions": 828,
          "stats_total": 828
         },
         {
          "commit_author_date": "2021-06-30T18:54:13+00:00",
          "commit_author_name": "JR Ladd",
          "stats_additions": 2653,
          "stats_deletions": 0,
          "stats_total": 2653
         },
         {
          "commit_author_date": "2021-06-30T18:53:26+00:00",
          "commit_author_name": "JR Ladd",
          "stats_additions": 824,
          "stats_deletions": 18,
          "stats_total": 842
         },
         {
          "commit_author_date": "2021-06-29T20:31:27+00:00",
          "commit_author_name": "JR Ladd",
          "stats_additions": 2,
          "stats_deletions": 2,
          "stats_total": 4
         },
         {
          "commit_author_date": "2021-06-29T19:58:15+00:00",
          "commit_author_name": "JR Ladd",
          "stats_additions": 3,
          "stats_deletions": 2,
          "stats_total": 5
         },
         {
          "commit_author_date": "2021-06-29T19:49:55+00:00",
          "commit_author_name": "JR Ladd",
          "stats_additions": 2,
          "stats_deletions": 2,
          "stats_total": 4
         },
         {
          "commit_author_date": "2021-06-15T20:18:05+00:00",
          "commit_author_name": "JR Ladd",
          "stats_additions": 1050,
          "stats_deletions": 215,
          "stats_total": 1265
         },
         {
          "commit_author_date": "2021-06-08T14:44:04+00:00",
          "commit_author_name": "JR Ladd",
          "stats_additions": 5,
          "stats_deletions": 0,
          "stats_total": 5
         },
         {
          "commit_author_date": "2021-06-08T14:39:41+00:00",
          "commit_author_name": "JR Ladd",
          "stats_additions": 1,
          "stats_deletions": 1,
          "stats_total": 2
         },
         {
          "commit_author_date": "2021-06-08T14:35:47+00:00",
          "commit_author_name": "JR Ladd",
          "stats_additions": 8,
          "stats_deletions": 2,
          "stats_total": 10
         },
         {
          "commit_author_date": "2021-06-08T14:24:28+00:00",
          "commit_author_name": "JR Ladd",
          "stats_additions": 1,
          "stats_deletions": 1,
          "stats_total": 2
         },
         {
          "commit_author_date": "2021-06-02T14:38:03+00:00",
          "commit_author_name": "JR Ladd",
          "stats_additions": 7,
          "stats_deletions": 0,
          "stats_total": 7
         },
         {
          "commit_author_date": "2021-06-02T14:16:03+00:00",
          "commit_author_name": "JR Ladd",
          "stats_additions": 21,
          "stats_deletions": 0,
          "stats_total": 21
         },
         {
          "commit_author_date": "2021-06-01T17:14:41+00:00",
          "commit_author_name": "JR Ladd",
          "stats_additions": 5,
          "stats_deletions": 0,
          "stats_total": 5
         },
         {
          "commit_author_date": "2021-06-01T16:40:31+00:00",
          "commit_author_name": "JR Ladd",
          "stats_additions": 12,
          "stats_deletions": 2,
          "stats_total": 14
         },
         {
          "commit_author_date": "2021-05-27T21:41:00+00:00",
          "commit_author_name": "JR Ladd",
          "stats_additions": 2,
          "stats_deletions": 0,
          "stats_total": 2
         },
         {
          "commit_author_date": "2021-05-27T21:35:59+00:00",
          "commit_author_name": "JR Ladd",
          "stats_additions": 0,
          "stats_deletions": 0,
          "stats_total": 0
         },
         {
          "commit_author_date": "2021-05-27T21:35:27+00:00",
          "commit_author_name": "JR Ladd",
          "stats_additions": 78,
          "stats_deletions": 0,
          "stats_total": 78
         },
         {
          "commit_author_date": "2021-05-27T21:35:12+00:00",
          "commit_author_name": "JR Ladd",
          "stats_additions": 2,
          "stats_deletions": 1,
          "stats_total": 3
         },
         {
          "commit_author_date": "2021-05-27T20:35:41+00:00",
          "commit_author_name": "JR Ladd",
          "stats_additions": 25,
          "stats_deletions": 10,
          "stats_total": 35
         },
         {
          "commit_author_date": "2021-05-27T20:09:38+00:00",
          "commit_author_name": "JR Ladd",
          "stats_additions": 4,
          "stats_deletions": 8,
          "stats_total": 12
         },
         {
          "commit_author_date": "2021-05-25T18:07:10+00:00",
          "commit_author_name": "ZoeLeBlanc",
          "stats_additions": 12,
          "stats_deletions": 12,
          "stats_total": 24
         },
         {
          "commit_author_date": "2021-05-23T21:45:28+00:00",
          "commit_author_name": "JR Ladd",
          "stats_additions": 18,
          "stats_deletions": 21,
          "stats_total": 39
         },
         {
          "commit_author_date": "2021-05-23T21:17:10+00:00",
          "commit_author_name": "JR Ladd",
          "stats_additions": 11,
          "stats_deletions": 11,
          "stats_total": 22
         },
         {
          "commit_author_date": "2021-05-23T21:03:23+00:00",
          "commit_author_name": "JR Ladd",
          "stats_additions": 3,
          "stats_deletions": 5,
          "stats_total": 8
         },
         {
          "commit_author_date": "2021-05-23T20:47:39+00:00",
          "commit_author_name": "JR Ladd",
          "stats_additions": 8,
          "stats_deletions": 16,
          "stats_total": 24
         },
         {
          "commit_author_date": "2021-05-23T20:36:40+00:00",
          "commit_author_name": "JR Ladd",
          "stats_additions": 1,
          "stats_deletions": 0,
          "stats_total": 1
         },
         {
          "commit_author_date": "2021-05-23T20:29:30+00:00",
          "commit_author_name": "JR Ladd",
          "stats_additions": 3,
          "stats_deletions": 2,
          "stats_total": 5
         },
         {
          "commit_author_date": "2021-05-23T20:11:03+00:00",
          "commit_author_name": "JR Ladd",
          "stats_additions": 6,
          "stats_deletions": 8,
          "stats_total": 14
         },
         {
          "commit_author_date": "2021-05-18T23:33:45+00:00",
          "commit_author_name": "ZoeLeBlanc",
          "stats_additions": 27,
          "stats_deletions": 26,
          "stats_total": 53
         },
         {
          "commit_author_date": "2021-05-05T22:52:20+00:00",
          "commit_author_name": "JR Ladd",
          "stats_additions": 1,
          "stats_deletions": 1,
          "stats_total": 2
         },
         {
          "commit_author_date": "2021-05-05T22:43:43+00:00",
          "commit_author_name": "JR Ladd",
          "stats_additions": 154,
          "stats_deletions": 1,
          "stats_total": 155
         },
         {
          "commit_author_date": "2021-05-05T21:21:48+00:00",
          "commit_author_name": "JR Ladd",
          "stats_additions": 90,
          "stats_deletions": 3,
          "stats_total": 93
         },
         {
          "commit_author_date": "2021-05-05T15:10:49+00:00",
          "commit_author_name": "JR Ladd",
          "stats_additions": 0,
          "stats_deletions": 2,
          "stats_total": 2
         },
         {
          "commit_author_date": "2021-05-04T14:59:30+00:00",
          "commit_author_name": "JR Ladd",
          "stats_additions": 29,
          "stats_deletions": 22,
          "stats_total": 51
         },
         {
          "commit_author_date": "2021-05-02T15:13:22+00:00",
          "commit_author_name": "JR Ladd",
          "stats_additions": 0,
          "stats_deletions": 1,
          "stats_total": 1
         },
         {
          "commit_author_date": "2021-05-02T15:12:47+00:00",
          "commit_author_name": "JR Ladd",
          "stats_additions": 100,
          "stats_deletions": 6,
          "stats_total": 106
         },
         {
          "commit_author_date": "2021-04-30T21:27:41+00:00",
          "commit_author_name": "JR Ladd",
          "stats_additions": 9,
          "stats_deletions": 0,
          "stats_total": 9
         },
         {
          "commit_author_date": "2021-04-30T21:15:52+00:00",
          "commit_author_name": "JR Ladd",
          "stats_additions": 46,
          "stats_deletions": 12,
          "stats_total": 58
         },
         {
          "commit_author_date": "2021-04-30T19:50:38+00:00",
          "commit_author_name": "JR Ladd",
          "stats_additions": 1,
          "stats_deletions": 1,
          "stats_total": 2
         },
         {
          "commit_author_date": "2021-04-30T17:16:06+00:00",
          "commit_author_name": "JR Ladd",
          "stats_additions": 1,
          "stats_deletions": 1,
          "stats_total": 2
         },
         {
          "commit_author_date": "2021-04-30T17:11:43+00:00",
          "commit_author_name": "JR Ladd",
          "stats_additions": 46,
          "stats_deletions": 32,
          "stats_total": 78
         },
         {
          "commit_author_date": "2021-04-29T21:52:36+00:00",
          "commit_author_name": "JR Ladd",
          "stats_additions": 57,
          "stats_deletions": 24,
          "stats_total": 81
         },
         {
          "commit_author_date": "2021-04-29T20:33:32+00:00",
          "commit_author_name": "JR Ladd",
          "stats_additions": 2,
          "stats_deletions": 0,
          "stats_total": 2
         },
         {
          "commit_author_date": "2021-04-29T20:09:46+00:00",
          "commit_author_name": "JR Ladd",
          "stats_additions": 14,
          "stats_deletions": 4,
          "stats_total": 18
         },
         {
          "commit_author_date": "2021-04-29T18:49:00+00:00",
          "commit_author_name": "JR Ladd",
          "stats_additions": 21,
          "stats_deletions": 4,
          "stats_total": 25
         },
         {
          "commit_author_date": "2021-04-29T18:19:12+00:00",
          "commit_author_name": "JR Ladd",
          "stats_additions": 1,
          "stats_deletions": 0,
          "stats_total": 1
         },
         {
          "commit_author_date": "2021-04-29T17:19:17+00:00",
          "commit_author_name": "JR Ladd",
          "stats_additions": 47,
          "stats_deletions": 27,
          "stats_total": 74
         },
         {
          "commit_author_date": "2021-04-28T22:53:53+00:00",
          "commit_author_name": "JR Ladd",
          "stats_additions": 20,
          "stats_deletions": 10,
          "stats_total": 30
         },
         {
          "commit_author_date": "2021-04-28T21:27:52+00:00",
          "commit_author_name": "JR Ladd",
          "stats_additions": 37,
          "stats_deletions": 1,
          "stats_total": 38
         },
         {
          "commit_author_date": "2021-04-26T21:19:42+00:00",
          "commit_author_name": "JR Ladd",
          "stats_additions": 5,
          "stats_deletions": 11,
          "stats_total": 16
         },
         {
          "commit_author_date": "2021-04-23T22:58:07+00:00",
          "commit_author_name": "JR Ladd",
          "stats_additions": 1,
          "stats_deletions": 0,
          "stats_total": 1
         },
         {
          "commit_author_date": "2021-04-23T22:25:04+00:00",
          "commit_author_name": "JR Ladd",
          "stats_additions": 51,
          "stats_deletions": 16,
          "stats_total": 67
         },
         {
          "commit_author_date": "2021-04-10T22:58:49+00:00",
          "commit_author_name": "JR Ladd",
          "stats_additions": 20,
          "stats_deletions": 30,
          "stats_total": 50
         },
         {
          "commit_author_date": "2021-04-10T22:15:01+00:00",
          "commit_author_name": "JR Ladd",
          "stats_additions": 9,
          "stats_deletions": 0,
          "stats_total": 9
         },
         {
          "commit_author_date": "2021-04-10T22:09:05+00:00",
          "commit_author_name": "JR Ladd",
          "stats_additions": 10,
          "stats_deletions": 0,
          "stats_total": 10
         },
         {
          "commit_author_date": "2021-04-10T19:40:29+00:00",
          "commit_author_name": "JR Ladd",
          "stats_additions": 10,
          "stats_deletions": 0,
          "stats_total": 10
         },
         {
          "commit_author_date": "2021-04-10T18:21:17+00:00",
          "commit_author_name": "JR Ladd",
          "stats_additions": 8,
          "stats_deletions": 5,
          "stats_total": 13
         },
         {
          "commit_author_date": "2021-04-10T18:08:14+00:00",
          "commit_author_name": "JR Ladd",
          "stats_additions": 11,
          "stats_deletions": 6,
          "stats_total": 17
         },
         {
          "commit_author_date": "2021-04-10T17:01:51+00:00",
          "commit_author_name": "JR Ladd",
          "stats_additions": 7,
          "stats_deletions": 4,
          "stats_total": 11
         },
         {
          "commit_author_date": "2021-04-10T16:44:37+00:00",
          "commit_author_name": "JR Ladd",
          "stats_additions": 14,
          "stats_deletions": 1,
          "stats_total": 15
         },
         {
          "commit_author_date": "2021-04-10T16:32:30+00:00",
          "commit_author_name": "JR Ladd",
          "stats_additions": 1,
          "stats_deletions": 1,
          "stats_total": 2
         },
         {
          "commit_author_date": "2021-04-08T20:51:24+00:00",
          "commit_author_name": "JR Ladd",
          "stats_additions": 12,
          "stats_deletions": 0,
          "stats_total": 12
         },
         {
          "commit_author_date": "2021-04-08T20:49:01+00:00",
          "commit_author_name": "JR Ladd",
          "stats_additions": 18,
          "stats_deletions": 1,
          "stats_total": 19
         },
         {
          "commit_author_date": "2021-04-07T19:46:34+00:00",
          "commit_author_name": "JR Ladd",
          "stats_additions": 1,
          "stats_deletions": 0,
          "stats_total": 1
         },
         {
          "commit_author_date": "2021-04-07T19:29:24+00:00",
          "commit_author_name": "JR Ladd",
          "stats_additions": 1,
          "stats_deletions": 1,
          "stats_total": 2
         },
         {
          "commit_author_date": "2021-04-07T19:26:03+00:00",
          "commit_author_name": "JR Ladd",
          "stats_additions": 1,
          "stats_deletions": 0,
          "stats_total": 1
         },
         {
          "commit_author_date": "2021-04-07T17:39:03+00:00",
          "commit_author_name": "JR Ladd",
          "stats_additions": 8,
          "stats_deletions": 1,
          "stats_total": 9
         },
         {
          "commit_author_date": "2021-04-07T17:27:23+00:00",
          "commit_author_name": "JR Ladd",
          "stats_additions": 4,
          "stats_deletions": 1,
          "stats_total": 5
         },
         {
          "commit_author_date": "2021-04-02T20:16:17+00:00",
          "commit_author_name": "JR Ladd",
          "stats_additions": 7,
          "stats_deletions": 5,
          "stats_total": 12
         },
         {
          "commit_author_date": "2021-04-02T18:08:39+00:00",
          "commit_author_name": "JR Ladd",
          "stats_additions": 18,
          "stats_deletions": 1,
          "stats_total": 19
         },
         {
          "commit_author_date": "2021-04-02T17:28:48+00:00",
          "commit_author_name": "JR Ladd",
          "stats_additions": 4,
          "stats_deletions": 0,
          "stats_total": 4
         },
         {
          "commit_author_date": "2021-04-02T17:15:08+00:00",
          "commit_author_name": "JR Ladd",
          "stats_additions": 1,
          "stats_deletions": 1,
          "stats_total": 2
         },
         {
          "commit_author_date": "2021-04-02T17:12:32+00:00",
          "commit_author_name": "JR Ladd",
          "stats_additions": 42,
          "stats_deletions": 2,
          "stats_total": 44
         },
         {
          "commit_author_date": "2021-03-11T23:13:44+00:00",
          "commit_author_name": "JR Ladd",
          "stats_additions": 2,
          "stats_deletions": 2,
          "stats_total": 4
         },
         {
          "commit_author_date": "2021-03-11T23:11:48+00:00",
          "commit_author_name": "JR Ladd",
          "stats_additions": 1,
          "stats_deletions": 1,
          "stats_total": 2
         },
         {
          "commit_author_date": "2021-03-11T22:59:18+00:00",
          "commit_author_name": "JR Ladd",
          "stats_additions": 353,
          "stats_deletions": 263,
          "stats_total": 616
         },
         {
          "commit_author_date": "2021-03-11T17:51:27+00:00",
          "commit_author_name": "ZoeLeBlanc",
          "stats_additions": 5,
          "stats_deletions": 13,
          "stats_total": 18
         },
         {
          "commit_author_date": "2021-03-11T17:25:31+00:00",
          "commit_author_name": "ZoeLeBlanc",
          "stats_additions": 135,
          "stats_deletions": 108,
          "stats_total": 243
         },
         {
          "commit_author_date": "2021-03-11T17:25:26+00:00",
          "commit_author_name": "ZoeLeBlanc",
          "stats_additions": 8,
          "stats_deletions": 7,
          "stats_total": 15
         },
         {
          "commit_author_date": "2021-03-10T23:57:42+00:00",
          "commit_author_name": "JR Ladd",
          "stats_additions": 1,
          "stats_deletions": 0,
          "stats_total": 1
         },
         {
          "commit_author_date": "2021-03-10T23:52:46+00:00",
          "commit_author_name": "JR Ladd",
          "stats_additions": 2,
          "stats_deletions": 0,
          "stats_total": 2
         },
         {
          "commit_author_date": "2021-03-10T23:47:41+00:00",
          "commit_author_name": "JR Ladd",
          "stats_additions": 0,
          "stats_deletions": 2,
          "stats_total": 2
         },
         {
          "commit_author_date": "2021-03-10T23:46:48+00:00",
          "commit_author_name": "JR Ladd",
          "stats_additions": 89,
          "stats_deletions": 67,
          "stats_total": 156
         },
         {
          "commit_author_date": "2021-03-10T23:13:41+00:00",
          "commit_author_name": "JR Ladd",
          "stats_additions": 25,
          "stats_deletions": 12,
          "stats_total": 37
         },
         {
          "commit_author_date": "2021-03-10T23:03:33+00:00",
          "commit_author_name": "JR Ladd",
          "stats_additions": 6,
          "stats_deletions": 20,
          "stats_total": 26
         },
         {
          "commit_author_date": "2021-03-10T22:48:37+00:00",
          "commit_author_name": "JR Ladd",
          "stats_additions": 3,
          "stats_deletions": 3,
          "stats_total": 6
         },
         {
          "commit_author_date": "2021-03-10T22:35:31+00:00",
          "commit_author_name": "JR Ladd",
          "stats_additions": 13,
          "stats_deletions": 8,
          "stats_total": 21
         },
         {
          "commit_author_date": "2021-03-10T22:06:28+00:00",
          "commit_author_name": "JR Ladd",
          "stats_additions": 2,
          "stats_deletions": 2,
          "stats_total": 4
         },
         {
          "commit_author_date": "2021-03-10T21:08:54+00:00",
          "commit_author_name": "ZoeLeBlanc",
          "stats_additions": 108,
          "stats_deletions": 63,
          "stats_total": 171
         },
         {
          "commit_author_date": "2021-03-10T21:04:55+00:00",
          "commit_author_name": "ZoeLeBlanc",
          "stats_additions": 34,
          "stats_deletions": 31,
          "stats_total": 65
         },
         {
          "commit_author_date": "2021-03-02T20:03:16+00:00",
          "commit_author_name": "JR Ladd",
          "stats_additions": 1,
          "stats_deletions": 1,
          "stats_total": 2
         },
         {
          "commit_author_date": "2021-03-02T20:00:58+00:00",
          "commit_author_name": "JR Ladd",
          "stats_additions": 2,
          "stats_deletions": 2,
          "stats_total": 4
         },
         {
          "commit_author_date": "2021-03-02T19:38:31+00:00",
          "commit_author_name": "JR Ladd",
          "stats_additions": 7,
          "stats_deletions": 2,
          "stats_total": 9
         },
         {
          "commit_author_date": "2021-03-02T19:26:00+00:00",
          "commit_author_name": "JR Ladd",
          "stats_additions": 3,
          "stats_deletions": 2,
          "stats_total": 5
         },
         {
          "commit_author_date": "2021-03-02T16:20:13+00:00",
          "commit_author_name": "JR Ladd",
          "stats_additions": 31,
          "stats_deletions": 38,
          "stats_total": 69
         },
         {
          "commit_author_date": "2021-03-01T21:18:18+00:00",
          "commit_author_name": "JR Ladd",
          "stats_additions": 62,
          "stats_deletions": 11,
          "stats_total": 73
         },
         {
          "commit_author_date": "2021-03-01T19:19:57+00:00",
          "commit_author_name": "JR Ladd",
          "stats_additions": 10,
          "stats_deletions": 10,
          "stats_total": 20
         },
         {
          "commit_author_date": "2021-03-01T16:47:31+00:00",
          "commit_author_name": "JR Ladd",
          "stats_additions": 2,
          "stats_deletions": 8,
          "stats_total": 10
         },
         {
          "commit_author_date": "2021-02-23T21:28:35+00:00",
          "commit_author_name": "ZoeLeBlanc",
          "stats_additions": 6,
          "stats_deletions": 2,
          "stats_total": 8
         },
         {
          "commit_author_date": "2021-02-23T14:45:00+00:00",
          "commit_author_name": "ZoeLeBlanc",
          "stats_additions": 37,
          "stats_deletions": 35,
          "stats_total": 72
         },
         {
          "commit_author_date": "2021-02-23T03:30:47+00:00",
          "commit_author_name": "ZoeLeBlanc",
          "stats_additions": 75,
          "stats_deletions": 59,
          "stats_total": 134
         },
         {
          "commit_author_date": "2021-02-18T21:38:36+00:00",
          "commit_author_name": "JR Ladd",
          "stats_additions": 428,
          "stats_deletions": 202,
          "stats_total": 630
         },
         {
          "commit_author_date": "2021-02-18T21:35:59+00:00",
          "commit_author_name": "JR Ladd",
          "stats_additions": 0,
          "stats_deletions": 4,
          "stats_total": 4
         },
         {
          "commit_author_date": "2021-02-18T21:34:31+00:00",
          "commit_author_name": "JR Ladd",
          "stats_additions": 5,
          "stats_deletions": 2,
          "stats_total": 7
         },
         {
          "commit_author_date": "2021-02-18T21:26:12+00:00",
          "commit_author_name": "JR Ladd",
          "stats_additions": 3,
          "stats_deletions": 1,
          "stats_total": 4
         },
         {
          "commit_author_date": "2021-02-18T16:58:48+00:00",
          "commit_author_name": "JR Ladd",
          "stats_additions": 3,
          "stats_deletions": 3,
          "stats_total": 6
         },
         {
          "commit_author_date": "2021-02-17T22:36:29+00:00",
          "commit_author_name": "ZoeLeBlanc",
          "stats_additions": 3,
          "stats_deletions": 0,
          "stats_total": 3
         },
         {
          "commit_author_date": "2021-02-17T22:09:03+00:00",
          "commit_author_name": "ZoeLeBlanc",
          "stats_additions": 16,
          "stats_deletions": 14,
          "stats_total": 30
         },
         {
          "commit_author_date": "2021-02-16T23:14:04+00:00",
          "commit_author_name": "ZoeLeBlanc",
          "stats_additions": 221,
          "stats_deletions": 109,
          "stats_total": 330
         },
         {
          "commit_author_date": "2021-02-09T16:04:49+00:00",
          "commit_author_name": "ZoeLeBlanc",
          "stats_additions": 123,
          "stats_deletions": 108,
          "stats_total": 231
         },
         {
          "commit_author_date": "2021-02-08T21:54:25+00:00",
          "commit_author_name": "JR Ladd",
          "stats_additions": 3,
          "stats_deletions": 3,
          "stats_total": 6
         },
         {
          "commit_author_date": "2021-02-08T21:49:49+00:00",
          "commit_author_name": "JR Ladd",
          "stats_additions": 7,
          "stats_deletions": 2,
          "stats_total": 9
         },
         {
          "commit_author_date": "2021-02-08T20:42:53+00:00",
          "commit_author_name": "JR Ladd",
          "stats_additions": 5,
          "stats_deletions": 2,
          "stats_total": 7
         },
         {
          "commit_author_date": "2021-02-05T22:22:51+00:00",
          "commit_author_name": "JR Ladd",
          "stats_additions": 22,
          "stats_deletions": 21,
          "stats_total": 43
         },
         {
          "commit_author_date": "2021-02-05T22:08:02+00:00",
          "commit_author_name": "JR Ladd",
          "stats_additions": 4,
          "stats_deletions": 0,
          "stats_total": 4
         },
         {
          "commit_author_date": "2021-02-05T22:00:44+00:00",
          "commit_author_name": "JR Ladd",
          "stats_additions": 8,
          "stats_deletions": 0,
          "stats_total": 8
         },
         {
          "commit_author_date": "2021-02-05T21:40:29+00:00",
          "commit_author_name": "JR Ladd",
          "stats_additions": 4,
          "stats_deletions": 2,
          "stats_total": 6
         },
         {
          "commit_author_date": "2021-02-05T21:25:05+00:00",
          "commit_author_name": "JR Ladd",
          "stats_additions": 2,
          "stats_deletions": 2,
          "stats_total": 4
         },
         {
          "commit_author_date": "2021-02-05T21:15:52+00:00",
          "commit_author_name": "JR Ladd",
          "stats_additions": 6,
          "stats_deletions": 2,
          "stats_total": 8
         },
         {
          "commit_author_date": "2021-02-04T21:05:48+00:00",
          "commit_author_name": "JR Ladd",
          "stats_additions": 104,
          "stats_deletions": 40,
          "stats_total": 144
         },
         {
          "commit_author_date": "2021-02-02T22:40:14+00:00",
          "commit_author_name": "JR Ladd",
          "stats_additions": 6,
          "stats_deletions": 6,
          "stats_total": 12
         },
         {
          "commit_author_date": "2021-02-02T19:53:15+00:00",
          "commit_author_name": "ZoeLeBlanc",
          "stats_additions": 0,
          "stats_deletions": 0,
          "stats_total": 0
         },
         {
          "commit_author_date": "2021-02-02T19:53:10+00:00",
          "commit_author_name": "ZoeLeBlanc",
          "stats_additions": 28,
          "stats_deletions": 4,
          "stats_total": 32
         },
         {
          "commit_author_date": "2021-02-02T19:52:18+00:00",
          "commit_author_name": "ZoeLeBlanc",
          "stats_additions": 7,
          "stats_deletions": 11,
          "stats_total": 18
         },
         {
          "commit_author_date": "2021-02-01T23:58:06+00:00",
          "commit_author_name": "JR Ladd",
          "stats_additions": 29,
          "stats_deletions": 5,
          "stats_total": 34
         },
         {
          "commit_author_date": "2021-01-27T16:57:29+00:00",
          "commit_author_name": "ZoeLeBlanc",
          "stats_additions": 120,
          "stats_deletions": 47,
          "stats_total": 167
         },
         {
          "commit_author_date": "2021-01-26T21:13:37+00:00",
          "commit_author_name": "ZoeLeBlanc",
          "stats_additions": 88,
          "stats_deletions": 51,
          "stats_total": 139
         },
         {
          "commit_author_date": "2021-01-26T16:46:42+00:00",
          "commit_author_name": "ZoeLeBlanc",
          "stats_additions": 6,
          "stats_deletions": 8,
          "stats_total": 14
         },
         {
          "commit_author_date": "2021-01-26T16:45:52+00:00",
          "commit_author_name": "ZoeLeBlanc",
          "stats_additions": 32,
          "stats_deletions": 33,
          "stats_total": 65
         },
         {
          "commit_author_date": "2021-01-14T22:37:47+00:00",
          "commit_author_name": "JR Ladd",
          "stats_additions": 2,
          "stats_deletions": 2,
          "stats_total": 4
         },
         {
          "commit_author_date": "2021-01-14T22:29:16+00:00",
          "commit_author_name": "JR Ladd",
          "stats_additions": 2,
          "stats_deletions": 0,
          "stats_total": 2
         },
         {
          "commit_author_date": "2021-01-14T22:26:25+00:00",
          "commit_author_name": "JR Ladd",
          "stats_additions": 3,
          "stats_deletions": 7,
          "stats_total": 10
         },
         {
          "commit_author_date": "2021-01-04T23:17:29+00:00",
          "commit_author_name": "JR Ladd",
          "stats_additions": 2,
          "stats_deletions": 2,
          "stats_total": 4
         },
         {
          "commit_author_date": "2021-01-04T22:43:22+00:00",
          "commit_author_name": "JR Ladd",
          "stats_additions": 18,
          "stats_deletions": 5,
          "stats_total": 23
         },
         {
          "commit_author_date": "2020-12-31T17:54:51+00:00",
          "commit_author_name": "JR Ladd",
          "stats_additions": 14,
          "stats_deletions": 4,
          "stats_total": 18
         },
         {
          "commit_author_date": "2020-12-31T17:15:05+00:00",
          "commit_author_name": "JR Ladd",
          "stats_additions": 17,
          "stats_deletions": 0,
          "stats_total": 17
         },
         {
          "commit_author_date": "2020-12-30T17:34:23+00:00",
          "commit_author_name": "JR Ladd",
          "stats_additions": 79,
          "stats_deletions": 15,
          "stats_total": 94
         },
         {
          "commit_author_date": "2020-12-30T17:31:31+00:00",
          "commit_author_name": "JR Ladd",
          "stats_additions": 1,
          "stats_deletions": 1,
          "stats_total": 2
         },
         {
          "commit_author_date": "2020-12-23T17:13:47+00:00",
          "commit_author_name": "JR Ladd",
          "stats_additions": 9,
          "stats_deletions": 0,
          "stats_total": 9
         },
         {
          "commit_author_date": "2020-12-23T16:53:53+00:00",
          "commit_author_name": "JR Ladd",
          "stats_additions": 17,
          "stats_deletions": 4,
          "stats_total": 21
         },
         {
          "commit_author_date": "2020-12-22T23:01:18+00:00",
          "commit_author_name": "JR Ladd",
          "stats_additions": 9,
          "stats_deletions": 0,
          "stats_total": 9
         },
         {
          "commit_author_date": "2020-12-22T22:55:34+00:00",
          "commit_author_name": "JR Ladd",
          "stats_additions": 41,
          "stats_deletions": 8,
          "stats_total": 49
         },
         {
          "commit_author_date": "2020-12-22T22:09:53+00:00",
          "commit_author_name": "JR Ladd",
          "stats_additions": 3,
          "stats_deletions": 3,
          "stats_total": 6
         },
         {
          "commit_author_date": "2020-12-22T21:45:22+00:00",
          "commit_author_name": "JR Ladd",
          "stats_additions": 1,
          "stats_deletions": 1,
          "stats_total": 2
         },
         {
          "commit_author_date": "2020-12-21T19:54:13+00:00",
          "commit_author_name": "ZoeLeBlanc",
          "stats_additions": 594,
          "stats_deletions": 313,
          "stats_total": 907
         },
         {
          "commit_author_date": "2020-12-21T19:53:34+00:00",
          "commit_author_name": "ZoeLeBlanc",
          "stats_additions": 4,
          "stats_deletions": 0,
          "stats_total": 4
         },
         {
          "commit_author_date": "2020-12-21T19:52:11+00:00",
          "commit_author_name": "ZoeLeBlanc",
          "stats_additions": 2,
          "stats_deletions": 0,
          "stats_total": 2
         },
         {
          "commit_author_date": "2020-12-21T19:50:09+00:00",
          "commit_author_name": "ZoeLeBlanc",
          "stats_additions": 1,
          "stats_deletions": 1,
          "stats_total": 2
         },
         {
          "commit_author_date": "2020-12-17T17:41:09+00:00",
          "commit_author_name": "ZoeLeBlanc",
          "stats_additions": 21,
          "stats_deletions": 19,
          "stats_total": 40
         },
         {
          "commit_author_date": "2020-12-16T23:00:15+00:00",
          "commit_author_name": "ZoeLeBlanc",
          "stats_additions": 81,
          "stats_deletions": 44,
          "stats_total": 125
         },
         {
          "commit_author_date": "2020-12-16T20:29:13+00:00",
          "commit_author_name": "ZoeLeBlanc",
          "stats_additions": 2,
          "stats_deletions": 93,
          "stats_total": 95
         },
         {
          "commit_author_date": "2020-12-16T20:08:59+00:00",
          "commit_author_name": "ZoeLeBlanc",
          "stats_additions": 320,
          "stats_deletions": 167,
          "stats_total": 487
         },
         {
          "commit_author_date": "2020-12-11T17:14:00+00:00",
          "commit_author_name": "ZoeLeBlanc",
          "stats_additions": 0,
          "stats_deletions": 0,
          "stats_total": 0
         },
         {
          "commit_author_date": "2020-12-11T17:13:56+00:00",
          "commit_author_name": "ZoeLeBlanc",
          "stats_additions": 175,
          "stats_deletions": 96,
          "stats_total": 271
         },
         {
          "commit_author_date": "2020-12-08T21:34:27+00:00",
          "commit_author_name": "JR Ladd",
          "stats_additions": 48,
          "stats_deletions": 8,
          "stats_total": 56
         },
         {
          "commit_author_date": "2020-12-08T16:14:41+00:00",
          "commit_author_name": "ZoeLeBlanc",
          "stats_additions": 136,
          "stats_deletions": 135,
          "stats_total": 271
         },
         {
          "commit_author_date": "2020-12-04T18:27:45+00:00",
          "commit_author_name": "ZoeLeBlanc",
          "stats_additions": 8,
          "stats_deletions": 12,
          "stats_total": 20
         },
         {
          "commit_author_date": "2020-12-03T21:37:53+00:00",
          "commit_author_name": "ZoeLeBlanc",
          "stats_additions": 139,
          "stats_deletions": 1,
          "stats_total": 140
         },
         {
          "commit_author_date": "2020-12-02T00:10:23+00:00",
          "commit_author_name": "JR Ladd",
          "stats_additions": 17,
          "stats_deletions": 2,
          "stats_total": 19
         },
         {
          "commit_author_date": "2020-12-01T23:09:28+00:00",
          "commit_author_name": "JR Ladd",
          "stats_additions": 32,
          "stats_deletions": 7,
          "stats_total": 39
         },
         {
          "commit_author_date": "2020-12-01T21:48:14+00:00",
          "commit_author_name": "JR Ladd",
          "stats_additions": 541,
          "stats_deletions": 397,
          "stats_total": 938
         },
         {
          "commit_author_date": "2020-12-01T21:45:29+00:00",
          "commit_author_name": "JR Ladd",
          "stats_additions": 820,
          "stats_deletions": 1093,
          "stats_total": 1913
         },
         {
          "commit_author_date": "2020-12-01T21:44:44+00:00",
          "commit_author_name": "JR Ladd",
          "stats_additions": 820,
          "stats_deletions": 1093,
          "stats_total": 1913
         },
         {
          "commit_author_date": "2020-12-01T21:43:32+00:00",
          "commit_author_name": "JR Ladd",
          "stats_additions": 1093,
          "stats_deletions": 820,
          "stats_total": 1913
         },
         {
          "commit_author_date": "2020-12-01T21:39:58+00:00",
          "commit_author_name": "JR Ladd",
          "stats_additions": 30,
          "stats_deletions": 5,
          "stats_total": 35
         },
         {
          "commit_author_date": "2020-12-01T21:19:13+00:00",
          "commit_author_name": "ZoeLeBlanc",
          "stats_additions": 1,
          "stats_deletions": 2,
          "stats_total": 3
         },
         {
          "commit_author_date": "2020-11-30T16:22:01+00:00",
          "commit_author_name": "ZoeLeBlanc",
          "stats_additions": 322,
          "stats_deletions": 459,
          "stats_total": 781
         },
         {
          "commit_author_date": "2020-11-24T23:43:05+00:00",
          "commit_author_name": "ZoeLeBlanc",
          "stats_additions": 78,
          "stats_deletions": 9,
          "stats_total": 87
         },
         {
          "commit_author_date": "2020-11-24T23:32:34+00:00",
          "commit_author_name": "ZoeLeBlanc",
          "stats_additions": 222,
          "stats_deletions": 110,
          "stats_total": 332
         },
         {
          "commit_author_date": "2020-11-24T23:04:42+00:00",
          "commit_author_name": "JR Ladd",
          "stats_additions": 78,
          "stats_deletions": 4,
          "stats_total": 82
         },
         {
          "commit_author_date": "2020-11-17T21:20:19+00:00",
          "commit_author_name": "ZoeLeBlanc",
          "stats_additions": 0,
          "stats_deletions": 0,
          "stats_total": 0
         },
         {
          "commit_author_date": "2020-11-17T21:20:15+00:00",
          "commit_author_name": "ZoeLeBlanc",
          "stats_additions": 166,
          "stats_deletions": 16,
          "stats_total": 182
         },
         {
          "commit_author_date": "2020-11-17T21:19:08+00:00",
          "commit_author_name": "JR Ladd",
          "stats_additions": 115,
          "stats_deletions": 8,
          "stats_total": 123
         },
         {
          "commit_author_date": "2020-11-13T17:25:34+00:00",
          "commit_author_name": "JR Ladd",
          "stats_additions": 4,
          "stats_deletions": 4,
          "stats_total": 8
         },
         {
          "commit_author_date": "2020-11-13T16:52:27+00:00",
          "commit_author_name": "JR Ladd",
          "stats_additions": 4,
          "stats_deletions": 4,
          "stats_total": 8
         },
         {
          "commit_author_date": "2020-11-12T23:25:58+00:00",
          "commit_author_name": "JR Ladd",
          "stats_additions": 41,
          "stats_deletions": 6,
          "stats_total": 47
         },
         {
          "commit_author_date": "2020-11-03T16:01:41+00:00",
          "commit_author_name": "JR Ladd",
          "stats_additions": 69,
          "stats_deletions": 4,
          "stats_total": 73
         },
         {
          "commit_author_date": "2020-10-25T20:58:33+00:00",
          "commit_author_name": "JR Ladd",
          "stats_additions": 7,
          "stats_deletions": 0,
          "stats_total": 7
         },
         {
          "commit_author_date": "2020-10-25T20:36:45+00:00",
          "commit_author_name": "JR Ladd",
          "stats_additions": 1,
          "stats_deletions": 1,
          "stats_total": 2
         },
         {
          "commit_author_date": "2020-10-24T22:33:27+00:00",
          "commit_author_name": "JR Ladd",
          "stats_additions": 11,
          "stats_deletions": 5,
          "stats_total": 16
         },
         {
          "commit_author_date": "2020-10-24T21:50:07+00:00",
          "commit_author_name": "JR Ladd",
          "stats_additions": 68,
          "stats_deletions": 72,
          "stats_total": 140
         },
         {
          "commit_author_date": "2020-10-20T23:23:09+00:00",
          "commit_author_name": "ZoeLeBlanc",
          "stats_additions": 516,
          "stats_deletions": 473,
          "stats_total": 989
         },
         {
          "commit_author_date": "2020-10-20T22:57:45+00:00",
          "commit_author_name": "ZoeLeBlanc",
          "stats_additions": 2,
          "stats_deletions": 1,
          "stats_total": 3
         },
         {
          "commit_author_date": "2020-10-20T20:35:11+00:00",
          "commit_author_name": "ZoeLeBlanc",
          "stats_additions": 35,
          "stats_deletions": 33,
          "stats_total": 68
         },
         {
          "commit_author_date": "2020-10-20T16:50:52+00:00",
          "commit_author_name": "ZoeLeBlanc",
          "stats_additions": 58,
          "stats_deletions": 27,
          "stats_total": 85
         },
         {
          "commit_author_date": "2020-10-20T15:25:53+00:00",
          "commit_author_name": "JR Ladd",
          "stats_additions": 6,
          "stats_deletions": 3,
          "stats_total": 9
         },
         {
          "commit_author_date": "2020-10-20T15:09:26+00:00",
          "commit_author_name": "JR Ladd",
          "stats_additions": 22,
          "stats_deletions": 20,
          "stats_total": 42
         },
         {
          "commit_author_date": "2020-10-20T01:24:33+00:00",
          "commit_author_name": "ZoeLeBlanc",
          "stats_additions": 542,
          "stats_deletions": 158,
          "stats_total": 700
         },
         {
          "commit_author_date": "2020-10-16T22:39:00+00:00",
          "commit_author_name": "JR Ladd",
          "stats_additions": 4,
          "stats_deletions": 14,
          "stats_total": 18
         },
         {
          "commit_author_date": "2020-10-16T22:10:55+00:00",
          "commit_author_name": "JR Ladd",
          "stats_additions": 14,
          "stats_deletions": 22,
          "stats_total": 36
         },
         {
          "commit_author_date": "2020-10-15T23:10:20+00:00",
          "commit_author_name": "JR Ladd",
          "stats_additions": 30,
          "stats_deletions": 35,
          "stats_total": 65
         },
         {
          "commit_author_date": "2020-10-15T01:21:12+00:00",
          "commit_author_name": "JR Ladd",
          "stats_additions": 68,
          "stats_deletions": 560,
          "stats_total": 628
         },
         {
          "commit_author_date": "2019-08-30T14:15:53+00:00",
          "commit_author_name": "JR Ladd",
          "stats_additions": 1,
          "stats_deletions": 1,
          "stats_total": 2
         },
         {
          "commit_author_date": "2019-08-30T14:13:05+00:00",
          "commit_author_name": "JR Ladd",
          "stats_additions": 1,
          "stats_deletions": 1,
          "stats_total": 2
         },
         {
          "commit_author_date": "2019-08-29T21:56:05+00:00",
          "commit_author_name": "Matthew Lincoln",
          "stats_additions": 1,
          "stats_deletions": 1,
          "stats_total": 2
         },
         {
          "commit_author_date": "2018-03-31T21:40:01+00:00",
          "commit_author_name": "JR Ladd",
          "stats_additions": 1,
          "stats_deletions": 0,
          "stats_total": 1
         },
         {
          "commit_author_date": "2018-03-31T21:38:40+00:00",
          "commit_author_name": "JR Ladd",
          "stats_additions": 4,
          "stats_deletions": 9,
          "stats_total": 13
         },
         {
          "commit_author_date": "2018-01-23T19:51:02+00:00",
          "commit_author_name": "JR Ladd",
          "stats_additions": 4,
          "stats_deletions": 1,
          "stats_total": 5
         },
         {
          "commit_author_date": "2018-01-16T16:12:13+00:00",
          "commit_author_name": "JR Ladd",
          "stats_additions": 0,
          "stats_deletions": 1143,
          "stats_total": 1143
         },
         {
          "commit_author_date": "2018-01-15T19:25:47+00:00",
          "commit_author_name": "JR Ladd",
          "stats_additions": 114,
          "stats_deletions": 61,
          "stats_total": 175
         },
         {
          "commit_author_date": "2018-01-12T20:00:15+00:00",
          "commit_author_name": "JR Ladd",
          "stats_additions": 1,
          "stats_deletions": 1,
          "stats_total": 2
         },
         {
          "commit_author_date": "2018-01-12T19:16:03+00:00",
          "commit_author_name": "JR Ladd",
          "stats_additions": 52,
          "stats_deletions": 11,
          "stats_total": 63
         },
         {
          "commit_author_date": "2018-01-11T22:47:52+00:00",
          "commit_author_name": "JR Ladd",
          "stats_additions": 29,
          "stats_deletions": 1,
          "stats_total": 30
         },
         {
          "commit_author_date": "2018-01-11T20:29:04+00:00",
          "commit_author_name": "JR Ladd",
          "stats_additions": 16,
          "stats_deletions": 7,
          "stats_total": 23
         },
         {
          "commit_author_date": "2018-01-11T20:15:57+00:00",
          "commit_author_name": "JR Ladd",
          "stats_additions": 49,
          "stats_deletions": 11,
          "stats_total": 60
         },
         {
          "commit_author_date": "2018-01-11T18:49:25+00:00",
          "commit_author_name": "JR Ladd",
          "stats_additions": 26,
          "stats_deletions": 2,
          "stats_total": 28
         },
         {
          "commit_author_date": "2017-08-29T03:20:17+00:00",
          "commit_author_name": "JR Ladd",
          "stats_additions": 1,
          "stats_deletions": 0,
          "stats_total": 1
         },
         {
          "commit_author_date": "2017-08-29T03:17:01+00:00",
          "commit_author_name": "JR Ladd",
          "stats_additions": 3,
          "stats_deletions": 1,
          "stats_total": 4
         },
         {
          "commit_author_date": "2017-08-29T03:14:15+00:00",
          "commit_author_name": "JR Ladd",
          "stats_additions": 32,
          "stats_deletions": 7,
          "stats_total": 39
         },
         {
          "commit_author_date": "2017-08-10T03:12:41+00:00",
          "commit_author_name": "JR Ladd",
          "stats_additions": 42,
          "stats_deletions": 15,
          "stats_total": 57
         },
         {
          "commit_author_date": "2017-08-09T03:19:18+00:00",
          "commit_author_name": "JR Ladd",
          "stats_additions": 1728,
          "stats_deletions": 0,
          "stats_total": 1728
         }
        ],
        "data-43627ec4c851e9d01316f70aa503a807": [
         {
          "commit_author_date": "2021-07-23T14:12:01+00:00",
          "commit_author_name": "JR Ladd",
          "type": "additions",
          "value": 1
         },
         {
          "commit_author_date": "2021-07-02T18:19:38+00:00",
          "commit_author_name": "JR Ladd",
          "type": "additions",
          "value": 1
         },
         {
          "commit_author_date": "2021-06-30T19:43:16+00:00",
          "commit_author_name": "JR Ladd",
          "type": "additions",
          "value": 1
         },
         {
          "commit_author_date": "2021-06-30T19:15:00+00:00",
          "commit_author_name": "JR Ladd",
          "type": "additions",
          "value": 1
         },
         {
          "commit_author_date": "2021-06-30T19:07:56+00:00",
          "commit_author_name": "JR Ladd",
          "type": "additions",
          "value": 1
         },
         {
          "commit_author_date": "2021-06-30T19:05:38+00:00",
          "commit_author_name": "JR Ladd",
          "type": "additions",
          "value": 0
         },
         {
          "commit_author_date": "2021-06-30T18:54:13+00:00",
          "commit_author_name": "JR Ladd",
          "type": "additions",
          "value": 2653
         },
         {
          "commit_author_date": "2021-06-30T18:53:26+00:00",
          "commit_author_name": "JR Ladd",
          "type": "additions",
          "value": 824
         },
         {
          "commit_author_date": "2021-06-29T20:31:27+00:00",
          "commit_author_name": "JR Ladd",
          "type": "additions",
          "value": 2
         },
         {
          "commit_author_date": "2021-06-29T19:58:15+00:00",
          "commit_author_name": "JR Ladd",
          "type": "additions",
          "value": 3
         },
         {
          "commit_author_date": "2021-06-29T19:49:55+00:00",
          "commit_author_name": "JR Ladd",
          "type": "additions",
          "value": 2
         },
         {
          "commit_author_date": "2021-06-15T20:18:05+00:00",
          "commit_author_name": "JR Ladd",
          "type": "additions",
          "value": 1050
         },
         {
          "commit_author_date": "2021-06-08T14:44:04+00:00",
          "commit_author_name": "JR Ladd",
          "type": "additions",
          "value": 5
         },
         {
          "commit_author_date": "2021-06-08T14:39:41+00:00",
          "commit_author_name": "JR Ladd",
          "type": "additions",
          "value": 1
         },
         {
          "commit_author_date": "2021-06-08T14:35:47+00:00",
          "commit_author_name": "JR Ladd",
          "type": "additions",
          "value": 8
         },
         {
          "commit_author_date": "2021-06-08T14:24:28+00:00",
          "commit_author_name": "JR Ladd",
          "type": "additions",
          "value": 1
         },
         {
          "commit_author_date": "2021-06-02T14:38:03+00:00",
          "commit_author_name": "JR Ladd",
          "type": "additions",
          "value": 7
         },
         {
          "commit_author_date": "2021-06-02T14:16:03+00:00",
          "commit_author_name": "JR Ladd",
          "type": "additions",
          "value": 21
         },
         {
          "commit_author_date": "2021-06-01T17:14:41+00:00",
          "commit_author_name": "JR Ladd",
          "type": "additions",
          "value": 5
         },
         {
          "commit_author_date": "2021-06-01T16:40:31+00:00",
          "commit_author_name": "JR Ladd",
          "type": "additions",
          "value": 12
         },
         {
          "commit_author_date": "2021-05-27T21:41:00+00:00",
          "commit_author_name": "JR Ladd",
          "type": "additions",
          "value": 2
         },
         {
          "commit_author_date": "2021-05-27T21:35:59+00:00",
          "commit_author_name": "JR Ladd",
          "type": "additions",
          "value": 0
         },
         {
          "commit_author_date": "2021-05-27T21:35:27+00:00",
          "commit_author_name": "JR Ladd",
          "type": "additions",
          "value": 78
         },
         {
          "commit_author_date": "2021-05-27T21:35:12+00:00",
          "commit_author_name": "JR Ladd",
          "type": "additions",
          "value": 2
         },
         {
          "commit_author_date": "2021-05-27T20:35:41+00:00",
          "commit_author_name": "JR Ladd",
          "type": "additions",
          "value": 25
         },
         {
          "commit_author_date": "2021-05-27T20:09:38+00:00",
          "commit_author_name": "JR Ladd",
          "type": "additions",
          "value": 4
         },
         {
          "commit_author_date": "2021-05-25T18:07:10+00:00",
          "commit_author_name": "ZoeLeBlanc",
          "type": "additions",
          "value": 12
         },
         {
          "commit_author_date": "2021-05-23T21:45:28+00:00",
          "commit_author_name": "JR Ladd",
          "type": "additions",
          "value": 18
         },
         {
          "commit_author_date": "2021-05-23T21:17:10+00:00",
          "commit_author_name": "JR Ladd",
          "type": "additions",
          "value": 11
         },
         {
          "commit_author_date": "2021-05-23T21:03:23+00:00",
          "commit_author_name": "JR Ladd",
          "type": "additions",
          "value": 3
         },
         {
          "commit_author_date": "2021-05-23T20:47:39+00:00",
          "commit_author_name": "JR Ladd",
          "type": "additions",
          "value": 8
         },
         {
          "commit_author_date": "2021-05-23T20:36:40+00:00",
          "commit_author_name": "JR Ladd",
          "type": "additions",
          "value": 1
         },
         {
          "commit_author_date": "2021-05-23T20:29:30+00:00",
          "commit_author_name": "JR Ladd",
          "type": "additions",
          "value": 3
         },
         {
          "commit_author_date": "2021-05-23T20:11:03+00:00",
          "commit_author_name": "JR Ladd",
          "type": "additions",
          "value": 6
         },
         {
          "commit_author_date": "2021-05-18T23:33:45+00:00",
          "commit_author_name": "ZoeLeBlanc",
          "type": "additions",
          "value": 27
         },
         {
          "commit_author_date": "2021-05-05T22:52:20+00:00",
          "commit_author_name": "JR Ladd",
          "type": "additions",
          "value": 1
         },
         {
          "commit_author_date": "2021-05-05T22:43:43+00:00",
          "commit_author_name": "JR Ladd",
          "type": "additions",
          "value": 154
         },
         {
          "commit_author_date": "2021-05-05T21:21:48+00:00",
          "commit_author_name": "JR Ladd",
          "type": "additions",
          "value": 90
         },
         {
          "commit_author_date": "2021-05-05T15:10:49+00:00",
          "commit_author_name": "JR Ladd",
          "type": "additions",
          "value": 0
         },
         {
          "commit_author_date": "2021-05-04T14:59:30+00:00",
          "commit_author_name": "JR Ladd",
          "type": "additions",
          "value": 29
         },
         {
          "commit_author_date": "2021-05-02T15:13:22+00:00",
          "commit_author_name": "JR Ladd",
          "type": "additions",
          "value": 0
         },
         {
          "commit_author_date": "2021-05-02T15:12:47+00:00",
          "commit_author_name": "JR Ladd",
          "type": "additions",
          "value": 100
         },
         {
          "commit_author_date": "2021-04-30T21:27:41+00:00",
          "commit_author_name": "JR Ladd",
          "type": "additions",
          "value": 9
         },
         {
          "commit_author_date": "2021-04-30T21:15:52+00:00",
          "commit_author_name": "JR Ladd",
          "type": "additions",
          "value": 46
         },
         {
          "commit_author_date": "2021-04-30T19:50:38+00:00",
          "commit_author_name": "JR Ladd",
          "type": "additions",
          "value": 1
         },
         {
          "commit_author_date": "2021-04-30T17:16:06+00:00",
          "commit_author_name": "JR Ladd",
          "type": "additions",
          "value": 1
         },
         {
          "commit_author_date": "2021-04-30T17:11:43+00:00",
          "commit_author_name": "JR Ladd",
          "type": "additions",
          "value": 46
         },
         {
          "commit_author_date": "2021-04-29T21:52:36+00:00",
          "commit_author_name": "JR Ladd",
          "type": "additions",
          "value": 57
         },
         {
          "commit_author_date": "2021-04-29T20:33:32+00:00",
          "commit_author_name": "JR Ladd",
          "type": "additions",
          "value": 2
         },
         {
          "commit_author_date": "2021-04-29T20:09:46+00:00",
          "commit_author_name": "JR Ladd",
          "type": "additions",
          "value": 14
         },
         {
          "commit_author_date": "2021-04-29T18:49:00+00:00",
          "commit_author_name": "JR Ladd",
          "type": "additions",
          "value": 21
         },
         {
          "commit_author_date": "2021-04-29T18:19:12+00:00",
          "commit_author_name": "JR Ladd",
          "type": "additions",
          "value": 1
         },
         {
          "commit_author_date": "2021-04-29T17:19:17+00:00",
          "commit_author_name": "JR Ladd",
          "type": "additions",
          "value": 47
         },
         {
          "commit_author_date": "2021-04-28T22:53:53+00:00",
          "commit_author_name": "JR Ladd",
          "type": "additions",
          "value": 20
         },
         {
          "commit_author_date": "2021-04-28T21:27:52+00:00",
          "commit_author_name": "JR Ladd",
          "type": "additions",
          "value": 37
         },
         {
          "commit_author_date": "2021-04-26T21:19:42+00:00",
          "commit_author_name": "JR Ladd",
          "type": "additions",
          "value": 5
         },
         {
          "commit_author_date": "2021-04-23T22:58:07+00:00",
          "commit_author_name": "JR Ladd",
          "type": "additions",
          "value": 1
         },
         {
          "commit_author_date": "2021-04-23T22:25:04+00:00",
          "commit_author_name": "JR Ladd",
          "type": "additions",
          "value": 51
         },
         {
          "commit_author_date": "2021-04-10T22:58:49+00:00",
          "commit_author_name": "JR Ladd",
          "type": "additions",
          "value": 20
         },
         {
          "commit_author_date": "2021-04-10T22:15:01+00:00",
          "commit_author_name": "JR Ladd",
          "type": "additions",
          "value": 9
         },
         {
          "commit_author_date": "2021-04-10T22:09:05+00:00",
          "commit_author_name": "JR Ladd",
          "type": "additions",
          "value": 10
         },
         {
          "commit_author_date": "2021-04-10T19:40:29+00:00",
          "commit_author_name": "JR Ladd",
          "type": "additions",
          "value": 10
         },
         {
          "commit_author_date": "2021-04-10T18:21:17+00:00",
          "commit_author_name": "JR Ladd",
          "type": "additions",
          "value": 8
         },
         {
          "commit_author_date": "2021-04-10T18:08:14+00:00",
          "commit_author_name": "JR Ladd",
          "type": "additions",
          "value": 11
         },
         {
          "commit_author_date": "2021-04-10T17:01:51+00:00",
          "commit_author_name": "JR Ladd",
          "type": "additions",
          "value": 7
         },
         {
          "commit_author_date": "2021-04-10T16:44:37+00:00",
          "commit_author_name": "JR Ladd",
          "type": "additions",
          "value": 14
         },
         {
          "commit_author_date": "2021-04-10T16:32:30+00:00",
          "commit_author_name": "JR Ladd",
          "type": "additions",
          "value": 1
         },
         {
          "commit_author_date": "2021-04-08T20:51:24+00:00",
          "commit_author_name": "JR Ladd",
          "type": "additions",
          "value": 12
         },
         {
          "commit_author_date": "2021-04-08T20:49:01+00:00",
          "commit_author_name": "JR Ladd",
          "type": "additions",
          "value": 18
         },
         {
          "commit_author_date": "2021-04-07T19:46:34+00:00",
          "commit_author_name": "JR Ladd",
          "type": "additions",
          "value": 1
         },
         {
          "commit_author_date": "2021-04-07T19:29:24+00:00",
          "commit_author_name": "JR Ladd",
          "type": "additions",
          "value": 1
         },
         {
          "commit_author_date": "2021-04-07T19:26:03+00:00",
          "commit_author_name": "JR Ladd",
          "type": "additions",
          "value": 1
         },
         {
          "commit_author_date": "2021-04-07T17:39:03+00:00",
          "commit_author_name": "JR Ladd",
          "type": "additions",
          "value": 8
         },
         {
          "commit_author_date": "2021-04-07T17:27:23+00:00",
          "commit_author_name": "JR Ladd",
          "type": "additions",
          "value": 4
         },
         {
          "commit_author_date": "2021-04-02T20:16:17+00:00",
          "commit_author_name": "JR Ladd",
          "type": "additions",
          "value": 7
         },
         {
          "commit_author_date": "2021-04-02T18:08:39+00:00",
          "commit_author_name": "JR Ladd",
          "type": "additions",
          "value": 18
         },
         {
          "commit_author_date": "2021-04-02T17:28:48+00:00",
          "commit_author_name": "JR Ladd",
          "type": "additions",
          "value": 4
         },
         {
          "commit_author_date": "2021-04-02T17:15:08+00:00",
          "commit_author_name": "JR Ladd",
          "type": "additions",
          "value": 1
         },
         {
          "commit_author_date": "2021-04-02T17:12:32+00:00",
          "commit_author_name": "JR Ladd",
          "type": "additions",
          "value": 42
         },
         {
          "commit_author_date": "2021-03-11T23:13:44+00:00",
          "commit_author_name": "JR Ladd",
          "type": "additions",
          "value": 2
         },
         {
          "commit_author_date": "2021-03-11T23:11:48+00:00",
          "commit_author_name": "JR Ladd",
          "type": "additions",
          "value": 1
         },
         {
          "commit_author_date": "2021-03-11T22:59:18+00:00",
          "commit_author_name": "JR Ladd",
          "type": "additions",
          "value": 353
         },
         {
          "commit_author_date": "2021-03-11T17:51:27+00:00",
          "commit_author_name": "ZoeLeBlanc",
          "type": "additions",
          "value": 5
         },
         {
          "commit_author_date": "2021-03-11T17:25:31+00:00",
          "commit_author_name": "ZoeLeBlanc",
          "type": "additions",
          "value": 135
         },
         {
          "commit_author_date": "2021-03-11T17:25:26+00:00",
          "commit_author_name": "ZoeLeBlanc",
          "type": "additions",
          "value": 8
         },
         {
          "commit_author_date": "2021-03-10T23:57:42+00:00",
          "commit_author_name": "JR Ladd",
          "type": "additions",
          "value": 1
         },
         {
          "commit_author_date": "2021-03-10T23:52:46+00:00",
          "commit_author_name": "JR Ladd",
          "type": "additions",
          "value": 2
         },
         {
          "commit_author_date": "2021-03-10T23:47:41+00:00",
          "commit_author_name": "JR Ladd",
          "type": "additions",
          "value": 0
         },
         {
          "commit_author_date": "2021-03-10T23:46:48+00:00",
          "commit_author_name": "JR Ladd",
          "type": "additions",
          "value": 89
         },
         {
          "commit_author_date": "2021-03-10T23:13:41+00:00",
          "commit_author_name": "JR Ladd",
          "type": "additions",
          "value": 25
         },
         {
          "commit_author_date": "2021-03-10T23:03:33+00:00",
          "commit_author_name": "JR Ladd",
          "type": "additions",
          "value": 6
         },
         {
          "commit_author_date": "2021-03-10T22:48:37+00:00",
          "commit_author_name": "JR Ladd",
          "type": "additions",
          "value": 3
         },
         {
          "commit_author_date": "2021-03-10T22:35:31+00:00",
          "commit_author_name": "JR Ladd",
          "type": "additions",
          "value": 13
         },
         {
          "commit_author_date": "2021-03-10T22:06:28+00:00",
          "commit_author_name": "JR Ladd",
          "type": "additions",
          "value": 2
         },
         {
          "commit_author_date": "2021-03-10T21:08:54+00:00",
          "commit_author_name": "ZoeLeBlanc",
          "type": "additions",
          "value": 108
         },
         {
          "commit_author_date": "2021-03-10T21:04:55+00:00",
          "commit_author_name": "ZoeLeBlanc",
          "type": "additions",
          "value": 34
         },
         {
          "commit_author_date": "2021-03-02T20:03:16+00:00",
          "commit_author_name": "JR Ladd",
          "type": "additions",
          "value": 1
         },
         {
          "commit_author_date": "2021-03-02T20:00:58+00:00",
          "commit_author_name": "JR Ladd",
          "type": "additions",
          "value": 2
         },
         {
          "commit_author_date": "2021-03-02T19:38:31+00:00",
          "commit_author_name": "JR Ladd",
          "type": "additions",
          "value": 7
         },
         {
          "commit_author_date": "2021-03-02T19:26:00+00:00",
          "commit_author_name": "JR Ladd",
          "type": "additions",
          "value": 3
         },
         {
          "commit_author_date": "2021-03-02T16:20:13+00:00",
          "commit_author_name": "JR Ladd",
          "type": "additions",
          "value": 31
         },
         {
          "commit_author_date": "2021-03-01T21:18:18+00:00",
          "commit_author_name": "JR Ladd",
          "type": "additions",
          "value": 62
         },
         {
          "commit_author_date": "2021-03-01T19:19:57+00:00",
          "commit_author_name": "JR Ladd",
          "type": "additions",
          "value": 10
         },
         {
          "commit_author_date": "2021-03-01T16:47:31+00:00",
          "commit_author_name": "JR Ladd",
          "type": "additions",
          "value": 2
         },
         {
          "commit_author_date": "2021-02-23T21:28:35+00:00",
          "commit_author_name": "ZoeLeBlanc",
          "type": "additions",
          "value": 6
         },
         {
          "commit_author_date": "2021-02-23T14:45:00+00:00",
          "commit_author_name": "ZoeLeBlanc",
          "type": "additions",
          "value": 37
         },
         {
          "commit_author_date": "2021-02-23T03:30:47+00:00",
          "commit_author_name": "ZoeLeBlanc",
          "type": "additions",
          "value": 75
         },
         {
          "commit_author_date": "2021-02-18T21:38:36+00:00",
          "commit_author_name": "JR Ladd",
          "type": "additions",
          "value": 428
         },
         {
          "commit_author_date": "2021-02-18T21:35:59+00:00",
          "commit_author_name": "JR Ladd",
          "type": "additions",
          "value": 0
         },
         {
          "commit_author_date": "2021-02-18T21:34:31+00:00",
          "commit_author_name": "JR Ladd",
          "type": "additions",
          "value": 5
         },
         {
          "commit_author_date": "2021-02-18T21:26:12+00:00",
          "commit_author_name": "JR Ladd",
          "type": "additions",
          "value": 3
         },
         {
          "commit_author_date": "2021-02-18T16:58:48+00:00",
          "commit_author_name": "JR Ladd",
          "type": "additions",
          "value": 3
         },
         {
          "commit_author_date": "2021-02-17T22:36:29+00:00",
          "commit_author_name": "ZoeLeBlanc",
          "type": "additions",
          "value": 3
         },
         {
          "commit_author_date": "2021-02-17T22:09:03+00:00",
          "commit_author_name": "ZoeLeBlanc",
          "type": "additions",
          "value": 16
         },
         {
          "commit_author_date": "2021-02-16T23:14:04+00:00",
          "commit_author_name": "ZoeLeBlanc",
          "type": "additions",
          "value": 221
         },
         {
          "commit_author_date": "2021-02-09T16:04:49+00:00",
          "commit_author_name": "ZoeLeBlanc",
          "type": "additions",
          "value": 123
         },
         {
          "commit_author_date": "2021-02-08T21:54:25+00:00",
          "commit_author_name": "JR Ladd",
          "type": "additions",
          "value": 3
         },
         {
          "commit_author_date": "2021-02-08T21:49:49+00:00",
          "commit_author_name": "JR Ladd",
          "type": "additions",
          "value": 7
         },
         {
          "commit_author_date": "2021-02-08T20:42:53+00:00",
          "commit_author_name": "JR Ladd",
          "type": "additions",
          "value": 5
         },
         {
          "commit_author_date": "2021-02-05T22:22:51+00:00",
          "commit_author_name": "JR Ladd",
          "type": "additions",
          "value": 22
         },
         {
          "commit_author_date": "2021-02-05T22:08:02+00:00",
          "commit_author_name": "JR Ladd",
          "type": "additions",
          "value": 4
         },
         {
          "commit_author_date": "2021-02-05T22:00:44+00:00",
          "commit_author_name": "JR Ladd",
          "type": "additions",
          "value": 8
         },
         {
          "commit_author_date": "2021-02-05T21:40:29+00:00",
          "commit_author_name": "JR Ladd",
          "type": "additions",
          "value": 4
         },
         {
          "commit_author_date": "2021-02-05T21:25:05+00:00",
          "commit_author_name": "JR Ladd",
          "type": "additions",
          "value": 2
         },
         {
          "commit_author_date": "2021-02-05T21:15:52+00:00",
          "commit_author_name": "JR Ladd",
          "type": "additions",
          "value": 6
         },
         {
          "commit_author_date": "2021-02-04T21:05:48+00:00",
          "commit_author_name": "JR Ladd",
          "type": "additions",
          "value": 104
         },
         {
          "commit_author_date": "2021-02-02T22:40:14+00:00",
          "commit_author_name": "JR Ladd",
          "type": "additions",
          "value": 6
         },
         {
          "commit_author_date": "2021-02-02T19:53:15+00:00",
          "commit_author_name": "ZoeLeBlanc",
          "type": "additions",
          "value": 0
         },
         {
          "commit_author_date": "2021-02-02T19:53:10+00:00",
          "commit_author_name": "ZoeLeBlanc",
          "type": "additions",
          "value": 28
         },
         {
          "commit_author_date": "2021-02-02T19:52:18+00:00",
          "commit_author_name": "ZoeLeBlanc",
          "type": "additions",
          "value": 7
         },
         {
          "commit_author_date": "2021-02-01T23:58:06+00:00",
          "commit_author_name": "JR Ladd",
          "type": "additions",
          "value": 29
         },
         {
          "commit_author_date": "2021-01-27T16:57:29+00:00",
          "commit_author_name": "ZoeLeBlanc",
          "type": "additions",
          "value": 120
         },
         {
          "commit_author_date": "2021-01-26T21:13:37+00:00",
          "commit_author_name": "ZoeLeBlanc",
          "type": "additions",
          "value": 88
         },
         {
          "commit_author_date": "2021-01-26T16:46:42+00:00",
          "commit_author_name": "ZoeLeBlanc",
          "type": "additions",
          "value": 6
         },
         {
          "commit_author_date": "2021-01-26T16:45:52+00:00",
          "commit_author_name": "ZoeLeBlanc",
          "type": "additions",
          "value": 32
         },
         {
          "commit_author_date": "2021-01-14T22:37:47+00:00",
          "commit_author_name": "JR Ladd",
          "type": "additions",
          "value": 2
         },
         {
          "commit_author_date": "2021-01-14T22:29:16+00:00",
          "commit_author_name": "JR Ladd",
          "type": "additions",
          "value": 2
         },
         {
          "commit_author_date": "2021-01-14T22:26:25+00:00",
          "commit_author_name": "JR Ladd",
          "type": "additions",
          "value": 3
         },
         {
          "commit_author_date": "2021-01-04T23:17:29+00:00",
          "commit_author_name": "JR Ladd",
          "type": "additions",
          "value": 2
         },
         {
          "commit_author_date": "2021-01-04T22:43:22+00:00",
          "commit_author_name": "JR Ladd",
          "type": "additions",
          "value": 18
         },
         {
          "commit_author_date": "2020-12-31T17:54:51+00:00",
          "commit_author_name": "JR Ladd",
          "type": "additions",
          "value": 14
         },
         {
          "commit_author_date": "2020-12-31T17:15:05+00:00",
          "commit_author_name": "JR Ladd",
          "type": "additions",
          "value": 17
         },
         {
          "commit_author_date": "2020-12-30T17:34:23+00:00",
          "commit_author_name": "JR Ladd",
          "type": "additions",
          "value": 79
         },
         {
          "commit_author_date": "2020-12-30T17:31:31+00:00",
          "commit_author_name": "JR Ladd",
          "type": "additions",
          "value": 1
         },
         {
          "commit_author_date": "2020-12-23T17:13:47+00:00",
          "commit_author_name": "JR Ladd",
          "type": "additions",
          "value": 9
         },
         {
          "commit_author_date": "2020-12-23T16:53:53+00:00",
          "commit_author_name": "JR Ladd",
          "type": "additions",
          "value": 17
         },
         {
          "commit_author_date": "2020-12-22T23:01:18+00:00",
          "commit_author_name": "JR Ladd",
          "type": "additions",
          "value": 9
         },
         {
          "commit_author_date": "2020-12-22T22:55:34+00:00",
          "commit_author_name": "JR Ladd",
          "type": "additions",
          "value": 41
         },
         {
          "commit_author_date": "2020-12-22T22:09:53+00:00",
          "commit_author_name": "JR Ladd",
          "type": "additions",
          "value": 3
         },
         {
          "commit_author_date": "2020-12-22T21:45:22+00:00",
          "commit_author_name": "JR Ladd",
          "type": "additions",
          "value": 1
         },
         {
          "commit_author_date": "2020-12-21T19:54:13+00:00",
          "commit_author_name": "ZoeLeBlanc",
          "type": "additions",
          "value": 594
         },
         {
          "commit_author_date": "2020-12-21T19:53:34+00:00",
          "commit_author_name": "ZoeLeBlanc",
          "type": "additions",
          "value": 4
         },
         {
          "commit_author_date": "2020-12-21T19:52:11+00:00",
          "commit_author_name": "ZoeLeBlanc",
          "type": "additions",
          "value": 2
         },
         {
          "commit_author_date": "2020-12-21T19:50:09+00:00",
          "commit_author_name": "ZoeLeBlanc",
          "type": "additions",
          "value": 1
         },
         {
          "commit_author_date": "2020-12-17T17:41:09+00:00",
          "commit_author_name": "ZoeLeBlanc",
          "type": "additions",
          "value": 21
         },
         {
          "commit_author_date": "2020-12-16T23:00:15+00:00",
          "commit_author_name": "ZoeLeBlanc",
          "type": "additions",
          "value": 81
         },
         {
          "commit_author_date": "2020-12-16T20:29:13+00:00",
          "commit_author_name": "ZoeLeBlanc",
          "type": "additions",
          "value": 2
         },
         {
          "commit_author_date": "2020-12-16T20:08:59+00:00",
          "commit_author_name": "ZoeLeBlanc",
          "type": "additions",
          "value": 320
         },
         {
          "commit_author_date": "2020-12-11T17:14:00+00:00",
          "commit_author_name": "ZoeLeBlanc",
          "type": "additions",
          "value": 0
         },
         {
          "commit_author_date": "2020-12-11T17:13:56+00:00",
          "commit_author_name": "ZoeLeBlanc",
          "type": "additions",
          "value": 175
         },
         {
          "commit_author_date": "2020-12-08T21:34:27+00:00",
          "commit_author_name": "JR Ladd",
          "type": "additions",
          "value": 48
         },
         {
          "commit_author_date": "2020-12-08T16:14:41+00:00",
          "commit_author_name": "ZoeLeBlanc",
          "type": "additions",
          "value": 136
         },
         {
          "commit_author_date": "2020-12-04T18:27:45+00:00",
          "commit_author_name": "ZoeLeBlanc",
          "type": "additions",
          "value": 8
         },
         {
          "commit_author_date": "2020-12-03T21:37:53+00:00",
          "commit_author_name": "ZoeLeBlanc",
          "type": "additions",
          "value": 139
         },
         {
          "commit_author_date": "2020-12-02T00:10:23+00:00",
          "commit_author_name": "JR Ladd",
          "type": "additions",
          "value": 17
         },
         {
          "commit_author_date": "2020-12-01T23:09:28+00:00",
          "commit_author_name": "JR Ladd",
          "type": "additions",
          "value": 32
         },
         {
          "commit_author_date": "2020-12-01T21:48:14+00:00",
          "commit_author_name": "JR Ladd",
          "type": "additions",
          "value": 541
         },
         {
          "commit_author_date": "2020-12-01T21:45:29+00:00",
          "commit_author_name": "JR Ladd",
          "type": "additions",
          "value": 820
         },
         {
          "commit_author_date": "2020-12-01T21:44:44+00:00",
          "commit_author_name": "JR Ladd",
          "type": "additions",
          "value": 820
         },
         {
          "commit_author_date": "2020-12-01T21:43:32+00:00",
          "commit_author_name": "JR Ladd",
          "type": "additions",
          "value": 1093
         },
         {
          "commit_author_date": "2020-12-01T21:39:58+00:00",
          "commit_author_name": "JR Ladd",
          "type": "additions",
          "value": 30
         },
         {
          "commit_author_date": "2020-12-01T21:19:13+00:00",
          "commit_author_name": "ZoeLeBlanc",
          "type": "additions",
          "value": 1
         },
         {
          "commit_author_date": "2020-11-30T16:22:01+00:00",
          "commit_author_name": "ZoeLeBlanc",
          "type": "additions",
          "value": 322
         },
         {
          "commit_author_date": "2020-11-24T23:43:05+00:00",
          "commit_author_name": "ZoeLeBlanc",
          "type": "additions",
          "value": 78
         },
         {
          "commit_author_date": "2020-11-24T23:32:34+00:00",
          "commit_author_name": "ZoeLeBlanc",
          "type": "additions",
          "value": 222
         },
         {
          "commit_author_date": "2020-11-24T23:04:42+00:00",
          "commit_author_name": "JR Ladd",
          "type": "additions",
          "value": 78
         },
         {
          "commit_author_date": "2020-11-17T21:20:19+00:00",
          "commit_author_name": "ZoeLeBlanc",
          "type": "additions",
          "value": 0
         },
         {
          "commit_author_date": "2020-11-17T21:20:15+00:00",
          "commit_author_name": "ZoeLeBlanc",
          "type": "additions",
          "value": 166
         },
         {
          "commit_author_date": "2020-11-17T21:19:08+00:00",
          "commit_author_name": "JR Ladd",
          "type": "additions",
          "value": 115
         },
         {
          "commit_author_date": "2020-11-13T17:25:34+00:00",
          "commit_author_name": "JR Ladd",
          "type": "additions",
          "value": 4
         },
         {
          "commit_author_date": "2020-11-13T16:52:27+00:00",
          "commit_author_name": "JR Ladd",
          "type": "additions",
          "value": 4
         },
         {
          "commit_author_date": "2020-11-12T23:25:58+00:00",
          "commit_author_name": "JR Ladd",
          "type": "additions",
          "value": 41
         },
         {
          "commit_author_date": "2020-11-03T16:01:41+00:00",
          "commit_author_name": "JR Ladd",
          "type": "additions",
          "value": 69
         },
         {
          "commit_author_date": "2020-10-25T20:58:33+00:00",
          "commit_author_name": "JR Ladd",
          "type": "additions",
          "value": 7
         },
         {
          "commit_author_date": "2020-10-25T20:36:45+00:00",
          "commit_author_name": "JR Ladd",
          "type": "additions",
          "value": 1
         },
         {
          "commit_author_date": "2020-10-24T22:33:27+00:00",
          "commit_author_name": "JR Ladd",
          "type": "additions",
          "value": 11
         },
         {
          "commit_author_date": "2020-10-24T21:50:07+00:00",
          "commit_author_name": "JR Ladd",
          "type": "additions",
          "value": 68
         },
         {
          "commit_author_date": "2020-10-20T23:23:09+00:00",
          "commit_author_name": "ZoeLeBlanc",
          "type": "additions",
          "value": 516
         },
         {
          "commit_author_date": "2020-10-20T22:57:45+00:00",
          "commit_author_name": "ZoeLeBlanc",
          "type": "additions",
          "value": 2
         },
         {
          "commit_author_date": "2020-10-20T20:35:11+00:00",
          "commit_author_name": "ZoeLeBlanc",
          "type": "additions",
          "value": 35
         },
         {
          "commit_author_date": "2020-10-20T16:50:52+00:00",
          "commit_author_name": "ZoeLeBlanc",
          "type": "additions",
          "value": 58
         },
         {
          "commit_author_date": "2020-10-20T15:25:53+00:00",
          "commit_author_name": "JR Ladd",
          "type": "additions",
          "value": 6
         },
         {
          "commit_author_date": "2020-10-20T15:09:26+00:00",
          "commit_author_name": "JR Ladd",
          "type": "additions",
          "value": 22
         },
         {
          "commit_author_date": "2020-10-20T01:24:33+00:00",
          "commit_author_name": "ZoeLeBlanc",
          "type": "additions",
          "value": 542
         },
         {
          "commit_author_date": "2020-10-16T22:39:00+00:00",
          "commit_author_name": "JR Ladd",
          "type": "additions",
          "value": 4
         },
         {
          "commit_author_date": "2020-10-16T22:10:55+00:00",
          "commit_author_name": "JR Ladd",
          "type": "additions",
          "value": 14
         },
         {
          "commit_author_date": "2020-10-15T23:10:20+00:00",
          "commit_author_name": "JR Ladd",
          "type": "additions",
          "value": 30
         },
         {
          "commit_author_date": "2020-10-15T01:21:12+00:00",
          "commit_author_name": "JR Ladd",
          "type": "additions",
          "value": 68
         },
         {
          "commit_author_date": "2019-08-30T14:15:53+00:00",
          "commit_author_name": "JR Ladd",
          "type": "additions",
          "value": 1
         },
         {
          "commit_author_date": "2019-08-30T14:13:05+00:00",
          "commit_author_name": "JR Ladd",
          "type": "additions",
          "value": 1
         },
         {
          "commit_author_date": "2019-08-29T21:56:05+00:00",
          "commit_author_name": "Matthew Lincoln",
          "type": "additions",
          "value": 1
         },
         {
          "commit_author_date": "2018-03-31T21:40:01+00:00",
          "commit_author_name": "JR Ladd",
          "type": "additions",
          "value": 1
         },
         {
          "commit_author_date": "2018-03-31T21:38:40+00:00",
          "commit_author_name": "JR Ladd",
          "type": "additions",
          "value": 4
         },
         {
          "commit_author_date": "2018-01-23T19:51:02+00:00",
          "commit_author_name": "JR Ladd",
          "type": "additions",
          "value": 4
         },
         {
          "commit_author_date": "2018-01-16T16:12:13+00:00",
          "commit_author_name": "JR Ladd",
          "type": "additions",
          "value": 0
         },
         {
          "commit_author_date": "2018-01-15T19:25:47+00:00",
          "commit_author_name": "JR Ladd",
          "type": "additions",
          "value": 114
         },
         {
          "commit_author_date": "2018-01-12T20:00:15+00:00",
          "commit_author_name": "JR Ladd",
          "type": "additions",
          "value": 1
         },
         {
          "commit_author_date": "2018-01-12T19:16:03+00:00",
          "commit_author_name": "JR Ladd",
          "type": "additions",
          "value": 52
         },
         {
          "commit_author_date": "2018-01-11T22:47:52+00:00",
          "commit_author_name": "JR Ladd",
          "type": "additions",
          "value": 29
         },
         {
          "commit_author_date": "2018-01-11T20:29:04+00:00",
          "commit_author_name": "JR Ladd",
          "type": "additions",
          "value": 16
         },
         {
          "commit_author_date": "2018-01-11T20:15:57+00:00",
          "commit_author_name": "JR Ladd",
          "type": "additions",
          "value": 49
         },
         {
          "commit_author_date": "2018-01-11T18:49:25+00:00",
          "commit_author_name": "JR Ladd",
          "type": "additions",
          "value": 26
         },
         {
          "commit_author_date": "2017-08-29T03:20:17+00:00",
          "commit_author_name": "JR Ladd",
          "type": "additions",
          "value": 1
         },
         {
          "commit_author_date": "2017-08-29T03:17:01+00:00",
          "commit_author_name": "JR Ladd",
          "type": "additions",
          "value": 3
         },
         {
          "commit_author_date": "2017-08-29T03:14:15+00:00",
          "commit_author_name": "JR Ladd",
          "type": "additions",
          "value": 32
         },
         {
          "commit_author_date": "2017-08-10T03:12:41+00:00",
          "commit_author_name": "JR Ladd",
          "type": "additions",
          "value": 42
         },
         {
          "commit_author_date": "2017-08-09T03:19:18+00:00",
          "commit_author_name": "JR Ladd",
          "type": "additions",
          "value": 1728
         },
         {
          "commit_author_date": "2021-07-23T14:12:01+00:00",
          "commit_author_name": "JR Ladd",
          "type": "deletions",
          "value": -1
         },
         {
          "commit_author_date": "2021-07-02T18:19:38+00:00",
          "commit_author_name": "JR Ladd",
          "type": "deletions",
          "value": -1
         },
         {
          "commit_author_date": "2021-06-30T19:43:16+00:00",
          "commit_author_name": "JR Ladd",
          "type": "deletions",
          "value": -1
         },
         {
          "commit_author_date": "2021-06-30T19:15:00+00:00",
          "commit_author_name": "JR Ladd",
          "type": "deletions",
          "value": 0
         },
         {
          "commit_author_date": "2021-06-30T19:07:56+00:00",
          "commit_author_name": "JR Ladd",
          "type": "deletions",
          "value": -1
         },
         {
          "commit_author_date": "2021-06-30T19:05:38+00:00",
          "commit_author_name": "JR Ladd",
          "type": "deletions",
          "value": -828
         },
         {
          "commit_author_date": "2021-06-30T18:54:13+00:00",
          "commit_author_name": "JR Ladd",
          "type": "deletions",
          "value": 0
         },
         {
          "commit_author_date": "2021-06-30T18:53:26+00:00",
          "commit_author_name": "JR Ladd",
          "type": "deletions",
          "value": -18
         },
         {
          "commit_author_date": "2021-06-29T20:31:27+00:00",
          "commit_author_name": "JR Ladd",
          "type": "deletions",
          "value": -2
         },
         {
          "commit_author_date": "2021-06-29T19:58:15+00:00",
          "commit_author_name": "JR Ladd",
          "type": "deletions",
          "value": -2
         },
         {
          "commit_author_date": "2021-06-29T19:49:55+00:00",
          "commit_author_name": "JR Ladd",
          "type": "deletions",
          "value": -2
         },
         {
          "commit_author_date": "2021-06-15T20:18:05+00:00",
          "commit_author_name": "JR Ladd",
          "type": "deletions",
          "value": -215
         },
         {
          "commit_author_date": "2021-06-08T14:44:04+00:00",
          "commit_author_name": "JR Ladd",
          "type": "deletions",
          "value": 0
         },
         {
          "commit_author_date": "2021-06-08T14:39:41+00:00",
          "commit_author_name": "JR Ladd",
          "type": "deletions",
          "value": -1
         },
         {
          "commit_author_date": "2021-06-08T14:35:47+00:00",
          "commit_author_name": "JR Ladd",
          "type": "deletions",
          "value": -2
         },
         {
          "commit_author_date": "2021-06-08T14:24:28+00:00",
          "commit_author_name": "JR Ladd",
          "type": "deletions",
          "value": -1
         },
         {
          "commit_author_date": "2021-06-02T14:38:03+00:00",
          "commit_author_name": "JR Ladd",
          "type": "deletions",
          "value": 0
         },
         {
          "commit_author_date": "2021-06-02T14:16:03+00:00",
          "commit_author_name": "JR Ladd",
          "type": "deletions",
          "value": 0
         },
         {
          "commit_author_date": "2021-06-01T17:14:41+00:00",
          "commit_author_name": "JR Ladd",
          "type": "deletions",
          "value": 0
         },
         {
          "commit_author_date": "2021-06-01T16:40:31+00:00",
          "commit_author_name": "JR Ladd",
          "type": "deletions",
          "value": -2
         },
         {
          "commit_author_date": "2021-05-27T21:41:00+00:00",
          "commit_author_name": "JR Ladd",
          "type": "deletions",
          "value": 0
         },
         {
          "commit_author_date": "2021-05-27T21:35:59+00:00",
          "commit_author_name": "JR Ladd",
          "type": "deletions",
          "value": 0
         },
         {
          "commit_author_date": "2021-05-27T21:35:27+00:00",
          "commit_author_name": "JR Ladd",
          "type": "deletions",
          "value": 0
         },
         {
          "commit_author_date": "2021-05-27T21:35:12+00:00",
          "commit_author_name": "JR Ladd",
          "type": "deletions",
          "value": -1
         },
         {
          "commit_author_date": "2021-05-27T20:35:41+00:00",
          "commit_author_name": "JR Ladd",
          "type": "deletions",
          "value": -10
         },
         {
          "commit_author_date": "2021-05-27T20:09:38+00:00",
          "commit_author_name": "JR Ladd",
          "type": "deletions",
          "value": -8
         },
         {
          "commit_author_date": "2021-05-25T18:07:10+00:00",
          "commit_author_name": "ZoeLeBlanc",
          "type": "deletions",
          "value": -12
         },
         {
          "commit_author_date": "2021-05-23T21:45:28+00:00",
          "commit_author_name": "JR Ladd",
          "type": "deletions",
          "value": -21
         },
         {
          "commit_author_date": "2021-05-23T21:17:10+00:00",
          "commit_author_name": "JR Ladd",
          "type": "deletions",
          "value": -11
         },
         {
          "commit_author_date": "2021-05-23T21:03:23+00:00",
          "commit_author_name": "JR Ladd",
          "type": "deletions",
          "value": -5
         },
         {
          "commit_author_date": "2021-05-23T20:47:39+00:00",
          "commit_author_name": "JR Ladd",
          "type": "deletions",
          "value": -16
         },
         {
          "commit_author_date": "2021-05-23T20:36:40+00:00",
          "commit_author_name": "JR Ladd",
          "type": "deletions",
          "value": 0
         },
         {
          "commit_author_date": "2021-05-23T20:29:30+00:00",
          "commit_author_name": "JR Ladd",
          "type": "deletions",
          "value": -2
         },
         {
          "commit_author_date": "2021-05-23T20:11:03+00:00",
          "commit_author_name": "JR Ladd",
          "type": "deletions",
          "value": -8
         },
         {
          "commit_author_date": "2021-05-18T23:33:45+00:00",
          "commit_author_name": "ZoeLeBlanc",
          "type": "deletions",
          "value": -26
         },
         {
          "commit_author_date": "2021-05-05T22:52:20+00:00",
          "commit_author_name": "JR Ladd",
          "type": "deletions",
          "value": -1
         },
         {
          "commit_author_date": "2021-05-05T22:43:43+00:00",
          "commit_author_name": "JR Ladd",
          "type": "deletions",
          "value": -1
         },
         {
          "commit_author_date": "2021-05-05T21:21:48+00:00",
          "commit_author_name": "JR Ladd",
          "type": "deletions",
          "value": -3
         },
         {
          "commit_author_date": "2021-05-05T15:10:49+00:00",
          "commit_author_name": "JR Ladd",
          "type": "deletions",
          "value": -2
         },
         {
          "commit_author_date": "2021-05-04T14:59:30+00:00",
          "commit_author_name": "JR Ladd",
          "type": "deletions",
          "value": -22
         },
         {
          "commit_author_date": "2021-05-02T15:13:22+00:00",
          "commit_author_name": "JR Ladd",
          "type": "deletions",
          "value": -1
         },
         {
          "commit_author_date": "2021-05-02T15:12:47+00:00",
          "commit_author_name": "JR Ladd",
          "type": "deletions",
          "value": -6
         },
         {
          "commit_author_date": "2021-04-30T21:27:41+00:00",
          "commit_author_name": "JR Ladd",
          "type": "deletions",
          "value": 0
         },
         {
          "commit_author_date": "2021-04-30T21:15:52+00:00",
          "commit_author_name": "JR Ladd",
          "type": "deletions",
          "value": -12
         },
         {
          "commit_author_date": "2021-04-30T19:50:38+00:00",
          "commit_author_name": "JR Ladd",
          "type": "deletions",
          "value": -1
         },
         {
          "commit_author_date": "2021-04-30T17:16:06+00:00",
          "commit_author_name": "JR Ladd",
          "type": "deletions",
          "value": -1
         },
         {
          "commit_author_date": "2021-04-30T17:11:43+00:00",
          "commit_author_name": "JR Ladd",
          "type": "deletions",
          "value": -32
         },
         {
          "commit_author_date": "2021-04-29T21:52:36+00:00",
          "commit_author_name": "JR Ladd",
          "type": "deletions",
          "value": -24
         },
         {
          "commit_author_date": "2021-04-29T20:33:32+00:00",
          "commit_author_name": "JR Ladd",
          "type": "deletions",
          "value": 0
         },
         {
          "commit_author_date": "2021-04-29T20:09:46+00:00",
          "commit_author_name": "JR Ladd",
          "type": "deletions",
          "value": -4
         },
         {
          "commit_author_date": "2021-04-29T18:49:00+00:00",
          "commit_author_name": "JR Ladd",
          "type": "deletions",
          "value": -4
         },
         {
          "commit_author_date": "2021-04-29T18:19:12+00:00",
          "commit_author_name": "JR Ladd",
          "type": "deletions",
          "value": 0
         },
         {
          "commit_author_date": "2021-04-29T17:19:17+00:00",
          "commit_author_name": "JR Ladd",
          "type": "deletions",
          "value": -27
         },
         {
          "commit_author_date": "2021-04-28T22:53:53+00:00",
          "commit_author_name": "JR Ladd",
          "type": "deletions",
          "value": -10
         },
         {
          "commit_author_date": "2021-04-28T21:27:52+00:00",
          "commit_author_name": "JR Ladd",
          "type": "deletions",
          "value": -1
         },
         {
          "commit_author_date": "2021-04-26T21:19:42+00:00",
          "commit_author_name": "JR Ladd",
          "type": "deletions",
          "value": -11
         },
         {
          "commit_author_date": "2021-04-23T22:58:07+00:00",
          "commit_author_name": "JR Ladd",
          "type": "deletions",
          "value": 0
         },
         {
          "commit_author_date": "2021-04-23T22:25:04+00:00",
          "commit_author_name": "JR Ladd",
          "type": "deletions",
          "value": -16
         },
         {
          "commit_author_date": "2021-04-10T22:58:49+00:00",
          "commit_author_name": "JR Ladd",
          "type": "deletions",
          "value": -30
         },
         {
          "commit_author_date": "2021-04-10T22:15:01+00:00",
          "commit_author_name": "JR Ladd",
          "type": "deletions",
          "value": 0
         },
         {
          "commit_author_date": "2021-04-10T22:09:05+00:00",
          "commit_author_name": "JR Ladd",
          "type": "deletions",
          "value": 0
         },
         {
          "commit_author_date": "2021-04-10T19:40:29+00:00",
          "commit_author_name": "JR Ladd",
          "type": "deletions",
          "value": 0
         },
         {
          "commit_author_date": "2021-04-10T18:21:17+00:00",
          "commit_author_name": "JR Ladd",
          "type": "deletions",
          "value": -5
         },
         {
          "commit_author_date": "2021-04-10T18:08:14+00:00",
          "commit_author_name": "JR Ladd",
          "type": "deletions",
          "value": -6
         },
         {
          "commit_author_date": "2021-04-10T17:01:51+00:00",
          "commit_author_name": "JR Ladd",
          "type": "deletions",
          "value": -4
         },
         {
          "commit_author_date": "2021-04-10T16:44:37+00:00",
          "commit_author_name": "JR Ladd",
          "type": "deletions",
          "value": -1
         },
         {
          "commit_author_date": "2021-04-10T16:32:30+00:00",
          "commit_author_name": "JR Ladd",
          "type": "deletions",
          "value": -1
         },
         {
          "commit_author_date": "2021-04-08T20:51:24+00:00",
          "commit_author_name": "JR Ladd",
          "type": "deletions",
          "value": 0
         },
         {
          "commit_author_date": "2021-04-08T20:49:01+00:00",
          "commit_author_name": "JR Ladd",
          "type": "deletions",
          "value": -1
         },
         {
          "commit_author_date": "2021-04-07T19:46:34+00:00",
          "commit_author_name": "JR Ladd",
          "type": "deletions",
          "value": 0
         },
         {
          "commit_author_date": "2021-04-07T19:29:24+00:00",
          "commit_author_name": "JR Ladd",
          "type": "deletions",
          "value": -1
         },
         {
          "commit_author_date": "2021-04-07T19:26:03+00:00",
          "commit_author_name": "JR Ladd",
          "type": "deletions",
          "value": 0
         },
         {
          "commit_author_date": "2021-04-07T17:39:03+00:00",
          "commit_author_name": "JR Ladd",
          "type": "deletions",
          "value": -1
         },
         {
          "commit_author_date": "2021-04-07T17:27:23+00:00",
          "commit_author_name": "JR Ladd",
          "type": "deletions",
          "value": -1
         },
         {
          "commit_author_date": "2021-04-02T20:16:17+00:00",
          "commit_author_name": "JR Ladd",
          "type": "deletions",
          "value": -5
         },
         {
          "commit_author_date": "2021-04-02T18:08:39+00:00",
          "commit_author_name": "JR Ladd",
          "type": "deletions",
          "value": -1
         },
         {
          "commit_author_date": "2021-04-02T17:28:48+00:00",
          "commit_author_name": "JR Ladd",
          "type": "deletions",
          "value": 0
         },
         {
          "commit_author_date": "2021-04-02T17:15:08+00:00",
          "commit_author_name": "JR Ladd",
          "type": "deletions",
          "value": -1
         },
         {
          "commit_author_date": "2021-04-02T17:12:32+00:00",
          "commit_author_name": "JR Ladd",
          "type": "deletions",
          "value": -2
         },
         {
          "commit_author_date": "2021-03-11T23:13:44+00:00",
          "commit_author_name": "JR Ladd",
          "type": "deletions",
          "value": -2
         },
         {
          "commit_author_date": "2021-03-11T23:11:48+00:00",
          "commit_author_name": "JR Ladd",
          "type": "deletions",
          "value": -1
         },
         {
          "commit_author_date": "2021-03-11T22:59:18+00:00",
          "commit_author_name": "JR Ladd",
          "type": "deletions",
          "value": -263
         },
         {
          "commit_author_date": "2021-03-11T17:51:27+00:00",
          "commit_author_name": "ZoeLeBlanc",
          "type": "deletions",
          "value": -13
         },
         {
          "commit_author_date": "2021-03-11T17:25:31+00:00",
          "commit_author_name": "ZoeLeBlanc",
          "type": "deletions",
          "value": -108
         },
         {
          "commit_author_date": "2021-03-11T17:25:26+00:00",
          "commit_author_name": "ZoeLeBlanc",
          "type": "deletions",
          "value": -7
         },
         {
          "commit_author_date": "2021-03-10T23:57:42+00:00",
          "commit_author_name": "JR Ladd",
          "type": "deletions",
          "value": 0
         },
         {
          "commit_author_date": "2021-03-10T23:52:46+00:00",
          "commit_author_name": "JR Ladd",
          "type": "deletions",
          "value": 0
         },
         {
          "commit_author_date": "2021-03-10T23:47:41+00:00",
          "commit_author_name": "JR Ladd",
          "type": "deletions",
          "value": -2
         },
         {
          "commit_author_date": "2021-03-10T23:46:48+00:00",
          "commit_author_name": "JR Ladd",
          "type": "deletions",
          "value": -67
         },
         {
          "commit_author_date": "2021-03-10T23:13:41+00:00",
          "commit_author_name": "JR Ladd",
          "type": "deletions",
          "value": -12
         },
         {
          "commit_author_date": "2021-03-10T23:03:33+00:00",
          "commit_author_name": "JR Ladd",
          "type": "deletions",
          "value": -20
         },
         {
          "commit_author_date": "2021-03-10T22:48:37+00:00",
          "commit_author_name": "JR Ladd",
          "type": "deletions",
          "value": -3
         },
         {
          "commit_author_date": "2021-03-10T22:35:31+00:00",
          "commit_author_name": "JR Ladd",
          "type": "deletions",
          "value": -8
         },
         {
          "commit_author_date": "2021-03-10T22:06:28+00:00",
          "commit_author_name": "JR Ladd",
          "type": "deletions",
          "value": -2
         },
         {
          "commit_author_date": "2021-03-10T21:08:54+00:00",
          "commit_author_name": "ZoeLeBlanc",
          "type": "deletions",
          "value": -63
         },
         {
          "commit_author_date": "2021-03-10T21:04:55+00:00",
          "commit_author_name": "ZoeLeBlanc",
          "type": "deletions",
          "value": -31
         },
         {
          "commit_author_date": "2021-03-02T20:03:16+00:00",
          "commit_author_name": "JR Ladd",
          "type": "deletions",
          "value": -1
         },
         {
          "commit_author_date": "2021-03-02T20:00:58+00:00",
          "commit_author_name": "JR Ladd",
          "type": "deletions",
          "value": -2
         },
         {
          "commit_author_date": "2021-03-02T19:38:31+00:00",
          "commit_author_name": "JR Ladd",
          "type": "deletions",
          "value": -2
         },
         {
          "commit_author_date": "2021-03-02T19:26:00+00:00",
          "commit_author_name": "JR Ladd",
          "type": "deletions",
          "value": -2
         },
         {
          "commit_author_date": "2021-03-02T16:20:13+00:00",
          "commit_author_name": "JR Ladd",
          "type": "deletions",
          "value": -38
         },
         {
          "commit_author_date": "2021-03-01T21:18:18+00:00",
          "commit_author_name": "JR Ladd",
          "type": "deletions",
          "value": -11
         },
         {
          "commit_author_date": "2021-03-01T19:19:57+00:00",
          "commit_author_name": "JR Ladd",
          "type": "deletions",
          "value": -10
         },
         {
          "commit_author_date": "2021-03-01T16:47:31+00:00",
          "commit_author_name": "JR Ladd",
          "type": "deletions",
          "value": -8
         },
         {
          "commit_author_date": "2021-02-23T21:28:35+00:00",
          "commit_author_name": "ZoeLeBlanc",
          "type": "deletions",
          "value": -2
         },
         {
          "commit_author_date": "2021-02-23T14:45:00+00:00",
          "commit_author_name": "ZoeLeBlanc",
          "type": "deletions",
          "value": -35
         },
         {
          "commit_author_date": "2021-02-23T03:30:47+00:00",
          "commit_author_name": "ZoeLeBlanc",
          "type": "deletions",
          "value": -59
         },
         {
          "commit_author_date": "2021-02-18T21:38:36+00:00",
          "commit_author_name": "JR Ladd",
          "type": "deletions",
          "value": -202
         },
         {
          "commit_author_date": "2021-02-18T21:35:59+00:00",
          "commit_author_name": "JR Ladd",
          "type": "deletions",
          "value": -4
         },
         {
          "commit_author_date": "2021-02-18T21:34:31+00:00",
          "commit_author_name": "JR Ladd",
          "type": "deletions",
          "value": -2
         },
         {
          "commit_author_date": "2021-02-18T21:26:12+00:00",
          "commit_author_name": "JR Ladd",
          "type": "deletions",
          "value": -1
         },
         {
          "commit_author_date": "2021-02-18T16:58:48+00:00",
          "commit_author_name": "JR Ladd",
          "type": "deletions",
          "value": -3
         },
         {
          "commit_author_date": "2021-02-17T22:36:29+00:00",
          "commit_author_name": "ZoeLeBlanc",
          "type": "deletions",
          "value": 0
         },
         {
          "commit_author_date": "2021-02-17T22:09:03+00:00",
          "commit_author_name": "ZoeLeBlanc",
          "type": "deletions",
          "value": -14
         },
         {
          "commit_author_date": "2021-02-16T23:14:04+00:00",
          "commit_author_name": "ZoeLeBlanc",
          "type": "deletions",
          "value": -109
         },
         {
          "commit_author_date": "2021-02-09T16:04:49+00:00",
          "commit_author_name": "ZoeLeBlanc",
          "type": "deletions",
          "value": -108
         },
         {
          "commit_author_date": "2021-02-08T21:54:25+00:00",
          "commit_author_name": "JR Ladd",
          "type": "deletions",
          "value": -3
         },
         {
          "commit_author_date": "2021-02-08T21:49:49+00:00",
          "commit_author_name": "JR Ladd",
          "type": "deletions",
          "value": -2
         },
         {
          "commit_author_date": "2021-02-08T20:42:53+00:00",
          "commit_author_name": "JR Ladd",
          "type": "deletions",
          "value": -2
         },
         {
          "commit_author_date": "2021-02-05T22:22:51+00:00",
          "commit_author_name": "JR Ladd",
          "type": "deletions",
          "value": -21
         },
         {
          "commit_author_date": "2021-02-05T22:08:02+00:00",
          "commit_author_name": "JR Ladd",
          "type": "deletions",
          "value": 0
         },
         {
          "commit_author_date": "2021-02-05T22:00:44+00:00",
          "commit_author_name": "JR Ladd",
          "type": "deletions",
          "value": 0
         },
         {
          "commit_author_date": "2021-02-05T21:40:29+00:00",
          "commit_author_name": "JR Ladd",
          "type": "deletions",
          "value": -2
         },
         {
          "commit_author_date": "2021-02-05T21:25:05+00:00",
          "commit_author_name": "JR Ladd",
          "type": "deletions",
          "value": -2
         },
         {
          "commit_author_date": "2021-02-05T21:15:52+00:00",
          "commit_author_name": "JR Ladd",
          "type": "deletions",
          "value": -2
         },
         {
          "commit_author_date": "2021-02-04T21:05:48+00:00",
          "commit_author_name": "JR Ladd",
          "type": "deletions",
          "value": -40
         },
         {
          "commit_author_date": "2021-02-02T22:40:14+00:00",
          "commit_author_name": "JR Ladd",
          "type": "deletions",
          "value": -6
         },
         {
          "commit_author_date": "2021-02-02T19:53:15+00:00",
          "commit_author_name": "ZoeLeBlanc",
          "type": "deletions",
          "value": 0
         },
         {
          "commit_author_date": "2021-02-02T19:53:10+00:00",
          "commit_author_name": "ZoeLeBlanc",
          "type": "deletions",
          "value": -4
         },
         {
          "commit_author_date": "2021-02-02T19:52:18+00:00",
          "commit_author_name": "ZoeLeBlanc",
          "type": "deletions",
          "value": -11
         },
         {
          "commit_author_date": "2021-02-01T23:58:06+00:00",
          "commit_author_name": "JR Ladd",
          "type": "deletions",
          "value": -5
         },
         {
          "commit_author_date": "2021-01-27T16:57:29+00:00",
          "commit_author_name": "ZoeLeBlanc",
          "type": "deletions",
          "value": -47
         },
         {
          "commit_author_date": "2021-01-26T21:13:37+00:00",
          "commit_author_name": "ZoeLeBlanc",
          "type": "deletions",
          "value": -51
         },
         {
          "commit_author_date": "2021-01-26T16:46:42+00:00",
          "commit_author_name": "ZoeLeBlanc",
          "type": "deletions",
          "value": -8
         },
         {
          "commit_author_date": "2021-01-26T16:45:52+00:00",
          "commit_author_name": "ZoeLeBlanc",
          "type": "deletions",
          "value": -33
         },
         {
          "commit_author_date": "2021-01-14T22:37:47+00:00",
          "commit_author_name": "JR Ladd",
          "type": "deletions",
          "value": -2
         },
         {
          "commit_author_date": "2021-01-14T22:29:16+00:00",
          "commit_author_name": "JR Ladd",
          "type": "deletions",
          "value": 0
         },
         {
          "commit_author_date": "2021-01-14T22:26:25+00:00",
          "commit_author_name": "JR Ladd",
          "type": "deletions",
          "value": -7
         },
         {
          "commit_author_date": "2021-01-04T23:17:29+00:00",
          "commit_author_name": "JR Ladd",
          "type": "deletions",
          "value": -2
         },
         {
          "commit_author_date": "2021-01-04T22:43:22+00:00",
          "commit_author_name": "JR Ladd",
          "type": "deletions",
          "value": -5
         },
         {
          "commit_author_date": "2020-12-31T17:54:51+00:00",
          "commit_author_name": "JR Ladd",
          "type": "deletions",
          "value": -4
         },
         {
          "commit_author_date": "2020-12-31T17:15:05+00:00",
          "commit_author_name": "JR Ladd",
          "type": "deletions",
          "value": 0
         },
         {
          "commit_author_date": "2020-12-30T17:34:23+00:00",
          "commit_author_name": "JR Ladd",
          "type": "deletions",
          "value": -15
         },
         {
          "commit_author_date": "2020-12-30T17:31:31+00:00",
          "commit_author_name": "JR Ladd",
          "type": "deletions",
          "value": -1
         },
         {
          "commit_author_date": "2020-12-23T17:13:47+00:00",
          "commit_author_name": "JR Ladd",
          "type": "deletions",
          "value": 0
         },
         {
          "commit_author_date": "2020-12-23T16:53:53+00:00",
          "commit_author_name": "JR Ladd",
          "type": "deletions",
          "value": -4
         },
         {
          "commit_author_date": "2020-12-22T23:01:18+00:00",
          "commit_author_name": "JR Ladd",
          "type": "deletions",
          "value": 0
         },
         {
          "commit_author_date": "2020-12-22T22:55:34+00:00",
          "commit_author_name": "JR Ladd",
          "type": "deletions",
          "value": -8
         },
         {
          "commit_author_date": "2020-12-22T22:09:53+00:00",
          "commit_author_name": "JR Ladd",
          "type": "deletions",
          "value": -3
         },
         {
          "commit_author_date": "2020-12-22T21:45:22+00:00",
          "commit_author_name": "JR Ladd",
          "type": "deletions",
          "value": -1
         },
         {
          "commit_author_date": "2020-12-21T19:54:13+00:00",
          "commit_author_name": "ZoeLeBlanc",
          "type": "deletions",
          "value": -313
         },
         {
          "commit_author_date": "2020-12-21T19:53:34+00:00",
          "commit_author_name": "ZoeLeBlanc",
          "type": "deletions",
          "value": 0
         },
         {
          "commit_author_date": "2020-12-21T19:52:11+00:00",
          "commit_author_name": "ZoeLeBlanc",
          "type": "deletions",
          "value": 0
         },
         {
          "commit_author_date": "2020-12-21T19:50:09+00:00",
          "commit_author_name": "ZoeLeBlanc",
          "type": "deletions",
          "value": -1
         },
         {
          "commit_author_date": "2020-12-17T17:41:09+00:00",
          "commit_author_name": "ZoeLeBlanc",
          "type": "deletions",
          "value": -19
         },
         {
          "commit_author_date": "2020-12-16T23:00:15+00:00",
          "commit_author_name": "ZoeLeBlanc",
          "type": "deletions",
          "value": -44
         },
         {
          "commit_author_date": "2020-12-16T20:29:13+00:00",
          "commit_author_name": "ZoeLeBlanc",
          "type": "deletions",
          "value": -93
         },
         {
          "commit_author_date": "2020-12-16T20:08:59+00:00",
          "commit_author_name": "ZoeLeBlanc",
          "type": "deletions",
          "value": -167
         },
         {
          "commit_author_date": "2020-12-11T17:14:00+00:00",
          "commit_author_name": "ZoeLeBlanc",
          "type": "deletions",
          "value": 0
         },
         {
          "commit_author_date": "2020-12-11T17:13:56+00:00",
          "commit_author_name": "ZoeLeBlanc",
          "type": "deletions",
          "value": -96
         },
         {
          "commit_author_date": "2020-12-08T21:34:27+00:00",
          "commit_author_name": "JR Ladd",
          "type": "deletions",
          "value": -8
         },
         {
          "commit_author_date": "2020-12-08T16:14:41+00:00",
          "commit_author_name": "ZoeLeBlanc",
          "type": "deletions",
          "value": -135
         },
         {
          "commit_author_date": "2020-12-04T18:27:45+00:00",
          "commit_author_name": "ZoeLeBlanc",
          "type": "deletions",
          "value": -12
         },
         {
          "commit_author_date": "2020-12-03T21:37:53+00:00",
          "commit_author_name": "ZoeLeBlanc",
          "type": "deletions",
          "value": -1
         },
         {
          "commit_author_date": "2020-12-02T00:10:23+00:00",
          "commit_author_name": "JR Ladd",
          "type": "deletions",
          "value": -2
         },
         {
          "commit_author_date": "2020-12-01T23:09:28+00:00",
          "commit_author_name": "JR Ladd",
          "type": "deletions",
          "value": -7
         },
         {
          "commit_author_date": "2020-12-01T21:48:14+00:00",
          "commit_author_name": "JR Ladd",
          "type": "deletions",
          "value": -397
         },
         {
          "commit_author_date": "2020-12-01T21:45:29+00:00",
          "commit_author_name": "JR Ladd",
          "type": "deletions",
          "value": -1093
         },
         {
          "commit_author_date": "2020-12-01T21:44:44+00:00",
          "commit_author_name": "JR Ladd",
          "type": "deletions",
          "value": -1093
         },
         {
          "commit_author_date": "2020-12-01T21:43:32+00:00",
          "commit_author_name": "JR Ladd",
          "type": "deletions",
          "value": -820
         },
         {
          "commit_author_date": "2020-12-01T21:39:58+00:00",
          "commit_author_name": "JR Ladd",
          "type": "deletions",
          "value": -5
         },
         {
          "commit_author_date": "2020-12-01T21:19:13+00:00",
          "commit_author_name": "ZoeLeBlanc",
          "type": "deletions",
          "value": -2
         },
         {
          "commit_author_date": "2020-11-30T16:22:01+00:00",
          "commit_author_name": "ZoeLeBlanc",
          "type": "deletions",
          "value": -459
         },
         {
          "commit_author_date": "2020-11-24T23:43:05+00:00",
          "commit_author_name": "ZoeLeBlanc",
          "type": "deletions",
          "value": -9
         },
         {
          "commit_author_date": "2020-11-24T23:32:34+00:00",
          "commit_author_name": "ZoeLeBlanc",
          "type": "deletions",
          "value": -110
         },
         {
          "commit_author_date": "2020-11-24T23:04:42+00:00",
          "commit_author_name": "JR Ladd",
          "type": "deletions",
          "value": -4
         },
         {
          "commit_author_date": "2020-11-17T21:20:19+00:00",
          "commit_author_name": "ZoeLeBlanc",
          "type": "deletions",
          "value": 0
         },
         {
          "commit_author_date": "2020-11-17T21:20:15+00:00",
          "commit_author_name": "ZoeLeBlanc",
          "type": "deletions",
          "value": -16
         },
         {
          "commit_author_date": "2020-11-17T21:19:08+00:00",
          "commit_author_name": "JR Ladd",
          "type": "deletions",
          "value": -8
         },
         {
          "commit_author_date": "2020-11-13T17:25:34+00:00",
          "commit_author_name": "JR Ladd",
          "type": "deletions",
          "value": -4
         },
         {
          "commit_author_date": "2020-11-13T16:52:27+00:00",
          "commit_author_name": "JR Ladd",
          "type": "deletions",
          "value": -4
         },
         {
          "commit_author_date": "2020-11-12T23:25:58+00:00",
          "commit_author_name": "JR Ladd",
          "type": "deletions",
          "value": -6
         },
         {
          "commit_author_date": "2020-11-03T16:01:41+00:00",
          "commit_author_name": "JR Ladd",
          "type": "deletions",
          "value": -4
         },
         {
          "commit_author_date": "2020-10-25T20:58:33+00:00",
          "commit_author_name": "JR Ladd",
          "type": "deletions",
          "value": 0
         },
         {
          "commit_author_date": "2020-10-25T20:36:45+00:00",
          "commit_author_name": "JR Ladd",
          "type": "deletions",
          "value": -1
         },
         {
          "commit_author_date": "2020-10-24T22:33:27+00:00",
          "commit_author_name": "JR Ladd",
          "type": "deletions",
          "value": -5
         },
         {
          "commit_author_date": "2020-10-24T21:50:07+00:00",
          "commit_author_name": "JR Ladd",
          "type": "deletions",
          "value": -72
         },
         {
          "commit_author_date": "2020-10-20T23:23:09+00:00",
          "commit_author_name": "ZoeLeBlanc",
          "type": "deletions",
          "value": -473
         },
         {
          "commit_author_date": "2020-10-20T22:57:45+00:00",
          "commit_author_name": "ZoeLeBlanc",
          "type": "deletions",
          "value": -1
         },
         {
          "commit_author_date": "2020-10-20T20:35:11+00:00",
          "commit_author_name": "ZoeLeBlanc",
          "type": "deletions",
          "value": -33
         },
         {
          "commit_author_date": "2020-10-20T16:50:52+00:00",
          "commit_author_name": "ZoeLeBlanc",
          "type": "deletions",
          "value": -27
         },
         {
          "commit_author_date": "2020-10-20T15:25:53+00:00",
          "commit_author_name": "JR Ladd",
          "type": "deletions",
          "value": -3
         },
         {
          "commit_author_date": "2020-10-20T15:09:26+00:00",
          "commit_author_name": "JR Ladd",
          "type": "deletions",
          "value": -20
         },
         {
          "commit_author_date": "2020-10-20T01:24:33+00:00",
          "commit_author_name": "ZoeLeBlanc",
          "type": "deletions",
          "value": -158
         },
         {
          "commit_author_date": "2020-10-16T22:39:00+00:00",
          "commit_author_name": "JR Ladd",
          "type": "deletions",
          "value": -14
         },
         {
          "commit_author_date": "2020-10-16T22:10:55+00:00",
          "commit_author_name": "JR Ladd",
          "type": "deletions",
          "value": -22
         },
         {
          "commit_author_date": "2020-10-15T23:10:20+00:00",
          "commit_author_name": "JR Ladd",
          "type": "deletions",
          "value": -35
         },
         {
          "commit_author_date": "2020-10-15T01:21:12+00:00",
          "commit_author_name": "JR Ladd",
          "type": "deletions",
          "value": -560
         },
         {
          "commit_author_date": "2019-08-30T14:15:53+00:00",
          "commit_author_name": "JR Ladd",
          "type": "deletions",
          "value": -1
         },
         {
          "commit_author_date": "2019-08-30T14:13:05+00:00",
          "commit_author_name": "JR Ladd",
          "type": "deletions",
          "value": -1
         },
         {
          "commit_author_date": "2019-08-29T21:56:05+00:00",
          "commit_author_name": "Matthew Lincoln",
          "type": "deletions",
          "value": -1
         },
         {
          "commit_author_date": "2018-03-31T21:40:01+00:00",
          "commit_author_name": "JR Ladd",
          "type": "deletions",
          "value": 0
         },
         {
          "commit_author_date": "2018-03-31T21:38:40+00:00",
          "commit_author_name": "JR Ladd",
          "type": "deletions",
          "value": -9
         },
         {
          "commit_author_date": "2018-01-23T19:51:02+00:00",
          "commit_author_name": "JR Ladd",
          "type": "deletions",
          "value": -1
         },
         {
          "commit_author_date": "2018-01-16T16:12:13+00:00",
          "commit_author_name": "JR Ladd",
          "type": "deletions",
          "value": -1143
         },
         {
          "commit_author_date": "2018-01-15T19:25:47+00:00",
          "commit_author_name": "JR Ladd",
          "type": "deletions",
          "value": -61
         },
         {
          "commit_author_date": "2018-01-12T20:00:15+00:00",
          "commit_author_name": "JR Ladd",
          "type": "deletions",
          "value": -1
         },
         {
          "commit_author_date": "2018-01-12T19:16:03+00:00",
          "commit_author_name": "JR Ladd",
          "type": "deletions",
          "value": -11
         },
         {
          "commit_author_date": "2018-01-11T22:47:52+00:00",
          "commit_author_name": "JR Ladd",
          "type": "deletions",
          "value": -1
         },
         {
          "commit_author_date": "2018-01-11T20:29:04+00:00",
          "commit_author_name": "JR Ladd",
          "type": "deletions",
          "value": -7
         },
         {
          "commit_author_date": "2018-01-11T20:15:57+00:00",
          "commit_author_name": "JR Ladd",
          "type": "deletions",
          "value": -11
         },
         {
          "commit_author_date": "2018-01-11T18:49:25+00:00",
          "commit_author_name": "JR Ladd",
          "type": "deletions",
          "value": -2
         },
         {
          "commit_author_date": "2017-08-29T03:20:17+00:00",
          "commit_author_name": "JR Ladd",
          "type": "deletions",
          "value": 0
         },
         {
          "commit_author_date": "2017-08-29T03:17:01+00:00",
          "commit_author_name": "JR Ladd",
          "type": "deletions",
          "value": -1
         },
         {
          "commit_author_date": "2017-08-29T03:14:15+00:00",
          "commit_author_name": "JR Ladd",
          "type": "deletions",
          "value": -7
         },
         {
          "commit_author_date": "2017-08-10T03:12:41+00:00",
          "commit_author_name": "JR Ladd",
          "type": "deletions",
          "value": -15
         },
         {
          "commit_author_date": "2017-08-09T03:19:18+00:00",
          "commit_author_name": "JR Ladd",
          "type": "deletions",
          "value": 0
         }
        ]
       },
       "hconcat": [
        {
         "data": {
          "name": "data-43627ec4c851e9d01316f70aa503a807"
         },
         "encoding": {
          "color": {
           "field": "type",
           "title": "Type of Change",
           "type": "nominal"
          },
          "tooltip": [
           {
            "field": "commit_author_name",
            "type": "nominal"
           },
           {
            "field": "commit_author_date",
            "type": "temporal"
           },
           {
            "field": "value",
            "type": "quantitative"
           },
           {
            "field": "type",
            "type": "nominal"
           }
          ],
          "x": {
           "field": "commit_author_date",
           "title": "Date",
           "type": "temporal"
          },
          "y": {
           "field": "value",
           "title": "Additions/Deletions",
           "type": "quantitative"
          }
         },
         "mark": {
          "type": "bar"
         },
         "title": "Additions and Deletions to Network Navigator"
        },
        {
         "data": {
          "name": "data-16b0b689968ffb10e245c9397d3b7430"
         },
         "encoding": {
          "color": {
           "field": "commit_author_name",
           "legend": {
            "title": "Author"
           },
           "scale": {
            "scheme": "tableau20"
           },
           "sort": {
            "field": "stats_total",
            "op": "sum",
            "order": "descending"
           },
           "type": "nominal"
          },
          "opacity": {
           "condition": {
            "param": "param_16",
            "value": 1
           },
           "value": 0.2
          },
          "tooltip": [
           {
            "field": "commit_author_name",
            "type": "nominal"
           },
           {
            "field": "commit_author_date",
            "type": "temporal"
           },
           {
            "field": "stats_total",
            "type": "quantitative"
           }
          ],
          "x": {
           "field": "commit_author_date",
           "title": "Date",
           "type": "temporal"
          },
          "y": {
           "field": "stats_total",
           "stack": null,
           "title": "Total Contributions",
           "type": "quantitative"
          }
         },
         "mark": {
          "opacity": 0.7,
          "type": "bar"
         },
         "name": "view_5",
         "title": "Contributors to Network Navigator"
        }
       ],
       "params": [
        {
         "bind": "legend",
         "name": "param_16",
         "select": {
          "fields": [
           "commit_author_name"
          ],
          "type": "point"
         },
         "views": [
          "view_5"
         ]
        },
        {
         "bind": "scales",
         "name": "param_17",
         "select": {
          "encodings": [
           "x"
          ],
          "type": "interval"
         },
         "views": [
          "view_5"
         ]
        }
       ],
       "resolve": {
        "scale": {
         "color": "independent",
         "y": "independent"
        }
       },
       "title": "History of Network Navigator via GitHub"
      },
      "text/plain": [
       "<VegaLite 5 object>\n",
       "\n",
       "If you see this message, it means the renderer has not been properly enabled\n",
       "for the frontend that you are using. For more information, see\n",
       "https://altair-viz.github.io/user_guide/display_frontends.html#troubleshooting\n"
      ]
     },
     "execution_count": 99,
     "metadata": {},
     "output_type": "execute_result"
    }
   ],
   "source": [
    "nn_chart = alt.hconcat(project_history, author_chart).resolve_scale(y='independent', color='independent').properties(\n",
    "    title=\"History of Network Navigator via GitHub\").configure(\n",
    "        title=alt.TitleConfig(fontSize=20, font='Garamond', anchor='middle'),\n",
    "        axis=alt.AxisConfig(labelFont='Garamond', titleFont='Garamond'),\n",
    "        legend=alt.LegendConfig(labelFont='Garamond', titleFont='Garamond')\n",
    "    )\n",
    "\n",
    "nn_chart"
   ]
  },
  {
   "cell_type": "code",
   "execution_count": 100,
   "metadata": {},
   "outputs": [],
   "source": [
    "save_chart(nn_chart, \"../../media/project_history.png\", scale_factor=2.0)"
   ]
  },
  {
   "cell_type": "code",
   "execution_count": null,
   "metadata": {},
   "outputs": [],
   "source": []
  }
 ],
 "metadata": {
  "kernelspec": {
   "display_name": "edge-cases-env",
   "language": "python",
   "name": "python3"
  },
  "language_info": {
   "codemirror_mode": {
    "name": "ipython",
    "version": 3
   },
   "file_extension": ".py",
   "mimetype": "text/x-python",
   "name": "python",
   "nbconvert_exporter": "python",
   "pygments_lexer": "ipython3",
   "version": "3.9.1"
  }
 },
 "nbformat": 4,
 "nbformat_minor": 2
}
